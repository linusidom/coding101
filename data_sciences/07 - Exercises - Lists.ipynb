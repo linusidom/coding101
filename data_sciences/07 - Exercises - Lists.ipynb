{
 "cells": [
  {
   "cell_type": "markdown",
   "id": "67f7610f",
   "metadata": {},
   "source": [
    "### Exercises Lists"
   ]
  },
  {
   "cell_type": "code",
   "execution_count": 4,
   "id": "967363e3",
   "metadata": {},
   "outputs": [],
   "source": [
    "# Create a list of the following elements and call it list1\n",
    "\n",
    "# 'I am a string',\"I'm a string too\", 555, ['I', 'am', 'a', 'list', 'of', 'strings']\n",
    "\n",
    "list1 = ['I am a string', \"I'm a string too\", 555, ['I','am','a','list', 'of', 'strings']]\n",
    "\n",
    "# Type your code above this line"
   ]
  },
  {
   "cell_type": "code",
   "execution_count": 6,
   "id": "07a59de7",
   "metadata": {},
   "outputs": [
    {
     "data": {
      "text/plain": [
       "['I am a string',\n",
       " \"I'm a string too\",\n",
       " 555,\n",
       " ['I', 'am', 'a', 'list', 'of', 'strings']]"
      ]
     },
     "execution_count": 6,
     "metadata": {},
     "output_type": "execute_result"
    }
   ],
   "source": [
    "list1"
   ]
  },
  {
   "cell_type": "code",
   "execution_count": 12,
   "id": "626ec342",
   "metadata": {},
   "outputs": [
    {
     "data": {
      "text/plain": [
       "['I am a string',\n",
       " \"I'm a string too\",\n",
       " 555555,\n",
       " ['I', 'am', 'a', 'list', 'of', 'strings']]"
      ]
     },
     "execution_count": 12,
     "metadata": {},
     "output_type": "execute_result"
    }
   ],
   "source": [
    "# Change the 2nd item in list1 to be 55555555\n",
    "\n",
    "\n",
    "list1[2] = 555555\n",
    "list1\n",
    "\n",
    "# Type your code above this line"
   ]
  },
  {
   "cell_type": "code",
   "execution_count": 40,
   "id": "bdf09e96",
   "metadata": {},
   "outputs": [],
   "source": [
    "# Add 'Okay I get it!' to the end of list1\n",
    "\n",
    "list1.append('Okay I get it!')\n",
    "\n",
    "# Type your code above this line"
   ]
  },
  {
   "cell_type": "code",
   "execution_count": 41,
   "id": "58f26129",
   "metadata": {},
   "outputs": [
    {
     "data": {
      "text/plain": [
       "['I am a string',\n",
       " \"I'm a string too\",\n",
       " 555555,\n",
       " ['I', 'am', 'a', 'list', 'of', 'strings'],\n",
       " 'Okay I get it!']"
      ]
     },
     "execution_count": 41,
     "metadata": {},
     "output_type": "execute_result"
    }
   ],
   "source": [
    "list1"
   ]
  },
  {
   "cell_type": "code",
   "execution_count": 43,
   "id": "795a3734",
   "metadata": {},
   "outputs": [
    {
     "data": {
      "text/plain": [
       "555555"
      ]
     },
     "execution_count": 43,
     "metadata": {},
     "output_type": "execute_result"
    }
   ],
   "source": [
    "# Remove the number in the list1 so that there are only strings left\n",
    "\n",
    "list1.pop(2)\n",
    "\n",
    "# Type your code above this line"
   ]
  },
  {
   "cell_type": "code",
   "execution_count": 44,
   "id": "2c914771",
   "metadata": {},
   "outputs": [
    {
     "data": {
      "text/plain": [
       "['I am a string',\n",
       " \"I'm a string too\",\n",
       " ['I', 'am', 'a', 'list', 'of', 'strings'],\n",
       " 'Okay I get it!']"
      ]
     },
     "execution_count": 44,
     "metadata": {},
     "output_type": "execute_result"
    }
   ],
   "source": [
    "list1"
   ]
  },
  {
   "cell_type": "code",
   "execution_count": 49,
   "id": "f1cf5b16",
   "metadata": {},
   "outputs": [],
   "source": [
    "# Copy list1 to list2 and add 'this is a copy, not the orignal, python can be annoying' to the end of list2\n",
    "# Check to make sure that list1 was not changed as well\n",
    "list2 = list1[:]\n",
    "\n",
    "import copy\n",
    "copied_list = copy.deepcopy(list1)\n",
    "\n",
    "# Type your code above this line"
   ]
  },
  {
   "cell_type": "code",
   "execution_count": 50,
   "id": "fb604ed5",
   "metadata": {},
   "outputs": [],
   "source": [
    "copied_list.append('this is a copy, not the original')"
   ]
  },
  {
   "cell_type": "code",
   "execution_count": 51,
   "id": "b9c489b0",
   "metadata": {},
   "outputs": [
    {
     "data": {
      "text/plain": [
       "['I am a string',\n",
       " \"I'm a string too\",\n",
       " ['I', 'am', 'a', 'list', 'of', 'strings'],\n",
       " 'Okay I get it!',\n",
       " 'this is a copy, not the original']"
      ]
     },
     "execution_count": 51,
     "metadata": {},
     "output_type": "execute_result"
    }
   ],
   "source": [
    "copied_list"
   ]
  },
  {
   "cell_type": "code",
   "execution_count": 52,
   "id": "33b4f5a0",
   "metadata": {},
   "outputs": [
    {
     "data": {
      "text/plain": [
       "['I am a string',\n",
       " \"I'm a string too\",\n",
       " ['I', 'am', 'a', 'list', 'of', 'strings'],\n",
       " 'Okay I get it!']"
      ]
     },
     "execution_count": 52,
     "metadata": {},
     "output_type": "execute_result"
    }
   ],
   "source": [
    "list1"
   ]
  },
  {
   "cell_type": "code",
   "execution_count": null,
   "id": "b91be87f",
   "metadata": {},
   "outputs": [],
   "source": []
  },
  {
   "cell_type": "code",
   "execution_count": 63,
   "id": "31ae3cbf",
   "metadata": {},
   "outputs": [
    {
     "data": {
      "text/plain": [
       "15"
      ]
     },
     "execution_count": 63,
     "metadata": {},
     "output_type": "execute_result"
    }
   ],
   "source": [
    "string1 = 'You*really*want*me*to*split*this*string?'\n",
    "\n",
    "# split the following by the '*'\n",
    "# What is the length of the split string?\n",
    "\n",
    "split_string = string1.split('*')\n",
    "len(split_string) # 8\n",
    "\n",
    "\n",
    "# add 'Yup,_but_now_join_it_with_underscores' to the split string\n",
    "# What is the length of the split string after adding the step above?\n",
    "\n",
    "split_string.append('Yup,_but_now_join_it_with_underscores')\n",
    "len(split_string) #9\n",
    "\n",
    "# join the split string with '_' for spaces\n",
    "# split the above string again :)\n",
    "# What is the length of the split string after the step above?\n",
    "\n",
    "join_with_underscore = '_'.join(split_string)\n",
    "split_string = join_with_underscore.split('_')\n",
    "len(split_string) #15\n",
    "\n",
    "\n",
    "# Type your code above this line"
   ]
  },
  {
   "cell_type": "code",
   "execution_count": 59,
   "id": "a79bae6e",
   "metadata": {},
   "outputs": [
    {
     "data": {
      "text/plain": [
       "['You',\n",
       " 'really',\n",
       " 'want',\n",
       " 'me',\n",
       " 'to',\n",
       " 'split',\n",
       " 'this',\n",
       " 'string?',\n",
       " 'Yup,_but_now_join_it_with_underscores']"
      ]
     },
     "execution_count": 59,
     "metadata": {},
     "output_type": "execute_result"
    }
   ],
   "source": [
    "split_string"
   ]
  },
  {
   "cell_type": "code",
   "execution_count": 64,
   "id": "d98f4b6f",
   "metadata": {},
   "outputs": [],
   "source": [
    "nested_list = ['this', ['is', ['a'], ['nested'],['list'], 'change_me', ['with', 'lots', ['of', 'items'], 'in'],'it']]\n",
    "# Change the word 'change_me' to 'FOUND IT!'  That was really annoying'\n",
    "\n",
    "\n",
    "# Type your code above this line"
   ]
  },
  {
   "cell_type": "code",
   "execution_count": 68,
   "id": "3e14aace",
   "metadata": {},
   "outputs": [],
   "source": [
    "nested_list[1][4] = 'FOUND IT!!'"
   ]
  },
  {
   "cell_type": "code",
   "execution_count": 69,
   "id": "487015fb",
   "metadata": {},
   "outputs": [
    {
     "data": {
      "text/plain": [
       "['this',\n",
       " ['is',\n",
       "  ['a'],\n",
       "  ['nested'],\n",
       "  ['list'],\n",
       "  'FOUND IT!!',\n",
       "  ['with', 'lots', ['of', 'items'], 'in'],\n",
       "  'it']]"
      ]
     },
     "execution_count": 69,
     "metadata": {},
     "output_type": "execute_result"
    }
   ],
   "source": [
    "nested_list"
   ]
  },
  {
   "cell_type": "code",
   "execution_count": null,
   "id": "e33e45e8",
   "metadata": {},
   "outputs": [],
   "source": []
  },
  {
   "cell_type": "code",
   "execution_count": null,
   "id": "e788a81b",
   "metadata": {},
   "outputs": [],
   "source": []
  },
  {
   "cell_type": "code",
   "execution_count": null,
   "id": "2381f7dc",
   "metadata": {},
   "outputs": [],
   "source": []
  },
  {
   "cell_type": "code",
   "execution_count": null,
   "id": "2743efd5",
   "metadata": {},
   "outputs": [],
   "source": []
  },
  {
   "cell_type": "code",
   "execution_count": null,
   "id": "2bac9a2b",
   "metadata": {},
   "outputs": [],
   "source": []
  },
  {
   "cell_type": "code",
   "execution_count": null,
   "id": "ab42726e",
   "metadata": {},
   "outputs": [],
   "source": []
  },
  {
   "cell_type": "code",
   "execution_count": null,
   "id": "23e7d124",
   "metadata": {},
   "outputs": [],
   "source": []
  },
  {
   "cell_type": "code",
   "execution_count": null,
   "id": "d9b7a8b8",
   "metadata": {},
   "outputs": [],
   "source": []
  },
  {
   "cell_type": "code",
   "execution_count": null,
   "id": "342c0432",
   "metadata": {},
   "outputs": [],
   "source": []
  }
 ],
 "metadata": {
  "kernelspec": {
   "display_name": "Python 3 (ipykernel)",
   "language": "python",
   "name": "python3"
  },
  "language_info": {
   "codemirror_mode": {
    "name": "ipython",
    "version": 3
   },
   "file_extension": ".py",
   "mimetype": "text/x-python",
   "name": "python",
   "nbconvert_exporter": "python",
   "pygments_lexer": "ipython3",
   "version": "3.9.10"
  }
 },
 "nbformat": 4,
 "nbformat_minor": 5
}

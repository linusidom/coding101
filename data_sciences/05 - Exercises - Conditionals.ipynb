{
 "cells": [
  {
   "cell_type": "markdown",
   "id": "b4aba517",
   "metadata": {},
   "source": [
    "# Conditional's Exercises"
   ]
  },
  {
   "cell_type": "markdown",
   "id": "3485fc2d",
   "metadata": {},
   "source": [
    "### Welcome to the Data Sciences Buffet\n",
    "\n",
    "Children under 12 can eat for 75% off  \n",
    "Adults over 55 eat for 50% off  \n",
    "Otherwise everyone else is charged the standard price\n",
    "\n",
    "Buffet standard Price is ฿400  \n",
    "Dessert costs ฿50 per person"
   ]
  },
  {
   "cell_type": "code",
   "execution_count": 25,
   "id": "3ad1fc29",
   "metadata": {},
   "outputs": [
    {
     "name": "stdout",
     "output_type": "stream",
     "text": [
      "Enter your Age: 20\n",
      "Would you like Dessert: 'yes' or 'no'  yes\n"
     ]
    }
   ],
   "source": [
    "age = int(input('Enter your Age: '))\n",
    "dessert = input(\"Would you like Dessert: 'yes' or 'no'  \")"
   ]
  },
  {
   "cell_type": "code",
   "execution_count": 26,
   "id": "8a1bf5e4",
   "metadata": {},
   "outputs": [
    {
     "name": "stdout",
     "output_type": "stream",
     "text": [
      "Your total bill is: 450\n"
     ]
    }
   ],
   "source": [
    "# Create an if elif else conditional logic for the conditions above\n",
    "# The final output should be the total bill for the person\n",
    "\n",
    "total_bill = 0\n",
    "buffet_price = 400\n",
    "dessert_price = 50\n",
    "\n",
    "# if age <= 12:\n",
    "# #     total_bill = total_bill + (buffet_price * 0.25)\n",
    "#     total_bill += buffet_price * 0.25 # shorthand way to write the above with +=\n",
    "#     if dessert == 'yes':\n",
    "#         total_bill += dessert_price\n",
    "# elif age >= 55:\n",
    "#     total_bill += buffet_price * 0.5\n",
    "#     if dessert == 'yes':\n",
    "#         total_bill += dessert_price\n",
    "# else:\n",
    "#     total_bill += buffet_price\n",
    "#     if dessert == 'yes':\n",
    "#         total_bill += dessert_price\n",
    "\n",
    "\n",
    "\n",
    "if dessert == 'yes':\n",
    "    total_bill += dessert_price\n",
    "\n",
    "if age <= 12:\n",
    "    total_bill += buffet_price * 0.25\n",
    "elif age < 55:\n",
    "    total_bill += buffet_price\n",
    "else:\n",
    "    total_bill += buffet_price * 0.5\n",
    "\n",
    "\n",
    "# Type your code above this line\n",
    "\n",
    "print(f'Your total bill is: {total_bill}')"
   ]
  },
  {
   "cell_type": "code",
   "execution_count": null,
   "id": "e967df05",
   "metadata": {},
   "outputs": [],
   "source": []
  },
  {
   "cell_type": "code",
   "execution_count": null,
   "id": "69c7529e",
   "metadata": {},
   "outputs": [],
   "source": []
  },
  {
   "cell_type": "code",
   "execution_count": null,
   "id": "927355e9",
   "metadata": {},
   "outputs": [],
   "source": []
  },
  {
   "cell_type": "code",
   "execution_count": null,
   "id": "508c19a2",
   "metadata": {},
   "outputs": [],
   "source": []
  },
  {
   "cell_type": "code",
   "execution_count": null,
   "id": "ca09574b",
   "metadata": {},
   "outputs": [],
   "source": []
  },
  {
   "cell_type": "code",
   "execution_count": null,
   "id": "1891c767",
   "metadata": {},
   "outputs": [],
   "source": []
  },
  {
   "cell_type": "code",
   "execution_count": null,
   "id": "e338eb32",
   "metadata": {},
   "outputs": [],
   "source": []
  },
  {
   "cell_type": "code",
   "execution_count": null,
   "id": "1c4dbd0e",
   "metadata": {},
   "outputs": [],
   "source": []
  }
 ],
 "metadata": {
  "kernelspec": {
   "display_name": "Python 3 (ipykernel)",
   "language": "python",
   "name": "python3"
  },
  "language_info": {
   "codemirror_mode": {
    "name": "ipython",
    "version": 3
   },
   "file_extension": ".py",
   "mimetype": "text/x-python",
   "name": "python",
   "nbconvert_exporter": "python",
   "pygments_lexer": "ipython3",
   "version": "3.9.10"
  }
 },
 "nbformat": 4,
 "nbformat_minor": 5
}

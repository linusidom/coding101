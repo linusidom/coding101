{
 "cells": [
  {
   "cell_type": "markdown",
   "id": "ea5578a6",
   "metadata": {},
   "source": [
    "# Function Basics Exercises"
   ]
  },
  {
   "cell_type": "code",
   "execution_count": 75,
   "id": "00ad487f",
   "metadata": {},
   "outputs": [
    {
     "name": "stdout",
     "output_type": "stream",
     "text": [
      "Min 9\n",
      "Max 91\n",
      "Sum 972\n",
      "Avg 48.6\n"
     ]
    }
   ],
   "source": [
    "list1 = [57, 17, 83, 74, 35, 75, 27, 32, 80, 35, 60, 82, 90, 91, 36, 26, 9, 22, 13, 28]\n",
    "# Write a 4 python functions to find the min, max, sum and avg of the list\n",
    "\n",
    "# my_min, my_max, my_sum, my_avg\n",
    "\n",
    "def my_min(arr):\n",
    "    min_val = arr[0]\n",
    "    for i in arr:\n",
    "        if min_val > i:\n",
    "            min_val = i\n",
    "    return min_val\n",
    "        \n",
    "print('Min', my_min(list1))    \n",
    "\n",
    "def my_max(arr):\n",
    "    max_val = arr[0]\n",
    "    for i in arr:\n",
    "        if max_val < i:\n",
    "            max_val = i\n",
    "    return max_val\n",
    "\n",
    "print('Max', my_max(list1))\n",
    "\n",
    "\n",
    "\n",
    "def my_sum(l):\n",
    "    total = 0\n",
    "    for i in l:\n",
    "        total += i\n",
    "    return total\n",
    "\n",
    "print('Sum', my_sum(list1))\n",
    "# print('Avg', my_sum(list1) / len(list1))\n",
    "\n",
    "\n",
    "def my_avg(l):\n",
    "    total = 0\n",
    "    for i in l:\n",
    "        total += i\n",
    "    return total / len(l)\n",
    "\n",
    "print('Avg', my_avg(list1))\n",
    "\n",
    "\n",
    "\n",
    "# Type your code above this line\n",
    "# Output: Min 9  Max 91  Sum 972  Average 48.6"
   ]
  },
  {
   "cell_type": "code",
   "execution_count": 83,
   "id": "a4d2a356",
   "metadata": {},
   "outputs": [
    {
     "name": "stdout",
     "output_type": "stream",
     "text": [
      "[116, 60, 8, 40, 24, 188, 196, 108, 168, 176]\n",
      "[4, 48, 128, 72, 100, 196, 84, 180, 172, 72]\n",
      "[20, 52, 104, 72, 16, 16, 132, 140, 88, 28, 104, 20]\n",
      "[128, 172, 132, 188, 124, 192, 68, 136, 76, 96, 80, 64, 4, 80, 132]\n"
     ]
    }
   ],
   "source": [
    "multiply_list1 = [67, 58, 1, 33, 51, 39, 30, 4, 20, 12, 94, 98, 75, 54, 84, 43, 88, 23, 69, 11]\n",
    "multiply_list2 = [61, 2, 13, 24, 64, 25, 37, 36, 57, 50, 11, 97, 53, 98, 42, 90, 86, 25, 36, 69]\n",
    "multiply_list3 = [10, 26, 51, 52, 21, 1, 36, 8, 85, 8, 66, 57, 7, 70, 44, 14, 39, 52, 10, 3]\n",
    "multiply_list4 = [64, 86, 66, 94, 62, 96, 34, 68, 79, 1, 38, 63, 11, 48, 40, 32, 2, 40, 5, 66]\n",
    "\n",
    "# Write a python function to multiply all the even numbers in the lists by 2\n",
    "# my_multiplier\n",
    "\n",
    "\n",
    "def my_mutliplier(arr):\n",
    "    \n",
    "#     result = []\n",
    "#     for i in arr:\n",
    "#         if i % 2 == 0:\n",
    "# #             print(i * 2)\n",
    "#             result.append(i * 2)\n",
    "#     return result\n",
    "\n",
    "    return [i * 2 for i in arr if i % 2 == 0]\n",
    "\n",
    "print(my_mutliplier(multiply_list1))\n",
    "print(my_mutliplier(multiply_list2))\n",
    "print(my_mutliplier(multiply_list3))\n",
    "print(my_mutliplier(multiply_list4))\n",
    "\n",
    "\n",
    "\n",
    "# Type your code above this line\n",
    "\n",
    "# Output\n",
    "# [116, 60, 8, 40, 24, 188, 196, 108, 168, 176]\n",
    "# [4, 48, 128, 72, 100, 196, 84, 180, 172, 72]\n",
    "# [20, 52, 104, 72, 16, 16, 132, 140, 88, 28, 104, 20]\n",
    "# [128, 172, 132, 188, 124, 192, 68, 136, 76, 96, 80, 64, 4, 80, 132]"
   ]
  },
  {
   "cell_type": "code",
   "execution_count": 95,
   "id": "9a28b726",
   "metadata": {},
   "outputs": [
    {
     "name": "stdout",
     "output_type": "stream",
     "text": [
      "{'string': 'CgUgdvuXVvTFucuYxgmT', 'upper': 8, 'lower': 12}\n",
      "{'string': 'IpEqrRRCxmqYRmSXVsPN', 'upper': 12, 'lower': 8}\n",
      "{'string': 'nCkXqwckFOQGuWuOlbpF', 'upper': 9, 'lower': 11}\n",
      "{'string': 'LXfRtLaXMRUNUQDKUFVu', 'upper': 16, 'lower': 4}\n"
     ]
    }
   ],
   "source": [
    "string1 = 'CgUgdvuXVvTFucuYxgmT'\n",
    "string2 = 'IpEqrRRCxmqYRmSXVsPN'\n",
    "string3 = 'nCkXqwckFOQGuWuOlbpF'\n",
    "string4 = 'LXfRtLaXMRUNUQDKUFVu'\n",
    "\n",
    "# Write a function that returns both the number of uppercase letters and the number of lowercase letters for each string\n",
    "\n",
    "def my_counter(variable_name_of_my_choice):\n",
    "    upper = 0\n",
    "    lower = 0\n",
    "\n",
    "    for i in variable_name_of_my_choice:\n",
    "        if i.isupper():\n",
    "            upper += 1\n",
    "        elif i.islower():\n",
    "            lower += 1\n",
    "\n",
    "#     print(upper, lower)\n",
    "    return {'string':variable_name_of_my_choice, 'upper': upper, 'lower': lower}\n",
    "\n",
    "print(my_counter(string1))\n",
    "print(my_counter(string2))\n",
    "print(my_counter(string3))\n",
    "print(my_counter(string4))\n",
    "\n",
    "\n",
    "# Type your code above this line\n",
    "\n",
    "# Output\n",
    "# (8, 12)\n",
    "# (12, 8)\n",
    "# (9, 11)\n",
    "# (16, 4)"
   ]
  },
  {
   "cell_type": "code",
   "execution_count": 102,
   "id": "fd306e2d",
   "metadata": {},
   "outputs": [
    {
     "name": "stdout",
     "output_type": "stream",
     "text": [
      "[2, 4, 1, 3, 5]\n",
      "[15, 8, 6, 11, 13, 16, 14, 19, 10, 9, 7]\n",
      "[32, 37, 30, 35, 36, 31, 33, 34]\n",
      "[54, 52, 51, 53, 55, 50]\n"
     ]
    }
   ],
   "source": [
    "unique_list1 = [2, 4, 1, 3, 3, 5, 5, 2, 3, 3, 2, 3, 1, 1, 3, 5, 5, 2, 5, 2]\n",
    "unique_list2 = [15, 8, 6, 11, 11, 13, 16, 14, 19, 13, 10, 14, 16, 9, 13, 6, 7, 6, 7, 14]\n",
    "unique_list3 = [32, 37, 30, 35, 36, 31, 35, 35, 32, 35, 33, 34, 37, 37, 31, 34, 32, 31, 31]\n",
    "unique_list4 = [54, 52, 51, 51, 51, 51, 54, 53, 52, 51, 54, 54, 55, 53, 52, 50, 52, 52, 54]\n",
    "# Write a function that returns only the unique elements of the lists\n",
    "\n",
    "\n",
    "# print(set(unique_list1))\n",
    "# print(set(unique_list2))\n",
    "# print(set(unique_list3))\n",
    "# print(set(unique_list4))\n",
    "\n",
    "\n",
    "def my_unique(arr):\n",
    "\n",
    "#   Not a good use case for list comprehension\n",
    "    result = []\n",
    "    \n",
    "    for i in arr:\n",
    "        if not i in result:\n",
    "            result.append(i)\n",
    "\n",
    "    return result\n",
    "\n",
    "    \n",
    "    \n",
    "    \n",
    "\n",
    "print(my_unique(unique_list1))\n",
    "print(my_unique(unique_list2))\n",
    "print(my_unique(unique_list3))\n",
    "print(my_unique(unique_list4))\n",
    "# Type your code above this line\n",
    "\n",
    "# Answer\n",
    "\n",
    "# [2, 4, 1, 3, 5]\n",
    "# [15, 8, 6, 11, 13, 16, 14, 19, 10, 9, 7]\n",
    "# [32, 37, 30, 35, 36, 31, 33, 34]\n",
    "# [54, 52, 51, 53, 55, 50]"
   ]
  },
  {
   "cell_type": "code",
   "execution_count": null,
   "id": "c5392ddf",
   "metadata": {},
   "outputs": [],
   "source": []
  },
  {
   "cell_type": "code",
   "execution_count": null,
   "id": "95266e92",
   "metadata": {},
   "outputs": [],
   "source": []
  },
  {
   "cell_type": "code",
   "execution_count": null,
   "id": "6e336197",
   "metadata": {},
   "outputs": [],
   "source": []
  },
  {
   "cell_type": "code",
   "execution_count": null,
   "id": "204d9f11",
   "metadata": {},
   "outputs": [],
   "source": []
  },
  {
   "cell_type": "code",
   "execution_count": null,
   "id": "4a70de51",
   "metadata": {},
   "outputs": [],
   "source": []
  },
  {
   "cell_type": "code",
   "execution_count": null,
   "id": "897a678c",
   "metadata": {},
   "outputs": [],
   "source": []
  }
 ],
 "metadata": {
  "kernelspec": {
   "display_name": "Python 3 (ipykernel)",
   "language": "python",
   "name": "python3"
  },
  "language_info": {
   "codemirror_mode": {
    "name": "ipython",
    "version": 3
   },
   "file_extension": ".py",
   "mimetype": "text/x-python",
   "name": "python",
   "nbconvert_exporter": "python",
   "pygments_lexer": "ipython3",
   "version": "3.9.10"
  }
 },
 "nbformat": 4,
 "nbformat_minor": 5
}

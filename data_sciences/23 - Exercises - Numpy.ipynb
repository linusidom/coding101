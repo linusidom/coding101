{
 "cells": [
  {
   "cell_type": "markdown",
   "id": "36c68c7b",
   "metadata": {},
   "source": [
    "# NumPy Exercises"
   ]
  },
  {
   "cell_type": "code",
   "execution_count": 44,
   "id": "e94e101f",
   "metadata": {},
   "outputs": [],
   "source": [
    "# Import Numpy\n",
    "\n",
    "import numpy as np\n",
    "\n",
    "# Type your code above this line"
   ]
  },
  {
   "cell_type": "code",
   "execution_count": 47,
   "id": "72f8fd6a",
   "metadata": {},
   "outputs": [
    {
     "data": {
      "text/plain": [
       "(array([ 0,  2,  4,  6,  8, 10, 12, 14, 16, 18]),\n",
       " array([30, 32, 34, 36, 38, 40, 42, 44, 46, 48]))"
      ]
     },
     "execution_count": 47,
     "metadata": {},
     "output_type": "execute_result"
    }
   ],
   "source": [
    "# Create 2 arrays\n",
    "# 'a' will be a 1-dimensional array going from 0 to 20 printing every other value\n",
    "# 'b' will be a 1-dimensional array going from 30 to 50 printing every other value\n",
    "\n",
    "\n",
    "a = np.arange(0,20,2)\n",
    "b = np.arange(30,50,2)\n",
    "a, b\n",
    "\n",
    "# Type your code above this line\n",
    "\n",
    "# array([ 0,  2,  4,  6,  8, 10, 12, 14, 16, 18])\n",
    "# array([30, 32, 34, 36, 38, 40, 42, 44, 46, 48])"
   ]
  },
  {
   "cell_type": "code",
   "execution_count": 51,
   "id": "b48e990e",
   "metadata": {},
   "outputs": [
    {
     "name": "stdout",
     "output_type": "stream",
     "text": [
      "[30 34 38 42 46 50 54 58 62 66]\n",
      "[nan inf inf inf inf inf inf inf inf inf]\n",
      "[1500 1600 1700 1800 1900 2000 2100 2200 2300 2400]\n"
     ]
    },
    {
     "name": "stderr",
     "output_type": "stream",
     "text": [
      "/var/folders/l_/qm4dplj969j0tcpycqgttbwc0000gn/T/ipykernel_78028/3406623875.py:6: RuntimeWarning: divide by zero encountered in true_divide\n",
      "  print(a / 0)\n",
      "/var/folders/l_/qm4dplj969j0tcpycqgttbwc0000gn/T/ipykernel_78028/3406623875.py:6: RuntimeWarning: invalid value encountered in true_divide\n",
      "  print(a / 0)\n"
     ]
    }
   ],
   "source": [
    "# Add 'a' and 'b' together\n",
    "# Divide 'a' by 0\n",
    "# Multiply 'b' by 50\n",
    "\n",
    "print(a + b)\n",
    "print(a / 0)\n",
    "print(b * 50)\n",
    "\n",
    "\n",
    "\n",
    "\n",
    "# Type your code above this line\n",
    "\n",
    "# array([30, 34, 38, 42, 46, 50, 54, 58, 62, 66])\n",
    "# array([nan, inf, inf, inf, inf, inf, inf, inf, inf, inf])\n",
    "# array([1500, 1600, 1700, 1800, 1900, 2000, 2100, 2200, 2300, 2400])"
   ]
  },
  {
   "cell_type": "code",
   "execution_count": 97,
   "id": "42f1a166",
   "metadata": {},
   "outputs": [
    {
     "data": {
      "text/plain": [
       "(3, 8)"
      ]
     },
     "execution_count": 97,
     "metadata": {},
     "output_type": "execute_result"
    }
   ],
   "source": [
    "# Create an array with 24 randomly selected values between -99 and 99\n",
    "# Convert this into a 3x8 Matrix\n",
    "\n",
    "# arr = np.random.randint(-99,99, 24)\n",
    "# arr = arr.reshape(3,8)\n",
    "\n",
    "arr = np.random.randint(-99,99, 24).reshape(3,8)\n",
    "\n",
    "\n",
    "arr.shape\n",
    "\n",
    "\n",
    "\n",
    "\n",
    "# Type your code above this line\n",
    "\n",
    "# Values don't have to match\n",
    "# array([[ 21,  80,  56,  26,  74,  -6, -42,  51],\n",
    "#        [ 80,  94, -52, -55, -17, -13, -50, -12],\n",
    "#        [-55, -43, -13,  15,  22,  28,  -4, -87]])\n"
   ]
  },
  {
   "cell_type": "code",
   "execution_count": 114,
   "id": "c758af57",
   "metadata": {},
   "outputs": [
    {
     "name": "stdout",
     "output_type": "stream",
     "text": [
      "[[-52 -43  63  82  -3 -65 -99  19]\n",
      " [-83 -41  70 -67 -77  -5  92  19]\n",
      " [ 56 -77  84  97  89 -13 -10  82]]\n",
      "Min -99\n",
      "Max 97\n",
      "Min Location (0, 6)\n",
      "Max Location (2, 3)\n",
      "Min Value -99\n",
      "Max Value 97\n"
     ]
    }
   ],
   "source": [
    "# Find location of the min and max values from the Matrix\n",
    "\n",
    "print(arr)\n",
    "print('Min',arr.min())\n",
    "print('Max',arr.max())\n",
    "\n",
    "arr.argmin()\n",
    "arr.argmax()\n",
    "\n",
    "print('Min Location', np.unravel_index(arr.argmin(), arr.shape))\n",
    "print('Max Location', np.unravel_index(arr.argmax(), arr.shape))\n",
    "\n",
    "\n",
    "print('Min Value', arr[np.unravel_index(arr.argmin(), arr.shape)])\n",
    "print('Max Value', arr[np.unravel_index(arr.argmax(), arr.shape)])\n",
    "\n",
    "# Type your code above this line\n",
    "\n",
    "# Values don't have to match\n",
    "# (1, 5)\n",
    "# (0, 4)"
   ]
  },
  {
   "cell_type": "code",
   "execution_count": 121,
   "id": "5360e218",
   "metadata": {},
   "outputs": [
    {
     "data": {
      "text/plain": [
       "array([[ 1,  0,  1,  1],\n",
       "       [ 1, -1, -1, -1],\n",
       "       [-1, -1, -1,  1],\n",
       "       [-1, -1,  1, -1],\n",
       "       [ 1, -1, -1, -1],\n",
       "       [-1, -1,  1, -1],\n",
       "       [-1,  1, -1, -1],\n",
       "       [-1, -1,  1, -1]])"
      ]
     },
     "execution_count": 121,
     "metadata": {},
     "output_type": "execute_result"
    }
   ],
   "source": [
    "# Create an array fro -10 to 10 with 32 values\n",
    "# Reshape the array to an 8x4 array\n",
    "# Change the values greater than 0 to be 1\n",
    "# Change the values less than 0 to be -1\n",
    "\n",
    "\n",
    "arr = np.random.randint(-10,10,32).reshape(8,4)\n",
    "arr[arr > 0] = 1\n",
    "arr[arr < 0] = -1\n",
    "arr\n",
    "\n",
    "\n",
    "\n",
    "# Type your code above this line\n",
    "\n",
    "# Values don't have to match\n",
    "# array([[-1,  1,  1, -1],\n",
    "#        [ 1, -1,  1,  1],\n",
    "#        [-1,  1,  1,  1],\n",
    "#        [ 0, -1, -1,  1],\n",
    "#        [ 1, -1, -1,  0],\n",
    "#        [-1, -1,  1,  1],\n",
    "#        [-1,  1,  1,  1],\n",
    "#        [-1,  1,  1,  1]])"
   ]
  },
  {
   "cell_type": "code",
   "execution_count": null,
   "id": "58637c92",
   "metadata": {},
   "outputs": [],
   "source": []
  },
  {
   "cell_type": "code",
   "execution_count": null,
   "id": "81785d47",
   "metadata": {},
   "outputs": [],
   "source": []
  },
  {
   "cell_type": "code",
   "execution_count": null,
   "id": "c3b9c724",
   "metadata": {},
   "outputs": [],
   "source": []
  },
  {
   "cell_type": "code",
   "execution_count": null,
   "id": "5bda4017",
   "metadata": {},
   "outputs": [],
   "source": []
  },
  {
   "cell_type": "code",
   "execution_count": null,
   "id": "f4dcdfae",
   "metadata": {},
   "outputs": [],
   "source": []
  },
  {
   "cell_type": "code",
   "execution_count": null,
   "id": "dce91cd0",
   "metadata": {},
   "outputs": [],
   "source": []
  },
  {
   "cell_type": "code",
   "execution_count": null,
   "id": "05a89ecc",
   "metadata": {},
   "outputs": [],
   "source": []
  },
  {
   "cell_type": "code",
   "execution_count": null,
   "id": "37124e82",
   "metadata": {},
   "outputs": [],
   "source": []
  },
  {
   "cell_type": "code",
   "execution_count": null,
   "id": "11e2169e",
   "metadata": {},
   "outputs": [],
   "source": []
  },
  {
   "cell_type": "code",
   "execution_count": null,
   "id": "ef93a855",
   "metadata": {},
   "outputs": [],
   "source": []
  }
 ],
 "metadata": {
  "kernelspec": {
   "display_name": "Python 3 (ipykernel)",
   "language": "python",
   "name": "python3"
  },
  "language_info": {
   "codemirror_mode": {
    "name": "ipython",
    "version": 3
   },
   "file_extension": ".py",
   "mimetype": "text/x-python",
   "name": "python",
   "nbconvert_exporter": "python",
   "pygments_lexer": "ipython3",
   "version": "3.9.10"
  }
 },
 "nbformat": 4,
 "nbformat_minor": 5
}

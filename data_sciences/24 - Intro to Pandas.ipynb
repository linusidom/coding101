{
 "cells": [
  {
   "cell_type": "markdown",
   "id": "c3b9352e",
   "metadata": {},
   "source": [
    "# Pandas - Python Data Analysis Library\n",
    "\n",
    "### What is Pandas?\n",
    "Pandas is Python's version of Excel but much faster once we get the hang of it\n",
    "\n",
    "### Why should we learn Pandas?\n",
    "Pandas provides the easiest way to work through large data sets and visualize patterns\n",
    "\n",
    "The real power of Pandas is in data cleanup and data visualization\n",
    "\n",
    "Works with a variety of data sources, most common is CSV\n",
    "\n",
    "### What do I need to know?\n",
    "Series vs Data Frame\n",
    "\n",
    "Accessing Data\n",
    "\n",
    "Data manipulation and cleanup\n",
    "\n",
    "Data Visualization with MatPlotLib, Chart Studio, Seaborn, Cufflinks and Plotly\n",
    "\n",
    "### Getting Started with Pandas\n",
    "\n",
    "Pandas has 2 main ways to look at data, Series and DataFrame\n",
    "\n",
    "`\n",
    "pip install pandas\n",
    "`\n",
    "\n",
    "`\n",
    "import pandas as pd\n",
    "`\n",
    "\n",
    "###### Series\n",
    "Series is a single Column with multiple rows\n",
    "\n",
    "One-Dimensional Array, ie list converted to column\n",
    "\n",
    "`pd.Series(list1, index)`\n",
    "\n",
    "###### Data Frame\n",
    "DataFrame is comprised of mulitple columns and multiple rows\n",
    "\n",
    "Two-Dimensional Array, ie dictionary or nested list converted to a table\n",
    "\n",
    "`pd.DataFrame(data, index, columns)`\n",
    "\n",
    "\n",
    "### Series\n",
    "\n",
    "###### Create a series\n",
    "Create a Pandas Series (Single Column)\n",
    "\n",
    "With Lists\n",
    "\n",
    "`\n",
    "data = [10,20,30]\n",
    "index = ['a','b','c']\n",
    "pd.Series(data=data, index=index)\n",
    "`\n",
    "\n",
    "With Dictionary (automatically extracts labels)\n",
    "\n",
    "`\n",
    "data = {'a': 10, 'b': 20, 'c': 30}\n",
    "pd.Series(data=data)\n",
    "`\n",
    "\n",
    "Output:\n",
    "\n",
    "`\n",
    "a    10\n",
    "b    20\n",
    "c    30\n",
    "`\n",
    "\n",
    "###### Indexing\n",
    "\n",
    "Most all functions in Pandas are done off the index so it's good to know\n",
    "\n",
    "`\n",
    "ser1 = pd.Series([1,2,3,4], ['Red','Green','Yellow','Blue'])\n",
    "ser1['Red']\n",
    "ser1[0]\n",
    "`\n",
    "\n",
    "###### Combining Series\n",
    "Can use Mathematical operations +, - , * , /\n",
    "\n",
    "For indexes that don't exist, Pandas will fill it in with a Nan (from numpy)\n",
    "\n",
    "`\n",
    "ser1 = pd.Series([1,2,3,4], ['Red','Green','Yellow','Blue'])\n",
    "ser2 = pd.Series([1,2,3,4], ['Red','Green','Yellow','Purple'])\n",
    "`\n",
    "\n",
    "`\n",
    "print(ser1 + ser2)\n",
    "Blue      NaN\n",
    "Green     4.0\n",
    "Purple    NaN\n",
    "Red       2.0\n",
    "Yellow    6.0\n",
    "`\n"
   ]
  },
  {
   "cell_type": "code",
   "execution_count": 117,
   "id": "07e82718",
   "metadata": {},
   "outputs": [],
   "source": [
    "import pandas as pd\n",
    "import numpy as np"
   ]
  },
  {
   "cell_type": "code",
   "execution_count": 63,
   "id": "39842930",
   "metadata": {},
   "outputs": [],
   "source": [
    "# Creating a Series with a List\n",
    "\n",
    "data = [10,20,30]\n",
    "ser = pd.Series(data=data)"
   ]
  },
  {
   "cell_type": "code",
   "execution_count": 64,
   "id": "4d681bff",
   "metadata": {},
   "outputs": [
    {
     "data": {
      "text/plain": [
       "0    10\n",
       "1    20\n",
       "2    30\n",
       "dtype: int64"
      ]
     },
     "execution_count": 64,
     "metadata": {},
     "output_type": "execute_result"
    }
   ],
   "source": [
    "ser"
   ]
  },
  {
   "cell_type": "code",
   "execution_count": 65,
   "id": "79fdf61d",
   "metadata": {},
   "outputs": [
    {
     "data": {
      "text/plain": [
       "10"
      ]
     },
     "execution_count": 65,
     "metadata": {},
     "output_type": "execute_result"
    }
   ],
   "source": [
    "ser[0]"
   ]
  },
  {
   "cell_type": "code",
   "execution_count": 69,
   "id": "4a923fb8",
   "metadata": {},
   "outputs": [],
   "source": [
    "# Creating a Series with a Dictionary\n",
    "\n",
    "data = {'a':10, 'b':20,'c':30}\n",
    "ser_dictionary = pd.Series(data=data)"
   ]
  },
  {
   "cell_type": "code",
   "execution_count": 75,
   "id": "0bb6cbcf",
   "metadata": {},
   "outputs": [
    {
     "data": {
      "text/plain": [
       "30"
      ]
     },
     "execution_count": 75,
     "metadata": {},
     "output_type": "execute_result"
    }
   ],
   "source": [
    "ser_dictionary['c']"
   ]
  },
  {
   "cell_type": "code",
   "execution_count": 84,
   "id": "b41c6e2f",
   "metadata": {},
   "outputs": [],
   "source": [
    "# Indexing with a list data set\n",
    "\n",
    "data = [10.0,20.0,30.0]\n",
    "index = ['a','b','c']\n",
    "ser = pd.Series(data=data, index=index, dtype=int, name='First Series')"
   ]
  },
  {
   "cell_type": "code",
   "execution_count": 85,
   "id": "e0ee960b",
   "metadata": {},
   "outputs": [
    {
     "data": {
      "text/plain": [
       "a    10\n",
       "b    20\n",
       "c    30\n",
       "Name: First Series, dtype: int64"
      ]
     },
     "execution_count": 85,
     "metadata": {},
     "output_type": "execute_result"
    }
   ],
   "source": [
    "ser"
   ]
  },
  {
   "cell_type": "code",
   "execution_count": 132,
   "id": "6f3aee25",
   "metadata": {},
   "outputs": [],
   "source": [
    "# Indexing\n",
    "\n",
    "ser1 = pd.Series([1,2,3,4], ['Blue', 'Red', 'Orange', 'Green'])\n",
    "ser2 = pd.Series([10,20,30,40], ['Blue', 'Red', 'Orange', 'Purple'])"
   ]
  },
  {
   "cell_type": "code",
   "execution_count": 133,
   "id": "8de55f79",
   "metadata": {},
   "outputs": [
    {
     "data": {
      "text/plain": [
       "1"
      ]
     },
     "execution_count": 133,
     "metadata": {},
     "output_type": "execute_result"
    }
   ],
   "source": [
    "ser1[0]"
   ]
  },
  {
   "cell_type": "code",
   "execution_count": 134,
   "id": "12f927f0",
   "metadata": {},
   "outputs": [
    {
     "data": {
      "text/plain": [
       "Red       20\n",
       "Orange    30\n",
       "dtype: int64"
      ]
     },
     "execution_count": 134,
     "metadata": {},
     "output_type": "execute_result"
    }
   ],
   "source": [
    "ser2[1:3]"
   ]
  },
  {
   "cell_type": "code",
   "execution_count": 135,
   "id": "eac6a1a3",
   "metadata": {},
   "outputs": [
    {
     "data": {
      "text/plain": [
       "numpy.float64"
      ]
     },
     "execution_count": 135,
     "metadata": {},
     "output_type": "execute_result"
    }
   ],
   "source": [
    "# Combining with Math operations\n",
    "\n",
    "type((ser1 / ser2)['Green'])\n"
   ]
  },
  {
   "cell_type": "code",
   "execution_count": 136,
   "id": "406553a7",
   "metadata": {},
   "outputs": [
    {
     "data": {
      "text/plain": [
       "Blue      11.0\n",
       "Green      NaN\n",
       "Orange    33.0\n",
       "Purple     NaN\n",
       "Red       22.0\n",
       "dtype: float64"
      ]
     },
     "execution_count": 136,
     "metadata": {},
     "output_type": "execute_result"
    }
   ],
   "source": [
    "ser1 + ser2"
   ]
  },
  {
   "cell_type": "code",
   "execution_count": 120,
   "id": "55e8f017",
   "metadata": {},
   "outputs": [
    {
     "name": "stdout",
     "output_type": "stream",
     "text": [
      "<class 'float'>\n"
     ]
    }
   ],
   "source": [
    "print(type(np.nan))"
   ]
  },
  {
   "cell_type": "code",
   "execution_count": 128,
   "id": "68fd2d73",
   "metadata": {},
   "outputs": [],
   "source": [
    "ser_no_index_1 = pd.Series([1,2,3,4,5])\n",
    "ser_no_index_2 = pd.Series([10,20,30,40])"
   ]
  },
  {
   "cell_type": "code",
   "execution_count": 129,
   "id": "38f1f0ff",
   "metadata": {},
   "outputs": [
    {
     "data": {
      "text/plain": [
       "0    1\n",
       "1    2\n",
       "2    3\n",
       "3    4\n",
       "4    5\n",
       "dtype: int64"
      ]
     },
     "execution_count": 129,
     "metadata": {},
     "output_type": "execute_result"
    }
   ],
   "source": [
    "ser_no_index_1"
   ]
  },
  {
   "cell_type": "code",
   "execution_count": 130,
   "id": "b6a525b8",
   "metadata": {},
   "outputs": [
    {
     "data": {
      "text/plain": [
       "0    10\n",
       "1    20\n",
       "2    30\n",
       "3    40\n",
       "dtype: int64"
      ]
     },
     "execution_count": 130,
     "metadata": {},
     "output_type": "execute_result"
    }
   ],
   "source": [
    "ser_no_index_2"
   ]
  },
  {
   "cell_type": "code",
   "execution_count": 131,
   "id": "13f88534",
   "metadata": {},
   "outputs": [
    {
     "data": {
      "text/plain": [
       "0    11.0\n",
       "1    22.0\n",
       "2    33.0\n",
       "3    44.0\n",
       "4     NaN\n",
       "dtype: float64"
      ]
     },
     "execution_count": 131,
     "metadata": {},
     "output_type": "execute_result"
    }
   ],
   "source": [
    "ser_no_index_1 + ser_no_index_2"
   ]
  },
  {
   "cell_type": "code",
   "execution_count": 141,
   "id": "631ee415",
   "metadata": {},
   "outputs": [],
   "source": [
    "concat_series = pd.concat([ser1, ser2], axis=1)"
   ]
  },
  {
   "cell_type": "code",
   "execution_count": 142,
   "id": "13b50702",
   "metadata": {},
   "outputs": [
    {
     "data": {
      "text/html": [
       "<div>\n",
       "<style scoped>\n",
       "    .dataframe tbody tr th:only-of-type {\n",
       "        vertical-align: middle;\n",
       "    }\n",
       "\n",
       "    .dataframe tbody tr th {\n",
       "        vertical-align: top;\n",
       "    }\n",
       "\n",
       "    .dataframe thead th {\n",
       "        text-align: right;\n",
       "    }\n",
       "</style>\n",
       "<table border=\"1\" class=\"dataframe\">\n",
       "  <thead>\n",
       "    <tr style=\"text-align: right;\">\n",
       "      <th></th>\n",
       "      <th>0</th>\n",
       "      <th>1</th>\n",
       "    </tr>\n",
       "  </thead>\n",
       "  <tbody>\n",
       "    <tr>\n",
       "      <th>Blue</th>\n",
       "      <td>1.0</td>\n",
       "      <td>10.0</td>\n",
       "    </tr>\n",
       "    <tr>\n",
       "      <th>Red</th>\n",
       "      <td>2.0</td>\n",
       "      <td>20.0</td>\n",
       "    </tr>\n",
       "    <tr>\n",
       "      <th>Orange</th>\n",
       "      <td>3.0</td>\n",
       "      <td>30.0</td>\n",
       "    </tr>\n",
       "    <tr>\n",
       "      <th>Green</th>\n",
       "      <td>4.0</td>\n",
       "      <td>NaN</td>\n",
       "    </tr>\n",
       "    <tr>\n",
       "      <th>Purple</th>\n",
       "      <td>NaN</td>\n",
       "      <td>40.0</td>\n",
       "    </tr>\n",
       "  </tbody>\n",
       "</table>\n",
       "</div>"
      ],
      "text/plain": [
       "          0     1\n",
       "Blue    1.0  10.0\n",
       "Red     2.0  20.0\n",
       "Orange  3.0  30.0\n",
       "Green   4.0   NaN\n",
       "Purple  NaN  40.0"
      ]
     },
     "execution_count": 142,
     "metadata": {},
     "output_type": "execute_result"
    }
   ],
   "source": [
    "concat_series"
   ]
  },
  {
   "cell_type": "code",
   "execution_count": 143,
   "id": "e2754bac",
   "metadata": {},
   "outputs": [
    {
     "data": {
      "text/plain": [
       "pandas.core.frame.DataFrame"
      ]
     },
     "execution_count": 143,
     "metadata": {},
     "output_type": "execute_result"
    }
   ],
   "source": [
    "type(concat_series)"
   ]
  },
  {
   "cell_type": "code",
   "execution_count": null,
   "id": "f6aa2c7e",
   "metadata": {},
   "outputs": [],
   "source": []
  },
  {
   "cell_type": "code",
   "execution_count": null,
   "id": "cfee64a0",
   "metadata": {},
   "outputs": [],
   "source": []
  },
  {
   "cell_type": "code",
   "execution_count": null,
   "id": "b8ba57c3",
   "metadata": {},
   "outputs": [],
   "source": []
  },
  {
   "cell_type": "code",
   "execution_count": null,
   "id": "afbe412b",
   "metadata": {},
   "outputs": [],
   "source": []
  },
  {
   "cell_type": "code",
   "execution_count": null,
   "id": "d21f75c8",
   "metadata": {},
   "outputs": [],
   "source": []
  },
  {
   "cell_type": "code",
   "execution_count": null,
   "id": "e84a3f96",
   "metadata": {},
   "outputs": [],
   "source": []
  },
  {
   "cell_type": "code",
   "execution_count": null,
   "id": "ce7e273a",
   "metadata": {},
   "outputs": [],
   "source": []
  }
 ],
 "metadata": {
  "kernelspec": {
   "display_name": "Python 3 (ipykernel)",
   "language": "python",
   "name": "python3"
  },
  "language_info": {
   "codemirror_mode": {
    "name": "ipython",
    "version": 3
   },
   "file_extension": ".py",
   "mimetype": "text/x-python",
   "name": "python",
   "nbconvert_exporter": "python",
   "pygments_lexer": "ipython3",
   "version": "3.9.10"
  }
 },
 "nbformat": 4,
 "nbformat_minor": 5
}

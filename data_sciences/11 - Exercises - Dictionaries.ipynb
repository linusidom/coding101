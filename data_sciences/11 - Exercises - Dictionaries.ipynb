{
 "cells": [
  {
   "cell_type": "markdown",
   "id": "7b7b57d4",
   "metadata": {},
   "source": [
    "# Dictionary Exercises"
   ]
  },
  {
   "cell_type": "code",
   "execution_count": 36,
   "id": "9ecbd920",
   "metadata": {},
   "outputs": [
    {
     "data": {
      "text/plain": [
       "{'a': 1, 'b': 2, 'c': '3', 'd': [4, 5]}"
      ]
     },
     "execution_count": 36,
     "metadata": {},
     "output_type": "execute_result"
    }
   ],
   "source": [
    "# Create a dictionary with a=1, b=2, c='3', d=[4,5] called dict1\n",
    "\n",
    "dict1 = {'a':1, 'b':2, 'c':'3', 'd':[4,5]}\n",
    "# dict1 = dict(a=1, b=2, c='3', d=[4,5])\n",
    "dict1\n",
    "\n",
    "# Type your code above here"
   ]
  },
  {
   "cell_type": "code",
   "execution_count": 41,
   "id": "0fe8994a",
   "metadata": {},
   "outputs": [
    {
     "data": {
      "text/plain": [
       "int"
      ]
     },
     "execution_count": 41,
     "metadata": {},
     "output_type": "execute_result"
    }
   ],
   "source": [
    "# Change the value of c to 3\n",
    "\n",
    "dict1['c'] = 3\n",
    "type(dict1['c'])\n",
    "\n",
    "# Type your code above here"
   ]
  },
  {
   "cell_type": "code",
   "execution_count": 46,
   "id": "02c9b1e6",
   "metadata": {},
   "outputs": [
    {
     "data": {
      "text/plain": [
       "{'a': 1, 'b': 2, 'c': 3, 'd': [4, 5], 'e': {'a': 1, 'b': 2, 'c': 3}}"
      ]
     },
     "execution_count": 46,
     "metadata": {},
     "output_type": "execute_result"
    }
   ],
   "source": [
    "# Add e={'a':1,'b':2,'c':3} to dict1\n",
    "\n",
    "dict1['e'] = {'a':1,'b':2,'c':3}\n",
    "dict1\n",
    "\n",
    "\n",
    "# Type your code above here"
   ]
  },
  {
   "cell_type": "code",
   "execution_count": 51,
   "id": "b2a6f9d8",
   "metadata": {},
   "outputs": [
    {
     "name": "stdout",
     "output_type": "stream",
     "text": [
      "Keys\n",
      "a\n",
      "b\n",
      "c\n",
      "d\n",
      "e\n",
      "\n",
      "Values\n",
      "1\n",
      "2\n",
      "3\n",
      "[4, 5]\n",
      "{'a': 1, 'b': 2, 'c': 3}\n",
      "\n",
      "Items\n",
      "a 1\n",
      "b 2\n",
      "c 3\n",
      "d [4, 5]\n",
      "e {'a': 1, 'b': 2, 'c': 3}\n"
     ]
    }
   ],
   "source": [
    "# Print the keys, values and items of the dictionary using a for loop for each\n",
    "\n",
    "print('Keys')\n",
    "for key in dict1:\n",
    "    print(key)\n",
    "\n",
    "print('\\nValues')\n",
    "for value in dict1.values():\n",
    "    print(value)\n",
    "\n",
    "print('\\nItems')\n",
    "for key, value in dict1.items():\n",
    "    print(key, value)\n",
    "\n",
    "# Type your code above here"
   ]
  },
  {
   "cell_type": "code",
   "execution_count": 55,
   "id": "c81fdc37",
   "metadata": {},
   "outputs": [
    {
     "data": {
      "text/plain": [
       "555"
      ]
     },
     "execution_count": 55,
     "metadata": {},
     "output_type": "execute_result"
    }
   ],
   "source": [
    "# Search for the get 'Not Found' and return a value of 555 if the was not found\n",
    "\n",
    "\n",
    "# dict1['Not Found']\n",
    "dict1.get('Not Found', 555)\n",
    "\n",
    "\n",
    "# Type your code above here"
   ]
  },
  {
   "cell_type": "code",
   "execution_count": 66,
   "id": "75007507",
   "metadata": {},
   "outputs": [
    {
     "data": {
      "text/plain": [
       "{'a': 3, 'b': 6, 'c': 9, 'd': 12, 'e': 15, 'f': 18, 'g': 21}"
      ]
     },
     "execution_count": 66,
     "metadata": {},
     "output_type": "execute_result"
    }
   ],
   "source": [
    "challenge_dictionary = {'a':1,'b':2,'c':3,'d':4,'e':5,'f':6,'g':7}\n",
    "# Challenge: Using List Comprehension multiply each value by 3\n",
    "\n",
    "dict2_double = {key:value * 3 for key, value in challenge_dictionary.items()}\n",
    "dict2_double\n",
    "\n",
    "# A set is a dictionary with only values...and no repeating elements...\n",
    "\n",
    "# set1 = set([1,1,1,2,2,2,3,3,3,3])\n",
    "# set1\n",
    "\n",
    "\n",
    "# Type your code above here"
   ]
  },
  {
   "cell_type": "code",
   "execution_count": null,
   "id": "66635102",
   "metadata": {},
   "outputs": [],
   "source": []
  },
  {
   "cell_type": "code",
   "execution_count": null,
   "id": "27cd28b8",
   "metadata": {},
   "outputs": [],
   "source": []
  },
  {
   "cell_type": "code",
   "execution_count": null,
   "id": "dcd4defc",
   "metadata": {},
   "outputs": [],
   "source": []
  },
  {
   "cell_type": "code",
   "execution_count": null,
   "id": "07e7a144",
   "metadata": {},
   "outputs": [],
   "source": []
  },
  {
   "cell_type": "code",
   "execution_count": null,
   "id": "b60305a3",
   "metadata": {},
   "outputs": [],
   "source": []
  }
 ],
 "metadata": {
  "kernelspec": {
   "display_name": "Python 3 (ipykernel)",
   "language": "python",
   "name": "python3"
  },
  "language_info": {
   "codemirror_mode": {
    "name": "ipython",
    "version": 3
   },
   "file_extension": ".py",
   "mimetype": "text/x-python",
   "name": "python",
   "nbconvert_exporter": "python",
   "pygments_lexer": "ipython3",
   "version": "3.9.10"
  }
 },
 "nbformat": 4,
 "nbformat_minor": 5
}

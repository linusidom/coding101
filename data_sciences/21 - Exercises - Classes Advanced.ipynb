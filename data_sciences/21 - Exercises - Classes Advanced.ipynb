{
 "cells": [
  {
   "cell_type": "markdown",
   "id": "10bd7995",
   "metadata": {},
   "source": [
    "# Classes Advanced Exercises"
   ]
  },
  {
   "cell_type": "code",
   "execution_count": 7,
   "id": "7d50a813",
   "metadata": {},
   "outputs": [],
   "source": [
    "# Create and empty Animal class\n",
    "\n",
    "class Animal:\n",
    "    pass\n",
    "\n",
    "# Type your code above this line"
   ]
  },
  {
   "cell_type": "code",
   "execution_count": 10,
   "id": "fcb06974",
   "metadata": {},
   "outputs": [],
   "source": [
    "# Add attributes of num_eyes, num_legs, has_fur to the class\n",
    "\n",
    "class Animal:\n",
    "    def __init__(self, num_eyes, num_legs, has_fur):\n",
    "        self.num_eyes = num_eyes\n",
    "        self.num_legs = num_legs\n",
    "        self.has_fur = has_fur\n",
    "\n",
    "# Type your code above this line"
   ]
  },
  {
   "cell_type": "code",
   "execution_count": 14,
   "id": "4f8a279c",
   "metadata": {},
   "outputs": [
    {
     "data": {
      "text/plain": [
       "['__class__',\n",
       " '__delattr__',\n",
       " '__dict__',\n",
       " '__dir__',\n",
       " '__doc__',\n",
       " '__eq__',\n",
       " '__format__',\n",
       " '__ge__',\n",
       " '__getattribute__',\n",
       " '__gt__',\n",
       " '__hash__',\n",
       " '__init__',\n",
       " '__init_subclass__',\n",
       " '__le__',\n",
       " '__lt__',\n",
       " '__module__',\n",
       " '__ne__',\n",
       " '__new__',\n",
       " '__reduce__',\n",
       " '__reduce_ex__',\n",
       " '__repr__',\n",
       " '__setattr__',\n",
       " '__sizeof__',\n",
       " '__str__',\n",
       " '__subclasshook__',\n",
       " '__weakref__',\n",
       " 'has_fur',\n",
       " 'num_eyes',\n",
       " 'num_legs']"
      ]
     },
     "execution_count": 14,
     "metadata": {},
     "output_type": "execute_result"
    }
   ],
   "source": [
    "animal = Animal(2,4,True)\n",
    "\n",
    "dir(animal)"
   ]
  },
  {
   "cell_type": "code",
   "execution_count": 42,
   "id": "4ac799e6",
   "metadata": {},
   "outputs": [],
   "source": [
    "# Add a method that prints the statement \"I am an Animal\"\n",
    "\n",
    "class Animal:\n",
    "    def __init__(self, num_eyes, num_legs, has_fur):\n",
    "        self.num_eyes = num_eyes\n",
    "        self.num_legs = num_legs\n",
    "        self.has_fur = has_fur\n",
    "\n",
    "    def __print_me_animal__(self):\n",
    "        return print(f'I am an Animal with {self.num_legs} legs and {self.num_eyes} eyes with {self.has_fur}')\n",
    "\n",
    "# Type your code above this line"
   ]
  },
  {
   "cell_type": "code",
   "execution_count": 24,
   "id": "0ae0eb8c",
   "metadata": {},
   "outputs": [
    {
     "name": "stdout",
     "output_type": "stream",
     "text": [
      "I am an Animal with 4 legs and 2 eyes with True\n"
     ]
    }
   ],
   "source": [
    "animal = Animal(2, 4, True)\n",
    "animal.print_me()"
   ]
  },
  {
   "cell_type": "code",
   "execution_count": 25,
   "id": "ff278e23",
   "metadata": {},
   "outputs": [],
   "source": [
    "# Create a Dog class that inherits the Animal Class\n",
    "\n",
    "class Dog(Animal):\n",
    "    pass\n",
    "\n",
    "\n",
    "# Type your code above this line"
   ]
  },
  {
   "cell_type": "code",
   "execution_count": 26,
   "id": "cebd4c65",
   "metadata": {},
   "outputs": [
    {
     "ename": "TypeError",
     "evalue": "__init__() missing 3 required positional arguments: 'num_eyes', 'num_legs', and 'has_fur'",
     "output_type": "error",
     "traceback": [
      "\u001b[0;31m---------------------------------------------------------------------------\u001b[0m",
      "\u001b[0;31mTypeError\u001b[0m                                 Traceback (most recent call last)",
      "Input \u001b[0;32mIn [26]\u001b[0m, in \u001b[0;36m<cell line: 1>\u001b[0;34m()\u001b[0m\n\u001b[0;32m----> 1\u001b[0m dog \u001b[38;5;241m=\u001b[39m \u001b[43mDog\u001b[49m\u001b[43m(\u001b[49m\u001b[43m)\u001b[49m\n",
      "\u001b[0;31mTypeError\u001b[0m: __init__() missing 3 required positional arguments: 'num_eyes', 'num_legs', and 'has_fur'"
     ]
    }
   ],
   "source": [
    "dog = Dog()"
   ]
  },
  {
   "cell_type": "code",
   "execution_count": 43,
   "id": "e29ef676",
   "metadata": {},
   "outputs": [],
   "source": [
    "# In the dog class add two attributes, breed, color (extend the Animal Class)\n",
    "\n",
    "class Dog(Animal):\n",
    "    def __init__(self, num_eyes, num_legs, has_fur, breed, color):\n",
    "        super().__init__(num_eyes, num_legs, has_fur)\n",
    "        self.breed = breed\n",
    "        self.color = color\n",
    "\n",
    "\n",
    "\n",
    "# Type your code above this line"
   ]
  },
  {
   "cell_type": "code",
   "execution_count": 32,
   "id": "0fccae1b",
   "metadata": {},
   "outputs": [
    {
     "data": {
      "text/plain": [
       "2"
      ]
     },
     "execution_count": 32,
     "metadata": {},
     "output_type": "execute_result"
    }
   ],
   "source": [
    "dog = Dog(2, 4, True, 'Ridgeback', 'Brown')\n",
    "dog.num_eyes"
   ]
  },
  {
   "cell_type": "code",
   "execution_count": 53,
   "id": "7e88f75c",
   "metadata": {},
   "outputs": [],
   "source": [
    "# Add a method that prints \"Bark!  Bark!\" to the dog class\n",
    "\n",
    "class Dog(Animal):\n",
    "    def __init__(self, num_eyes, num_legs, has_fur, breed, color):\n",
    "        super().__init__(num_eyes, num_legs, has_fur)\n",
    "        self.breed = breed\n",
    "        self.color = color\n",
    "\n",
    "    def __print_me_dog__(self):\n",
    "        return print('Bark! Bark!')\n",
    "\n",
    "# Type your code above this line"
   ]
  },
  {
   "cell_type": "code",
   "execution_count": 48,
   "id": "5fb99aa0",
   "metadata": {},
   "outputs": [],
   "source": [
    "dog = Dog(2, 4, True, 'Ridgeback', 'Brown')\n"
   ]
  },
  {
   "cell_type": "code",
   "execution_count": 49,
   "id": "c1c580c7",
   "metadata": {},
   "outputs": [],
   "source": [
    "# Initialize the dog class with the following, 2, 4, True, 'Ridgeback', 'Brown'\n",
    "\n",
    "dog = Dog(2, 4, True, 'Ridgeback', 'Brown')\n",
    "\n",
    "# Type your code above this line"
   ]
  },
  {
   "cell_type": "code",
   "execution_count": 52,
   "id": "d0bc8c31",
   "metadata": {},
   "outputs": [
    {
     "name": "stdout",
     "output_type": "stream",
     "text": [
      "['__class__', '__delattr__', '__dict__', '__dir__', '__doc__', '__eq__', '__format__', '__ge__', '__getattribute__', '__gt__', '__hash__', '__init__', '__init_subclass__', '__le__', '__lt__', '__module__', '__ne__', '__new__', '__print_me_animal__', '__print_me_dog__', '__reduce__', '__reduce_ex__', '__repr__', '__setattr__', '__sizeof__', '__str__', '__subclasshook__', '__weakref__', 'breed', 'color', 'has_fur', 'num_eyes', 'num_legs']\n",
      "I am an Animal with 4 legs and 2 eyes with True\n",
      "None\n",
      "Bark! Bark!\n",
      "None\n"
     ]
    }
   ],
   "source": [
    "# Dunder Methods or Double Underscore Methods __init__\n",
    "\n",
    "# Dunder methods are a convention used to indicate that these methods should never be used in the actual program\n",
    "\n",
    "# Dunder methods should only be used within the class, not outside\n",
    "\n",
    "# However they are still accessible outside of the class, nothing prevents the use of calling these methods\n",
    "print(dir(dog))\n",
    "print(dog.__print_me_animal__())\n",
    "print(dog.__print_me_dog__())"
   ]
  },
  {
   "cell_type": "code",
   "execution_count": null,
   "id": "ad8e9332",
   "metadata": {},
   "outputs": [],
   "source": []
  },
  {
   "cell_type": "code",
   "execution_count": null,
   "id": "7f038953",
   "metadata": {},
   "outputs": [],
   "source": []
  },
  {
   "cell_type": "code",
   "execution_count": null,
   "id": "0a0de985",
   "metadata": {},
   "outputs": [],
   "source": []
  },
  {
   "cell_type": "code",
   "execution_count": null,
   "id": "a5550383",
   "metadata": {},
   "outputs": [],
   "source": []
  },
  {
   "cell_type": "code",
   "execution_count": null,
   "id": "00459f00",
   "metadata": {},
   "outputs": [
    {
     "name": "stdout",
     "output_type": "stream",
     "text": [
      "\n",
      "Please Choose Rock (0), Paper (1) or Scissors (2)1\n",
      "You lose :( You: Paper lost to the Computer Scissors\n",
      "\n",
      "Please Choose Rock (0), Paper (1) or Scissors (2)1\n",
      "It's a Tie  Paper and Paper\n",
      "\n",
      "Please Choose Rock (0), Paper (1) or Scissors (2)1\n",
      "You lose :( You: Paper lost to the Computer Scissors\n",
      "\n",
      "Please Choose Rock (0), Paper (1) or Scissors (2)1\n",
      "You Win!  You: Paper beat the Computer:Rock\n",
      "\n",
      "Please Choose Rock (0), Paper (1) or Scissors (2)1\n",
      "You Win!  You: Paper beat the Computer:Rock\n"
     ]
    }
   ],
   "source": [
    "# Final exercise - Redo the RPS Game and convert it to a class\n",
    "\n",
    "# Keep functionality and just refactor this into a class\n",
    "\n",
    "import random\n",
    "\n",
    "\n",
    "class RockPaperScissors:\n",
    "\n",
    "    names = ['Rock', 'Paper', 'Scissors']\n",
    "    choices = [0,1,2]\n",
    "\n",
    "\n",
    "    def winner_message(self, user_selection, computer_selection, winner=None):\n",
    "        if winner == 'user':\n",
    "            return f\"You Win!  You: {user_selection} beat the Computer:{computer_selection}\"\n",
    "        if winner == 'computer':\n",
    "            return f\"You lose :( You: {user_selection} lost to the Computer {computer_selection}\"\n",
    "        return f\"It's a Tie  {user_selection} and {computer_selection}\"\n",
    "\n",
    "\n",
    "    # Calling a function from within a function is not good practice\n",
    "    # Functions should only return values, unless they are recursive\n",
    "    def winner_selection(self, user_selection, computer_selection):\n",
    "        if (user_selection == 0 and computer_selection == 2)\\\n",
    "            or (user_selection == 1 and computer_selection == 0)\\\n",
    "            or (user_selection == 2 and computer_selection == 1):\n",
    "            return 'user'\n",
    "        elif user_selection == computer_selection:\n",
    "            return None\n",
    "        return 'computer'\n",
    "\n",
    "\n",
    "    \n",
    "rps = RockPaperScissors()\n",
    "\n",
    "# dir(rps)\n",
    "while True:\n",
    "    user_selection = int(input('\\nPlease Choose Rock (0), Paper (1) or Scissors (2)'))\n",
    "    computer_selection = random.choice(choices)\n",
    "    \n",
    "    winner = rps.winner_selection(user_selection, computer_selection)\n",
    "    print(rps.winner_message(names[user_selection], names[computer_selection], winner))"
   ]
  },
  {
   "cell_type": "code",
   "execution_count": null,
   "id": "4f662ba5",
   "metadata": {},
   "outputs": [],
   "source": []
  },
  {
   "cell_type": "code",
   "execution_count": null,
   "id": "6a1688b0",
   "metadata": {},
   "outputs": [],
   "source": []
  },
  {
   "cell_type": "code",
   "execution_count": null,
   "id": "3504f228",
   "metadata": {},
   "outputs": [],
   "source": []
  },
  {
   "cell_type": "code",
   "execution_count": null,
   "id": "54858ee4",
   "metadata": {},
   "outputs": [],
   "source": []
  },
  {
   "cell_type": "code",
   "execution_count": null,
   "id": "edb5b538",
   "metadata": {},
   "outputs": [],
   "source": []
  },
  {
   "cell_type": "code",
   "execution_count": null,
   "id": "22de7285",
   "metadata": {},
   "outputs": [],
   "source": []
  },
  {
   "cell_type": "code",
   "execution_count": null,
   "id": "faa02eab",
   "metadata": {},
   "outputs": [],
   "source": []
  },
  {
   "cell_type": "code",
   "execution_count": null,
   "id": "d211758e",
   "metadata": {},
   "outputs": [],
   "source": []
  },
  {
   "cell_type": "code",
   "execution_count": null,
   "id": "d0f6b317",
   "metadata": {},
   "outputs": [],
   "source": []
  },
  {
   "cell_type": "code",
   "execution_count": null,
   "id": "eecad9aa",
   "metadata": {},
   "outputs": [],
   "source": []
  },
  {
   "cell_type": "code",
   "execution_count": null,
   "id": "e33f8a2a",
   "metadata": {},
   "outputs": [],
   "source": []
  },
  {
   "cell_type": "code",
   "execution_count": null,
   "id": "4a8e683b",
   "metadata": {},
   "outputs": [],
   "source": []
  },
  {
   "cell_type": "code",
   "execution_count": null,
   "id": "1db9f605",
   "metadata": {},
   "outputs": [],
   "source": []
  },
  {
   "cell_type": "code",
   "execution_count": null,
   "id": "29e3be84",
   "metadata": {},
   "outputs": [],
   "source": []
  },
  {
   "cell_type": "code",
   "execution_count": null,
   "id": "b9348c98",
   "metadata": {},
   "outputs": [],
   "source": []
  },
  {
   "cell_type": "code",
   "execution_count": null,
   "id": "4a9d39a0",
   "metadata": {},
   "outputs": [],
   "source": []
  }
 ],
 "metadata": {
  "kernelspec": {
   "display_name": "Python 3 (ipykernel)",
   "language": "python",
   "name": "python3"
  },
  "language_info": {
   "codemirror_mode": {
    "name": "ipython",
    "version": 3
   },
   "file_extension": ".py",
   "mimetype": "text/x-python",
   "name": "python",
   "nbconvert_exporter": "python",
   "pygments_lexer": "ipython3",
   "version": "3.9.10"
  }
 },
 "nbformat": 4,
 "nbformat_minor": 5
}

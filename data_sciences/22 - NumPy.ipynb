{
 "cells": [
  {
   "cell_type": "markdown",
   "id": "043357b4",
   "metadata": {},
   "source": [
    "# NumPy - Numeric Python\n",
    "\n",
    "### What is NumPy?\n",
    "An easy way to create, navigate and manipulate arrays and matrices of data\n",
    "\n",
    "\n",
    "### Why do I need to know this?\n",
    "Technically you don't, it doesn't come up too much directly in Data Science however it is the underlying functionality powering pandas and data sciences in python\n",
    "\n",
    "No need to memorize, just be familar with the concept, where to look at how to use\n",
    "\n",
    "### Getting Started with NumPy\n",
    "\n",
    "`pip install numpy`\n",
    "\n",
    "`import numpy as np`\n",
    "\n",
    "### Common Functions in NumPy\n",
    "\n",
    "- Create an array (list) of a desired size\n",
    "\n",
    "`np.arange(start, stop, step)`\n",
    "\n",
    "- Long way to do this\n",
    "\n",
    "`\n",
    "[x for x in range(start, stop, step)]\n",
    "`\n",
    "\n",
    "- Linspace - Create an array of evenly spaced values\n",
    "\n",
    "`np.linspace(0,10,5)`\n",
    "\n",
    "`array([ 0. ,  2.5,  5. ,  7.5, 10. ])`\n",
    "\n",
    "\n",
    "###### Random\n",
    "\n",
    "Get a random integer or get a list of random numbers between 2 numbers\n",
    "\n",
    "`np.random.randint(1,99,10)`\n",
    "\n",
    "`array([62, 89, 18, 41,  6, 67, 83, 48, 98, 56])`\n",
    "\n",
    "Create a random array, results will be between 0 and 1\n",
    "\n",
    "`np.random.rand(3)`\n",
    "\n",
    "`array([0.37556892, 0.88167555, 0.21885929])`\n",
    "\n",
    "Create a random Multi-Dimensional array, results will be between 0 and 1\n",
    "\n",
    "`np.random.rand(3,3)`\n",
    "\n",
    "`array([[0.43373283, 0.81953016, 0.60483176],\n",
    "       [0.46460322, 0.04923629, 0.53102037],\n",
    "       [0.34119516, 0.78186692, 0.88462712]])`\n",
    "\n",
    "\n",
    "###### Re Shape a 1-dimensional array to a multi-dimensional array\n",
    "\n",
    "Multi-dimensional array needs to match the number of items in the 1-dimensional array\n",
    "\n",
    "`arr = np.arange(24)`\n",
    "\n",
    "`arr.reshape(4,6)`\n",
    "\n",
    "`array([[ 0,  1,  2,  3,  4,  5],\n",
    "       [ 6,  7,  8,  9, 10, 11],\n",
    "       [12, 13, 14, 15, 16, 17],\n",
    "       [18, 19, 20, 21, 22, 23]])`\n",
    "       \n",
    "###### Max and Min\n",
    "\n",
    "Get Min and Max values\n",
    "\n",
    "`arr.min()` `arr.min()`\n",
    "\n",
    "Get Min and Max index locations\n",
    "\n",
    "`arr.argmin()` `arr.argmin()`\n",
    "\n",
    "\n",
    "###### shape\n",
    "\n",
    "Get the shape or the dimensions of the array, Row x Column\n",
    "\n",
    "`arr.shape`\n",
    "\n",
    "\n",
    "###### Indexing\n",
    "\n",
    "Similar to lists and string for 1-dimensional arrays\n",
    "\n",
    "`arr[0:3]` or `arr[:-2]`\n",
    "\n",
    "For 2-dimensional Arrays, Single Bracket with comma (will see this with pandas\n",
    "\n",
    "`arr[row, col]`\n",
    "\n",
    "`arr[1:3,3:5]`\n",
    "\n",
    "###### Comparison Operations\n",
    "\n",
    "Selecting only values that match a certain condition (will see this with pandas data selection)\n",
    "\n",
    "`arr > 5` or `arr[arr > 5]`\n",
    "\n",
    "###### Math\n",
    "\n",
    "We can use standard arithmetic values\n",
    "\n",
    "`arr *,/,+,-,** 5`\n",
    "\n",
    "Division by 0 -> Numpy will continue to run but will return either an **nan** or **inf**\n",
    "\n",
    "nan -> 0 / 0\n",
    "inf -> number / 0\n",
    "\n",
    "For more, there is a list of Universal Math functions that can be run in NumPy\n"
   ]
  },
  {
   "cell_type": "code",
   "execution_count": 24,
   "id": "91b2c55d",
   "metadata": {},
   "outputs": [],
   "source": [
    "arr = np.arange(24)\n",
    "\n",
    "arr = arr.reshape(4,6)"
   ]
  },
  {
   "cell_type": "code",
   "execution_count": 29,
   "id": "2a7df085",
   "metadata": {},
   "outputs": [
    {
     "data": {
      "text/plain": [
       "array([[ 0,  1,  2,  3,  4,  5],\n",
       "       [ 6,  7,  8,  9, 10, 11],\n",
       "       [12, 13, 14, 15, 16, 17],\n",
       "       [18, 19, 20, 21, 22, 23]])"
      ]
     },
     "execution_count": 29,
     "metadata": {},
     "output_type": "execute_result"
    }
   ],
   "source": [
    "arr"
   ]
  },
  {
   "cell_type": "code",
   "execution_count": 34,
   "id": "e2bbe22b",
   "metadata": {},
   "outputs": [
    {
     "data": {
      "text/plain": [
       "array([[ 9, 10],\n",
       "       [15, 16]])"
      ]
     },
     "execution_count": 34,
     "metadata": {},
     "output_type": "execute_result"
    }
   ],
   "source": [
    "arr[1:3,3:5]"
   ]
  },
  {
   "cell_type": "code",
   "execution_count": 43,
   "id": "597ea25b",
   "metadata": {},
   "outputs": [
    {
     "data": {
      "text/plain": [
       "array([[  0,   5,  10,  15,  20,  25],\n",
       "       [ 30,  35,  40,  45,  50,  55],\n",
       "       [ 60,  65,  70,  75,  80,  85],\n",
       "       [ 90,  95, 100, 105, 110, 115]])"
      ]
     },
     "execution_count": 43,
     "metadata": {},
     "output_type": "execute_result"
    }
   ],
   "source": [
    "arr * 5"
   ]
  },
  {
   "cell_type": "code",
   "execution_count": 44,
   "id": "f27e9b64",
   "metadata": {},
   "outputs": [
    {
     "name": "stderr",
     "output_type": "stream",
     "text": [
      "/var/folders/l_/qm4dplj969j0tcpycqgttbwc0000gn/T/ipykernel_74279/1862401812.py:1: RuntimeWarning: invalid value encountered in true_divide\n",
      "  arr/arr\n"
     ]
    },
    {
     "data": {
      "text/plain": [
       "array([[nan,  1.,  1.,  1.,  1.,  1.],\n",
       "       [ 1.,  1.,  1.,  1.,  1.,  1.],\n",
       "       [ 1.,  1.,  1.,  1.,  1.,  1.],\n",
       "       [ 1.,  1.,  1.,  1.,  1.,  1.]])"
      ]
     },
     "execution_count": 44,
     "metadata": {},
     "output_type": "execute_result"
    }
   ],
   "source": [
    "arr/arr"
   ]
  },
  {
   "cell_type": "code",
   "execution_count": 45,
   "id": "4a9903e9",
   "metadata": {},
   "outputs": [
    {
     "name": "stderr",
     "output_type": "stream",
     "text": [
      "/var/folders/l_/qm4dplj969j0tcpycqgttbwc0000gn/T/ipykernel_74279/255282349.py:1: RuntimeWarning: divide by zero encountered in true_divide\n",
      "  1/arr\n"
     ]
    },
    {
     "data": {
      "text/plain": [
       "array([[       inf, 1.        , 0.5       , 0.33333333, 0.25      ,\n",
       "        0.2       ],\n",
       "       [0.16666667, 0.14285714, 0.125     , 0.11111111, 0.1       ,\n",
       "        0.09090909],\n",
       "       [0.08333333, 0.07692308, 0.07142857, 0.06666667, 0.0625    ,\n",
       "        0.05882353],\n",
       "       [0.05555556, 0.05263158, 0.05      , 0.04761905, 0.04545455,\n",
       "        0.04347826]])"
      ]
     },
     "execution_count": 45,
     "metadata": {},
     "output_type": "execute_result"
    }
   ],
   "source": [
    "1/arr"
   ]
  },
  {
   "cell_type": "code",
   "execution_count": null,
   "id": "16f61a0f",
   "metadata": {},
   "outputs": [],
   "source": []
  },
  {
   "cell_type": "code",
   "execution_count": null,
   "id": "4fd5bd38",
   "metadata": {},
   "outputs": [],
   "source": []
  },
  {
   "cell_type": "code",
   "execution_count": null,
   "id": "7c19578a",
   "metadata": {},
   "outputs": [],
   "source": []
  },
  {
   "cell_type": "code",
   "execution_count": null,
   "id": "95f46e37",
   "metadata": {},
   "outputs": [],
   "source": []
  },
  {
   "cell_type": "code",
   "execution_count": null,
   "id": "f4bf346e",
   "metadata": {},
   "outputs": [],
   "source": []
  },
  {
   "cell_type": "code",
   "execution_count": null,
   "id": "594e1b07",
   "metadata": {},
   "outputs": [],
   "source": []
  },
  {
   "cell_type": "code",
   "execution_count": null,
   "id": "8202af06",
   "metadata": {},
   "outputs": [],
   "source": []
  },
  {
   "cell_type": "code",
   "execution_count": null,
   "id": "8622113c",
   "metadata": {},
   "outputs": [],
   "source": []
  },
  {
   "cell_type": "code",
   "execution_count": null,
   "id": "1a0d4796",
   "metadata": {},
   "outputs": [],
   "source": []
  },
  {
   "cell_type": "code",
   "execution_count": null,
   "id": "0789ecc7",
   "metadata": {},
   "outputs": [],
   "source": []
  },
  {
   "cell_type": "code",
   "execution_count": null,
   "id": "d4f6a8bd",
   "metadata": {},
   "outputs": [],
   "source": []
  },
  {
   "cell_type": "code",
   "execution_count": null,
   "id": "869ee7af",
   "metadata": {},
   "outputs": [],
   "source": []
  }
 ],
 "metadata": {
  "kernelspec": {
   "display_name": "logreg",
   "language": "python",
   "name": "logreg"
  },
  "language_info": {
   "codemirror_mode": {
    "name": "ipython",
    "version": 3
   },
   "file_extension": ".py",
   "mimetype": "text/x-python",
   "name": "python",
   "nbconvert_exporter": "python",
   "pygments_lexer": "ipython3",
   "version": "3.9.10"
  }
 },
 "nbformat": 4,
 "nbformat_minor": 5
}

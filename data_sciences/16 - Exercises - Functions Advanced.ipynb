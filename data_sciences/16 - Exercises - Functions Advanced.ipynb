{
 "cells": [
  {
   "cell_type": "markdown",
   "id": "373bc224",
   "metadata": {},
   "source": [
    "# Function Exercises - Advanced"
   ]
  },
  {
   "cell_type": "code",
   "execution_count": 80,
   "id": "e7027aae",
   "metadata": {},
   "outputs": [
    {
     "name": "stdout",
     "output_type": "stream",
     "text": [
      "[36, 42, 8, 26, 74, 42, 98, 38, 12, 96]\n",
      "[66, 96, 28, 92]\n",
      "[12, 30, 94, 40, 26, 16, 30, 30, 74]\n",
      "[66, 84, 76]\n"
     ]
    }
   ],
   "source": [
    "# Write the function that prints only the evens\n",
    "\n",
    "\n",
    "def evens(*args):\n",
    "#     result = []\n",
    "#     for arg in args:\n",
    "#         if arg % 2 == 0:\n",
    "#             result.append(arg)\n",
    "    \n",
    "#     return result\n",
    "\n",
    "    return [arg for arg in args if arg % 2 == 0]\n",
    "\n",
    "\n",
    "\n",
    "# Type your code above this line\n",
    "\n",
    "print(evens(36, 42, 93, 77, 43, 8, 91, 89, 26, 89, 74, 93, 42, 98, 38, 12, 96, 83, 19, 87))\n",
    "print(evens(66, 96, 67, 59, 28, 57, 71, 51, 92, 11))\n",
    "print(evens(29, 63, 12, 30, 1, 93, 77, 94, 40, 26, 16, 30, 13, 30, 74))\n",
    "print(evens(45, 61, 69, 63, 66, 84, 51, 76))\n",
    "\n",
    "# Output\n",
    "# [36, 42, 8, 26, 74, 42, 98, 38, 12, 96]\n",
    "# [66, 96, 28, 92]\n",
    "# [12, 30, 94, 40, 26, 16, 30, 30, 74]\n",
    "# [66, 84, 76]"
   ]
  },
  {
   "cell_type": "code",
   "execution_count": 87,
   "id": "955470d8",
   "metadata": {},
   "outputs": [
    {
     "name": "stdout",
     "output_type": "stream",
     "text": [
      "[79, 9, 61, 51, 21]\n",
      "[99, 9, 21, 21, 83, 37, 45, 59, 51, 85, 43]\n",
      "[89, 99, 25, 99, 91, 11, 87, 17, 31, 49, 87]\n",
      "[53, 71, 13, 43, 77, 29, 21, 45, 19, 97]\n"
     ]
    }
   ],
   "source": [
    "# Write the function that prints only the odds\n",
    "\n",
    "def odds(**kwargs):\n",
    "#     result = []\n",
    "#     for value in kwargs.values():\n",
    "#         if value % 2 == 1:\n",
    "#             result.append(value)\n",
    "    \n",
    "#     return result\n",
    "    return [value for value in kwargs.values() if value % 2 == 1]\n",
    "    \n",
    "\n",
    "\n",
    "# Type your code above this line\n",
    "print(odds(a=52,b=16,c=64,d=79,e=24,f=20,g=18,h=34,i=46,j=66,k=9,l=82,m=78,n=61,o=28,p=51,q=18,r=21,s=6))\n",
    "print(odds(k=76,l=99,m=9,n=21,o=66,p=21,q=83,r=24,s=32,a=37,b=18,c=76,d=45,e=59,f=51,g=85,h=43,i=14,j=40))\n",
    "print(odds(r=6,s=64,a=89,b=99,c=38,d=25,e=99,f=91,g=11,h=87,i=28,j=17,k=68,l=80,m=31,n=49,o=2,p=87,q=38))\n",
    "print(odds(g=6,h=53,i=22,j=94,k=52,l=52,m=4,n=71,o=56,p=13,q=43,r=77,s=29,a=21,b=62,c=45,d=34,e=19,f=97))\n",
    "\n",
    "# Output\n",
    "# [79, 9, 61, 51, 21]\n",
    "# [99, 9, 21, 21, 83, 37, 45, 59, 51, 85, 43]\n",
    "# [89, 99, 25, 99, 91, 11, 87, 17, 31, 49, 87]\n",
    "# [53, 71, 13, 43, 77, 29, 21, 45, 19, 97]"
   ]
  },
  {
   "cell_type": "code",
   "execution_count": 101,
   "id": "ee376e4c",
   "metadata": {},
   "outputs": [
    {
     "name": "stdout",
     "output_type": "stream",
     "text": [
      "True\n",
      "False\n",
      "False\n",
      "True\n"
     ]
    }
   ],
   "source": [
    "# Write a lambda function that checks whether the word provided starts with the letter provided\n",
    "\n",
    "# def word_finder(word, letter):\n",
    "# #     if letter == word[0]:\n",
    "# #         return True\n",
    "# #     return False\n",
    "\n",
    "#     return word.startswith(letter)\n",
    "#     return letter == word[0]\n",
    "\n",
    "word_finder = lambda word, letter: letter == word[0]\n",
    "\n",
    "\n",
    "# Type your code above this line\n",
    "\n",
    "print(word_finder('Simply','S'))\n",
    "print(word_finder('Printing','Q'))\n",
    "print(word_finder('Typesetting','X'))\n",
    "print(word_finder('Industry.','I'))\n",
    "\n",
    "\n",
    "# Output\n",
    "# True\n",
    "# False\n",
    "# False\n",
    "# True\n",
    "\n"
   ]
  },
  {
   "cell_type": "code",
   "execution_count": 113,
   "id": "823e7c0b",
   "metadata": {
    "scrolled": true
   },
   "outputs": [
    {
     "data": {
      "text/plain": [
       "9030"
      ]
     },
     "execution_count": 113,
     "metadata": {},
     "output_type": "execute_result"
    }
   ],
   "source": [
    "# Write a function that finds the result of the nth factorial number\n",
    "\n",
    "# Decrement Function\n",
    "def my_factorial(n): # Start case\n",
    "    \n",
    "#     break case\n",
    "    if n <= 0:\n",
    "        return 1\n",
    "    return n * my_factorial(n - 1)\n",
    "    \n",
    "my_factorial(5)\n",
    "    \n",
    "\n",
    "# Stack 1 -> 5 * my_factorial( 5 - 1 -> 4)\n",
    "# Stack 2 -> 4 * my_factorial( 4 - 1 -> 3)\n",
    "# Stack 3 -> 3 * my_factorial( 3 - 1 -> 2)\n",
    "# Stack 4 -> 2 * my_factorial( 2 - 1 -> 1)\n",
    "# Stack 5 -> 1 * my_factorial( 1 - 1 -> 0)\n",
    "# Stack 6 -> 0 -> 1 -> We hit the break case and now we have a number to calculate from\n",
    "# Our Actual Computation starts when we reach the Break Case\n",
    "\n",
    "\n",
    "# Stack 6 -> 1\n",
    "# Stack 5 -> 1 * Return Value from Stack 6 (1) -> 1\n",
    "# Stack 4 -> 2 * Return Value from Stack 5 (1) -> 2\n",
    "# Stack 3 -> 3 * Return value from Stack 4 (2) -> 6\n",
    "# Stack 2 -> 4 * Return Value from Stack 3 (6) -> 24\n",
    "# Stack 1 -> 5 * Return Value from Stack 2 (24) -> 120\n",
    "# Our Final Return Value always comes from Stack 1\n",
    "\n",
    "\n",
    "\n",
    "\n",
    "\n",
    "\n",
    "    \n",
    "\n",
    "\n",
    "# Type your code above this line\n",
    "# print(my_func(5)) -> 120\n",
    "\n",
    "\n",
    "# What is the maximum number your IDE can go before hitting a recursion depth error?\n",
    "\n",
    "len(str(my_factorial(2971)))\n"
   ]
  },
  {
   "cell_type": "code",
   "execution_count": null,
   "id": "ab86d8c9",
   "metadata": {},
   "outputs": [],
   "source": []
  },
  {
   "cell_type": "code",
   "execution_count": null,
   "id": "64487f0d",
   "metadata": {},
   "outputs": [],
   "source": []
  },
  {
   "cell_type": "code",
   "execution_count": null,
   "id": "ed580ca1",
   "metadata": {},
   "outputs": [],
   "source": []
  },
  {
   "cell_type": "code",
   "execution_count": null,
   "id": "5f54e966",
   "metadata": {},
   "outputs": [],
   "source": []
  },
  {
   "cell_type": "code",
   "execution_count": null,
   "id": "03771b73",
   "metadata": {},
   "outputs": [],
   "source": []
  },
  {
   "cell_type": "code",
   "execution_count": null,
   "id": "49e5938d",
   "metadata": {},
   "outputs": [],
   "source": []
  },
  {
   "cell_type": "code",
   "execution_count": null,
   "id": "1ebb951f",
   "metadata": {},
   "outputs": [],
   "source": []
  },
  {
   "cell_type": "code",
   "execution_count": null,
   "id": "5dc7ca97",
   "metadata": {},
   "outputs": [],
   "source": []
  }
 ],
 "metadata": {
  "kernelspec": {
   "display_name": "Python 3 (ipykernel)",
   "language": "python",
   "name": "python3"
  },
  "language_info": {
   "codemirror_mode": {
    "name": "ipython",
    "version": 3
   },
   "file_extension": ".py",
   "mimetype": "text/x-python",
   "name": "python",
   "nbconvert_exporter": "python",
   "pygments_lexer": "ipython3",
   "version": "3.9.10"
  }
 },
 "nbformat": 4,
 "nbformat_minor": 5
}

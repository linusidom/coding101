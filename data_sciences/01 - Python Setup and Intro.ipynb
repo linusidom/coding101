{
 "cells": [
  {
   "cell_type": "markdown",
   "id": "4c624206",
   "metadata": {},
   "source": [
    "# Agenda\n",
    "\n",
    "### Install Python\n",
    "- https://www.python.org/\n",
    "- Donwload the version that is appropriate for your operating system\n",
    "\n",
    "\n",
    "### Review Virtual Environments (Optional, not mandary but STRONGLY SUGGESTED)\n",
    "\n",
    "###### What is an Environment\n",
    "Environment aka your current Operating System with all the packages and<br>libraries avaialable to every application on your system\n",
    "\n",
    "###### Pros and Cons of main Environment\n",
    "Installed packages available to every application\n",
    "\n",
    "Default, no extra config needed\n",
    "\n",
    "Can't separate applications by package version - ex I want to use package version 1.0 <br> but my default environment is on 2.0...What do I do?\n",
    "\n",
    "###### Introduce Virtual Environments\n",
    "Can have a separate instance with a copy of the basic package \n",
    "\n",
    "With multiple applications, each application can have it's own specific version of packages underneath\n",
    " \n",
    "### What is a package, what is an application?\n",
    "Application - single or multiple packages that performs a specific function for an end user\n",
    "\n",
    "Package - set of code designed to carry out a single task\n",
    "\n",
    "\n",
    "### Python Package Manager (pip)\n",
    "Python has thousands of publicly available free packages to use for development\n",
    "\n",
    "The ones we'll be using in this course will be pandas, matplotlib, seaborn, scikit-learn and many many more!\n",
    "\n",
    "How to install packages\n",
    "`pip install *package name*`\n",
    "\n",
    "\n",
    "### Installing our first package\n",
    "Today we will install the Jupyter Notebook IDE\n",
    "\n",
    "This IDE (Integrated Development Environment) will be where we write all of our Python code\n",
    "\n",
    "There are 2 options, there is no wrong way to do this except for not doing it :)\n",
    "\n",
    "Both of the following must be done from the Command Prompt (Windows) or the Terminal Window (Linux/Mac)\n",
    "\n",
    "###### Option 1 - Virtual Environment\n",
    "`\n",
    "python3 -m venv test_virtual_environment\n",
    "source test_virtual_environment/bin/activate\n",
    "pip install notebook\n",
    "`\n",
    "\n",
    "For future lectures we'll be installing packages and to get those packages to<br> integrate with Jupyter when using a Virtual Environment run the following command\n",
    "\n",
    "`python -m ipykernel install --user --name=*environment name of your choice*`\n",
    "\n",
    "In the Jupyter notebook under **Kernel**, at the bottom is an option to **Change Kernel** and <br>there you should see your newly created kernel show\n",
    "\n",
    "You can select this kernel and you're all set to use external packages in Jupyter\n",
    "\n",
    "###### Option 2 - No Virtual Environment\n",
    "`pip install notebook`\n",
    "\n",
    "\n",
    "# Let's get started\n",
    "\n",
    "### Getting to know Jupyter Notebook IDE\n",
    "- Let's go through how to use Jupyter notbook\n",
    "\n",
    "### Writing our first lines of Python Code!\n",
    "\n",
    "##### Comments\n",
    "Single Line Comments (Most common)\n",
    "- **#** Symobl as the first character in the line\n",
    "- Comments will be ignored by the python interpreter\n",
    "\n",
    "Block/Multi-line Comments (will see more when we get into Classes)\n",
    "- Triple Single Quotes or Triple Double Quotes surrounding the block of commented our content\n",
    "- `''' Comment '''`\n",
    "- `\"\"\" Comment \"\"\"`\n",
    "- NOTE: Jupyter notebook does not handle these comments well but other IDE's will\n",
    "\n",
    "\n",
    "\n",
    "###### Print Statements\n",
    "Single Line Print Statement (most common)\n",
    "- `print('Single Quotes are most common')\n",
    "print(\"Use 'Double Quotes' if you plan to use single quotes inside / Can flip the quotes if desired\")`\n",
    "\n",
    "Block / Multi-Line Print Statements (not too common)\n",
    "- `print(''' This style allows for Multi-line Comments''')\n",
    "print(\"This style \\n\\ also allows for multi-line comments \\n\\ but is not used as often\")`\n",
    "\n",
    "Printing with Variables...What are variables??\n",
    "- `print(f'{*variable_name_here*}`\n",
    "\n",
    "\n"
   ]
  },
  {
   "cell_type": "code",
   "execution_count": 1,
   "id": "a7153dd6",
   "metadata": {},
   "outputs": [],
   "source": [
    "# Comment and an Intro to Jupyter Notebooks"
   ]
  },
  {
   "cell_type": "code",
   "execution_count": null,
   "id": "44827400",
   "metadata": {},
   "outputs": [],
   "source": [
    "# Shift + Enter to make more cells and Run the Current Cell"
   ]
  },
  {
   "cell_type": "code",
   "execution_count": 2,
   "id": "8a81727d",
   "metadata": {},
   "outputs": [],
   "source": [
    "# Delete Cells 'dd'"
   ]
  },
  {
   "cell_type": "code",
   "execution_count": null,
   "id": "9a4218a8",
   "metadata": {},
   "outputs": [],
   "source": [
    "# To add a cell above , 'a'"
   ]
  },
  {
   "cell_type": "code",
   "execution_count": 3,
   "id": "edf68fe5",
   "metadata": {},
   "outputs": [],
   "source": [
    "# Green is Edit mode and Blue is Command Mode (or shortcut mode)"
   ]
  },
  {
   "cell_type": "code",
   "execution_count": 4,
   "id": "0cbaeba9",
   "metadata": {},
   "outputs": [],
   "source": [
    "# Now I can edit things here"
   ]
  },
  {
   "cell_type": "code",
   "execution_count": 6,
   "id": "82ab6bd4",
   "metadata": {},
   "outputs": [],
   "source": [
    "# ''' Comment '''\n",
    "# \"\"\" Comment \"\"\"\n",
    "# For mutliline comments in Jupyter specifically use CMD + / while all the lines are highlighted"
   ]
  },
  {
   "cell_type": "code",
   "execution_count": null,
   "id": "50367250",
   "metadata": {},
   "outputs": [],
   "source": [
    "# PRINT STATEMENTS"
   ]
  },
  {
   "cell_type": "code",
   "execution_count": 8,
   "id": "e0f72c3f",
   "metadata": {},
   "outputs": [
    {
     "name": "stdout",
     "output_type": "stream",
     "text": [
      "My first python Code!\n"
     ]
    }
   ],
   "source": [
    "print('My first python Code!')"
   ]
  },
  {
   "cell_type": "code",
   "execution_count": 9,
   "id": "e5875bf5",
   "metadata": {},
   "outputs": [
    {
     "name": "stdout",
     "output_type": "stream",
     "text": [
      "Jupyter notebook gives faster results\n"
     ]
    }
   ],
   "source": [
    "print('Jupyter notebook gives faster results')"
   ]
  },
  {
   "cell_type": "code",
   "execution_count": 12,
   "id": "1abdef94",
   "metadata": {},
   "outputs": [
    {
     "name": "stdout",
     "output_type": "stream",
     "text": [
      "If I'm going to use Single Quotes inside my quote, I should use Double quotes on the outside\n"
     ]
    }
   ],
   "source": [
    "print(\"If I'm going to use Single Quotes inside my quote, I should use Double quotes on the outside\")"
   ]
  },
  {
   "cell_type": "code",
   "execution_count": 13,
   "id": "ce855ed9",
   "metadata": {},
   "outputs": [],
   "source": [
    "# Multi-line / Block Print Statement (not too common but good to know if you see them)"
   ]
  },
  {
   "cell_type": "code",
   "execution_count": 16,
   "id": "d22a8f47",
   "metadata": {},
   "outputs": [
    {
     "name": "stdout",
     "output_type": "stream",
     "text": [
      " This\n",
      "Is\n",
      "A\n",
      "Mult-line\n",
      "    Print\n",
      "        Statement\n"
     ]
    }
   ],
   "source": [
    "print(''' This\n",
    "Is\n",
    "A\n",
    "Mult-line\n",
    "    Print\n",
    "        Statement''')"
   ]
  },
  {
   "cell_type": "code",
   "execution_count": 18,
   "id": "bc10846e",
   "metadata": {},
   "outputs": [
    {
     "name": "stdout",
     "output_type": "stream",
     "text": [
      "This \n",
      "is\n",
      "     a\n",
      "     Multiline\n",
      "     Print\n",
      "         Statement\n"
     ]
    }
   ],
   "source": [
    "print('This \\n\\\n",
    "is\\n\\\n",
    "     a\\n\\\n",
    "     Multiline\\n\\\n",
    "     Print\\n\\\n",
    "         Statement')"
   ]
  },
  {
   "cell_type": "code",
   "execution_count": 19,
   "id": "756fcb1e",
   "metadata": {},
   "outputs": [],
   "source": [
    "variable = 'This is a variable'"
   ]
  },
  {
   "cell_type": "code",
   "execution_count": 20,
   "id": "53e653eb",
   "metadata": {},
   "outputs": [
    {
     "name": "stdout",
     "output_type": "stream",
     "text": [
      "This is a variable\n"
     ]
    }
   ],
   "source": [
    "print(f'{variable}')"
   ]
  },
  {
   "cell_type": "code",
   "execution_count": null,
   "id": "cecd5bda",
   "metadata": {},
   "outputs": [],
   "source": []
  },
  {
   "cell_type": "code",
   "execution_count": null,
   "id": "6dc313c2",
   "metadata": {},
   "outputs": [],
   "source": []
  },
  {
   "cell_type": "code",
   "execution_count": null,
   "id": "578aab4f",
   "metadata": {},
   "outputs": [],
   "source": []
  },
  {
   "cell_type": "code",
   "execution_count": null,
   "id": "836ec102",
   "metadata": {},
   "outputs": [],
   "source": []
  }
 ],
 "metadata": {
  "kernelspec": {
   "display_name": "Python 3 (ipykernel)",
   "language": "python",
   "name": "python3"
  },
  "language_info": {
   "codemirror_mode": {
    "name": "ipython",
    "version": 3
   },
   "file_extension": ".py",
   "mimetype": "text/x-python",
   "name": "python",
   "nbconvert_exporter": "python",
   "pygments_lexer": "ipython3",
   "version": "3.9.10"
  }
 },
 "nbformat": 4,
 "nbformat_minor": 5
}

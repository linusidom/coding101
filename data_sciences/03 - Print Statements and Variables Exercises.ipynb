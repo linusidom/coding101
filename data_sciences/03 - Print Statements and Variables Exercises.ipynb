{
 "cells": [
  {
   "cell_type": "markdown",
   "id": "8652a654",
   "metadata": {},
   "source": [
    "# Exercises"
   ]
  },
  {
   "cell_type": "markdown",
   "id": "e8221c68",
   "metadata": {},
   "source": [
    "### Print Statements"
   ]
  },
  {
   "cell_type": "code",
   "execution_count": 3,
   "id": "07d26983",
   "metadata": {},
   "outputs": [
    {
     "name": "stdout",
     "output_type": "stream",
     "text": [
      "This is a string\n"
     ]
    }
   ],
   "source": [
    "print(\"This is a string\")"
   ]
  },
  {
   "cell_type": "code",
   "execution_count": 5,
   "id": "404e7b55",
   "metadata": {},
   "outputs": [
    {
     "name": "stdout",
     "output_type": "stream",
     "text": [
      "This is also a string but I'm not too sure\n"
     ]
    }
   ],
   "source": [
    "print(\"This is also a string but I'm not too sure\")"
   ]
  },
  {
   "cell_type": "code",
   "execution_count": 12,
   "id": "c7e22fe6",
   "metadata": {},
   "outputs": [
    {
     "name": "stdout",
     "output_type": "stream",
     "text": [
      "This is a string too but there is another problem\n"
     ]
    }
   ],
   "source": [
    "print('This is a string too but there is another problem')\n",
    "\n",
    "# Python cannot have indentations outside of a logic block (if/for/function/class)\n",
    "# But Jupyter will still run the python code regardless of the indentation"
   ]
  },
  {
   "cell_type": "code",
   "execution_count": 11,
   "id": "6b9a9ad1",
   "metadata": {},
   "outputs": [
    {
     "name": "stdout",
     "output_type": "stream",
     "text": [
      "\n",
      "      Fix me\n",
      "      Pretty\n",
      "      Please\n",
      "      \n"
     ]
    }
   ],
   "source": [
    "# choose whatever method you're comfortable with\n",
    "# Multi-line Print statement\n",
    "\n",
    "print('''\n",
    "      Fix me\n",
    "      Pretty\n",
    "      Please\n",
    "      ''')"
   ]
  },
  {
   "cell_type": "markdown",
   "id": "a1c42888",
   "metadata": {},
   "source": [
    "### Strings"
   ]
  },
  {
   "cell_type": "code",
   "execution_count": 14,
   "id": "7b63b106",
   "metadata": {},
   "outputs": [],
   "source": [
    "var = 'This is a string'"
   ]
  },
  {
   "cell_type": "code",
   "execution_count": 20,
   "id": "235909d0",
   "metadata": {},
   "outputs": [
    {
     "data": {
      "text/plain": [
       "'This is a str'"
      ]
     },
     "execution_count": 20,
     "metadata": {},
     "output_type": "execute_result"
    }
   ],
   "source": [
    "# print only the following 'is a str' from above\n",
    "var[0:13]\n",
    "\n",
    "# Type your code above this line"
   ]
  },
  {
   "cell_type": "code",
   "execution_count": 25,
   "id": "f773eddc",
   "metadata": {
    "scrolled": true
   },
   "outputs": [
    {
     "data": {
      "text/plain": [
       "'Ti sasrn'"
      ]
     },
     "execution_count": 25,
     "metadata": {},
     "output_type": "execute_result"
    }
   ],
   "source": [
    "# print every other letter from 'var' using indexing\n",
    "var[::2]\n",
    "\n",
    "# Type your code above this line"
   ]
  },
  {
   "cell_type": "code",
   "execution_count": 22,
   "id": "92dadc0e",
   "metadata": {},
   "outputs": [
    {
     "data": {
      "text/plain": [
       "'THIS IS A STRING'"
      ]
     },
     "execution_count": 22,
     "metadata": {},
     "output_type": "execute_result"
    }
   ],
   "source": [
    "# Uppercase the entire string\n",
    "var.upper()\n",
    "\n",
    "# Type your code above this line"
   ]
  },
  {
   "cell_type": "code",
   "execution_count": 29,
   "id": "d255e540",
   "metadata": {},
   "outputs": [
    {
     "data": {
      "text/plain": [
       "['This', 'is', 'a', 'string']"
      ]
     },
     "execution_count": 29,
     "metadata": {},
     "output_type": "execute_result"
    }
   ],
   "source": [
    "# Split the string and store the results in a new variable 'split_string'\n",
    "split_string = var.split()\n",
    "split_string\n",
    "\n",
    "# Type your code above this line"
   ]
  },
  {
   "cell_type": "code",
   "execution_count": 36,
   "id": "86e05f54",
   "metadata": {},
   "outputs": [
    {
     "data": {
      "text/plain": [
       "'This***is***a***string'"
      ]
     },
     "execution_count": 36,
     "metadata": {},
     "output_type": "execute_result"
    }
   ],
   "source": [
    "# Join the variable 'split_string' with '***' as the delimter\n",
    "'***'.join(split_string)\n",
    "\n",
    "# Type your code above this line"
   ]
  },
  {
   "cell_type": "markdown",
   "id": "128c9288",
   "metadata": {},
   "source": [
    "### Integers"
   ]
  },
  {
   "cell_type": "code",
   "execution_count": 37,
   "id": "2af674b0",
   "metadata": {},
   "outputs": [],
   "source": [
    "number = 50"
   ]
  },
  {
   "cell_type": "code",
   "execution_count": 42,
   "id": "ae5dcc6d",
   "metadata": {},
   "outputs": [
    {
     "name": "stdout",
     "output_type": "stream",
     "text": [
      "You got it! 50.0\n"
     ]
    }
   ],
   "source": [
    "# fix the following formula so the output passes the test\n",
    "\n",
    "result = number * (number - number) / number + number\n",
    "\n",
    "# Change only the code above this line\n",
    "# Hint PEMDAS\n",
    "\n",
    "if result == number:\n",
    "    print('You got it!', result)\n",
    "else:\n",
    "    print('Not quite, try Again', result)"
   ]
  },
  {
   "cell_type": "markdown",
   "id": "54fc5c26",
   "metadata": {},
   "source": [
    "### Conversion"
   ]
  },
  {
   "cell_type": "code",
   "execution_count": 44,
   "id": "91810afe",
   "metadata": {},
   "outputs": [],
   "source": [
    "str1 = '2'\n",
    "num1 = 5"
   ]
  },
  {
   "cell_type": "code",
   "execution_count": 48,
   "id": "78d0862c",
   "metadata": {},
   "outputs": [
    {
     "name": "stdout",
     "output_type": "stream",
     "text": [
      "25\n"
     ]
    }
   ],
   "source": [
    "# output the number 25 using  str1 and num1\n",
    "# Hint check data types\n",
    "print(str1 + str(num1))\n",
    "\n",
    "\n",
    "# Type your code above this line"
   ]
  },
  {
   "cell_type": "code",
   "execution_count": 52,
   "id": "b88801f7",
   "metadata": {},
   "outputs": [
    {
     "name": "stdout",
     "output_type": "stream",
     "text": [
      "7\n"
     ]
    }
   ],
   "source": [
    "# output the number 7 using  str1 and num1\n",
    "print(int(str1) + num1)\n",
    "\n",
    "# Type your code above this line"
   ]
  },
  {
   "cell_type": "code",
   "execution_count": 56,
   "id": "17596669",
   "metadata": {},
   "outputs": [
    {
     "name": "stdout",
     "output_type": "stream",
     "text": [
      "22222\n"
     ]
    }
   ],
   "source": [
    "# output the number 22222 using only str1 1 time\n",
    "# Hint: PEMDAS\n",
    "print(str1 * num1)\n",
    "\n",
    "# We can use multiplication with strings and numbers\n",
    "# Cannot use other math symbols between strings and integers\n",
    "\n",
    "# Type your code above this line"
   ]
  },
  {
   "cell_type": "markdown",
   "id": "6088f980",
   "metadata": {},
   "source": [
    "### Different kinds of Print statement with Variables"
   ]
  },
  {
   "cell_type": "code",
   "execution_count": 57,
   "id": "9c9e0f62",
   "metadata": {},
   "outputs": [],
   "source": [
    "first_name = 'John'\n",
    "last_name = 'Doe'"
   ]
  },
  {
   "cell_type": "code",
   "execution_count": 71,
   "id": "417ed84f",
   "metadata": {},
   "outputs": [
    {
     "name": "stdout",
     "output_type": "stream",
     "text": [
      "Hello John Doe , welcome to the Python Data Sciences Course\n"
     ]
    }
   ],
   "source": [
    "# print 'Hello John Doe, welcome to the Python Data Sciences Course'\n",
    "# Use comma separated values\n",
    "print('Hello', first_name, last_name, ', welcome to the Python Data Sciences Course')\n",
    "\n",
    "# Type your code above this line"
   ]
  },
  {
   "cell_type": "code",
   "execution_count": 67,
   "id": "82884332",
   "metadata": {},
   "outputs": [
    {
     "name": "stdout",
     "output_type": "stream",
     "text": [
      "Hello John Doe, welcome to the Python Data Sciences Course\n"
     ]
    }
   ],
   "source": [
    "# print 'Hello John Doe, welcome to the Python Data Sciences Course'\n",
    "# Use string concatenation\n",
    "print('Hello ' + first_name + ' ' + last_name + ', welcome to the Python Data Sciences Course')\n",
    "\n",
    "\n",
    "# Type your code above this line"
   ]
  },
  {
   "cell_type": "code",
   "execution_count": 72,
   "id": "942dea3e",
   "metadata": {},
   "outputs": [
    {
     "name": "stdout",
     "output_type": "stream",
     "text": [
      "Hello John Doe, welcome to the Python Data Sciences Course\n"
     ]
    }
   ],
   "source": [
    "# print 'Hello John Doe, welcome to the Python Data Sciences Course'\n",
    "# Use string formatting\n",
    "print(f'Hello {first_name} {last_name}, welcome to the Python Data Sciences Course')\n",
    "\n",
    "# Type your code above this line"
   ]
  },
  {
   "cell_type": "code",
   "execution_count": null,
   "id": "090c3090",
   "metadata": {},
   "outputs": [],
   "source": []
  },
  {
   "cell_type": "code",
   "execution_count": null,
   "id": "fdae5b80",
   "metadata": {},
   "outputs": [],
   "source": []
  },
  {
   "cell_type": "code",
   "execution_count": null,
   "id": "001beb5f",
   "metadata": {},
   "outputs": [],
   "source": []
  },
  {
   "cell_type": "code",
   "execution_count": null,
   "id": "e76d8859",
   "metadata": {},
   "outputs": [],
   "source": []
  },
  {
   "cell_type": "code",
   "execution_count": null,
   "id": "ffc1ca50",
   "metadata": {},
   "outputs": [],
   "source": []
  },
  {
   "cell_type": "code",
   "execution_count": null,
   "id": "ba441d8c",
   "metadata": {},
   "outputs": [],
   "source": []
  },
  {
   "cell_type": "code",
   "execution_count": null,
   "id": "c3cf560f",
   "metadata": {},
   "outputs": [],
   "source": []
  },
  {
   "cell_type": "code",
   "execution_count": null,
   "id": "90d3fd08",
   "metadata": {},
   "outputs": [],
   "source": []
  }
 ],
 "metadata": {
  "kernelspec": {
   "display_name": "Python 3 (ipykernel)",
   "language": "python",
   "name": "python3"
  },
  "language_info": {
   "codemirror_mode": {
    "name": "ipython",
    "version": 3
   },
   "file_extension": ".py",
   "mimetype": "text/x-python",
   "name": "python",
   "nbconvert_exporter": "python",
   "pygments_lexer": "ipython3",
   "version": "3.9.10"
  }
 },
 "nbformat": 4,
 "nbformat_minor": 5
}

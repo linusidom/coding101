{
 "cells": [
  {
   "cell_type": "markdown",
   "id": "200da2a6",
   "metadata": {},
   "source": [
    "# Lists Cheat Sheet\n",
    "\n",
    "### What are Lists?\n",
    "Ordered Storage container that can hold any kind of data\n",
    "\n",
    "If it has an order, it has an index so we can access any element we want to\n",
    "\n",
    "Lists are a really quick and easy way to store data for use within a program\n",
    "\n",
    "Lists are Mutable meaning that we can change the contents without re-assigning the entire list\n",
    "\n",
    "### Why do we use lists?\n",
    "\n",
    "Lists allow for per item processing\n",
    "\n",
    "Lists can store any data type in an ordered predictable sequence\n",
    "\n",
    "Most common use case in applications is to pull multiple records from a Database and  \n",
    "store the values in a list to present to the user.\n",
    "\n",
    "Be careful to not name your variable 'list' because *list* is an actual function in python\n",
    "\n",
    "### Creating a list\n",
    "Use Square bracket on each end\n",
    "Each value within a list must be separated by a comma\n",
    "\n",
    "Most Common `list1 = [1,2,3,'a','b','c']`\n",
    "\n",
    "Another way `list(*iterable*)`\n",
    "\n",
    "### List Indexing and re-assigning\n",
    "\n",
    "\n",
    "###### Indexing\n",
    "`list1[start:stop:step]`\n",
    "\n",
    "Get the first element `list1[0]`  \n",
    "Get the last element `list1[-1]`\n",
    "\n",
    "###### Re-assigning\n",
    "`list1[0] = 'New Value'`\n",
    "\n",
    "### Nested Lists\n",
    "Lists can contain other lists  \n",
    "\n",
    "`\n",
    "list1 = ['hello',['this','is',['an', 'example', ['print me'], 'a'], 'nested'], 'list']\n",
    "list1[1][2][2][0]\n",
    "`\n",
    "\n",
    "\n",
    "\n",
    "\n",
    "### List Copying (be careful)\n",
    "List copying does not work the way one thinks that copying works\n",
    "\n",
    "Most common method  \n",
    "`list2 = list1[:]`\n",
    "\n",
    "**BUT** this method does not work for nested lists\n",
    "\n",
    "###### Copy nested lists\n",
    "\n",
    "Not too common but good to know  \n",
    "`\n",
    "import copy \n",
    "list2 = copy.deepcopy(list1)\n",
    "`\n",
    "\n",
    "\n",
    "### Common Methods\n",
    "\n",
    "###### append\n",
    "Adds an element to the end of the list\n",
    "\n",
    "###### pop\n",
    "Removes the very last element from the list\n",
    "\n",
    "###### len\n",
    "Returns the size of the list  \n",
    "Can be used with strings as well"
   ]
  },
  {
   "cell_type": "code",
   "execution_count": 1,
   "id": "80c3ce82",
   "metadata": {},
   "outputs": [],
   "source": [
    "list1 = [1,2,3,'a','b','c']"
   ]
  },
  {
   "cell_type": "code",
   "execution_count": 2,
   "id": "a30f5ae4",
   "metadata": {},
   "outputs": [
    {
     "data": {
      "text/plain": [
       "[1, 2, 3, 'a', 'b', 'c']"
      ]
     },
     "execution_count": 2,
     "metadata": {},
     "output_type": "execute_result"
    }
   ],
   "source": [
    "list1"
   ]
  },
  {
   "cell_type": "code",
   "execution_count": 4,
   "id": "679ec0bd",
   "metadata": {},
   "outputs": [
    {
     "data": {
      "text/plain": [
       "'c'"
      ]
     },
     "execution_count": 4,
     "metadata": {},
     "output_type": "execute_result"
    }
   ],
   "source": [
    "# Ordered items in a list is very important to know an remember because dictionaries do not preserve order\n",
    "\n",
    "list1[5]"
   ]
  },
  {
   "cell_type": "code",
   "execution_count": 9,
   "id": "58468a52",
   "metadata": {},
   "outputs": [],
   "source": [
    "list2 = list([1,2,3])"
   ]
  },
  {
   "cell_type": "code",
   "execution_count": 10,
   "id": "e43a094d",
   "metadata": {},
   "outputs": [
    {
     "data": {
      "text/plain": [
       "[1, 2, 3]"
      ]
     },
     "execution_count": 10,
     "metadata": {},
     "output_type": "execute_result"
    }
   ],
   "source": [
    "list2"
   ]
  },
  {
   "cell_type": "code",
   "execution_count": 11,
   "id": "d5c9a4e9",
   "metadata": {},
   "outputs": [],
   "source": [
    "# Indexing"
   ]
  },
  {
   "cell_type": "code",
   "execution_count": 12,
   "id": "749391f3",
   "metadata": {},
   "outputs": [
    {
     "data": {
      "text/plain": [
       "[1, 2, 3, 'a', 'b', 'c']"
      ]
     },
     "execution_count": 12,
     "metadata": {},
     "output_type": "execute_result"
    }
   ],
   "source": [
    "list1"
   ]
  },
  {
   "cell_type": "code",
   "execution_count": 14,
   "id": "7edf29de",
   "metadata": {},
   "outputs": [
    {
     "data": {
      "text/plain": [
       "[1, 3, 'b']"
      ]
     },
     "execution_count": 14,
     "metadata": {},
     "output_type": "execute_result"
    }
   ],
   "source": [
    "list1[0:5:2]"
   ]
  },
  {
   "cell_type": "code",
   "execution_count": 22,
   "id": "6c2ad525",
   "metadata": {},
   "outputs": [
    {
     "data": {
      "text/plain": [
       "['b', 'c']"
      ]
     },
     "execution_count": 22,
     "metadata": {},
     "output_type": "execute_result"
    }
   ],
   "source": [
    "list1[-2:] # Only print the last 2 Elements"
   ]
  },
  {
   "cell_type": "code",
   "execution_count": 21,
   "id": "ed07f8b3",
   "metadata": {},
   "outputs": [
    {
     "data": {
      "text/plain": [
       "[1, 2, 3, 'a']"
      ]
     },
     "execution_count": 21,
     "metadata": {},
     "output_type": "execute_result"
    }
   ],
   "source": [
    "list1[:-2] # print everything but the last 2 elements"
   ]
  },
  {
   "cell_type": "code",
   "execution_count": 23,
   "id": "8c3b392c",
   "metadata": {},
   "outputs": [],
   "source": [
    "list1[0] = 'New Value'"
   ]
  },
  {
   "cell_type": "code",
   "execution_count": 25,
   "id": "a776f4ba",
   "metadata": {},
   "outputs": [
    {
     "data": {
      "text/plain": [
       "['New Value', 2, 3, 'a', 'b', 'c']"
      ]
     },
     "execution_count": 25,
     "metadata": {},
     "output_type": "execute_result"
    }
   ],
   "source": [
    "list1"
   ]
  },
  {
   "cell_type": "code",
   "execution_count": 26,
   "id": "97c04510",
   "metadata": {},
   "outputs": [],
   "source": [
    "list2 = ['hello',['this','is',['an', 'example', ['print me'], 'a'], 'nested'], 'list']"
   ]
  },
  {
   "cell_type": "code",
   "execution_count": 27,
   "id": "8c25e854",
   "metadata": {},
   "outputs": [
    {
     "data": {
      "text/plain": [
       "['hello',\n",
       " ['this', 'is', ['an', 'example', ['print me'], 'a'], 'nested'],\n",
       " 'list']"
      ]
     },
     "execution_count": 27,
     "metadata": {},
     "output_type": "execute_result"
    }
   ],
   "source": [
    "list2"
   ]
  },
  {
   "cell_type": "code",
   "execution_count": 43,
   "id": "5f5eec94",
   "metadata": {},
   "outputs": [
    {
     "data": {
      "text/plain": [
       "'print me'"
      ]
     },
     "execution_count": 43,
     "metadata": {},
     "output_type": "execute_result"
    }
   ],
   "source": [
    "list2[1][2][2][0]"
   ]
  },
  {
   "cell_type": "code",
   "execution_count": 44,
   "id": "9335b7ba",
   "metadata": {},
   "outputs": [
    {
     "data": {
      "text/plain": [
       "['New Value', 2, 3, 'a', 'b', 'c']"
      ]
     },
     "execution_count": 44,
     "metadata": {},
     "output_type": "execute_result"
    }
   ],
   "source": [
    "list1"
   ]
  },
  {
   "cell_type": "code",
   "execution_count": 47,
   "id": "428ce8f5",
   "metadata": {},
   "outputs": [],
   "source": [
    "# With Python, this is really wierd and confusing, and can cause a lot of headaches\n",
    "# Python doesn't make a real copy, it just points from the original to the new with pointers\n",
    "# The copy and the original are basically the exact same\n",
    "\n",
    "copied_list = list1 # no real point in doing this..."
   ]
  },
  {
   "cell_type": "code",
   "execution_count": 49,
   "id": "e3381102",
   "metadata": {},
   "outputs": [
    {
     "data": {
      "text/plain": [
       "['New Value', 2, 3, 'a', 'b', 'c']"
      ]
     },
     "execution_count": 49,
     "metadata": {},
     "output_type": "execute_result"
    }
   ],
   "source": [
    "copied_list"
   ]
  },
  {
   "cell_type": "code",
   "execution_count": 50,
   "id": "41e19a33",
   "metadata": {},
   "outputs": [],
   "source": [
    "list1[0] = 1"
   ]
  },
  {
   "cell_type": "code",
   "execution_count": 51,
   "id": "1612212c",
   "metadata": {},
   "outputs": [
    {
     "data": {
      "text/plain": [
       "[1, 2, 3, 'a', 'b', 'c']"
      ]
     },
     "execution_count": 51,
     "metadata": {},
     "output_type": "execute_result"
    }
   ],
   "source": [
    "list1"
   ]
  },
  {
   "cell_type": "code",
   "execution_count": 52,
   "id": "c806e109",
   "metadata": {},
   "outputs": [
    {
     "data": {
      "text/plain": [
       "[1, 2, 3, 'a', 'b', 'c']"
      ]
     },
     "execution_count": 52,
     "metadata": {},
     "output_type": "execute_result"
    }
   ],
   "source": [
    "copied_list"
   ]
  },
  {
   "cell_type": "code",
   "execution_count": 53,
   "id": "d8e0992a",
   "metadata": {},
   "outputs": [],
   "source": [
    "# This only works for flattened lists, does not work for lists within lists\n",
    "\n",
    "\n",
    "copied_list = list1[:]"
   ]
  },
  {
   "cell_type": "code",
   "execution_count": 54,
   "id": "e762e394",
   "metadata": {},
   "outputs": [
    {
     "data": {
      "text/plain": [
       "[1, 2, 3, 'a', 'b', 'c']"
      ]
     },
     "execution_count": 54,
     "metadata": {},
     "output_type": "execute_result"
    }
   ],
   "source": [
    "list1"
   ]
  },
  {
   "cell_type": "code",
   "execution_count": 55,
   "id": "76c65333",
   "metadata": {},
   "outputs": [
    {
     "data": {
      "text/plain": [
       "[1, 2, 3, 'a', 'b', 'c']"
      ]
     },
     "execution_count": 55,
     "metadata": {},
     "output_type": "execute_result"
    }
   ],
   "source": [
    "copied_list"
   ]
  },
  {
   "cell_type": "code",
   "execution_count": 56,
   "id": "820cc12e",
   "metadata": {},
   "outputs": [],
   "source": [
    "list1[0] = 'This is the original'"
   ]
  },
  {
   "cell_type": "code",
   "execution_count": 57,
   "id": "b43e5f13",
   "metadata": {},
   "outputs": [
    {
     "data": {
      "text/plain": [
       "['This is the original', 2, 3, 'a', 'b', 'c']"
      ]
     },
     "execution_count": 57,
     "metadata": {},
     "output_type": "execute_result"
    }
   ],
   "source": [
    "list1"
   ]
  },
  {
   "cell_type": "code",
   "execution_count": 58,
   "id": "0da7c125",
   "metadata": {},
   "outputs": [
    {
     "data": {
      "text/plain": [
       "[1, 2, 3, 'a', 'b', 'c']"
      ]
     },
     "execution_count": 58,
     "metadata": {},
     "output_type": "execute_result"
    }
   ],
   "source": [
    "copied_list"
   ]
  },
  {
   "cell_type": "code",
   "execution_count": null,
   "id": "8de9ab11",
   "metadata": {},
   "outputs": [],
   "source": [
    "# Nested Example"
   ]
  },
  {
   "cell_type": "code",
   "execution_count": 59,
   "id": "28b53e53",
   "metadata": {},
   "outputs": [],
   "source": [
    "copied_nested = list2[:]\n",
    "\n"
   ]
  },
  {
   "cell_type": "code",
   "execution_count": 60,
   "id": "f7f0e402",
   "metadata": {},
   "outputs": [
    {
     "data": {
      "text/plain": [
       "['hello',\n",
       " ['this', 'is', ['an', 'example', ['print me'], 'a'], 'nested'],\n",
       " 'list']"
      ]
     },
     "execution_count": 60,
     "metadata": {},
     "output_type": "execute_result"
    }
   ],
   "source": [
    "list2"
   ]
  },
  {
   "cell_type": "code",
   "execution_count": 61,
   "id": "3669abb7",
   "metadata": {},
   "outputs": [
    {
     "data": {
      "text/plain": [
       "['hello',\n",
       " ['this', 'is', ['an', 'example', ['print me'], 'a'], 'nested'],\n",
       " 'list']"
      ]
     },
     "execution_count": 61,
     "metadata": {},
     "output_type": "execute_result"
    }
   ],
   "source": [
    "copied_nested"
   ]
  },
  {
   "cell_type": "code",
   "execution_count": 62,
   "id": "d1d16e8b",
   "metadata": {},
   "outputs": [],
   "source": [
    "list2[1][2][2][0] = 'Changed'"
   ]
  },
  {
   "cell_type": "code",
   "execution_count": 63,
   "id": "93668ce8",
   "metadata": {},
   "outputs": [
    {
     "data": {
      "text/plain": [
       "['hello',\n",
       " ['this', 'is', ['an', 'example', ['Changed'], 'a'], 'nested'],\n",
       " 'list']"
      ]
     },
     "execution_count": 63,
     "metadata": {},
     "output_type": "execute_result"
    }
   ],
   "source": [
    "list2"
   ]
  },
  {
   "cell_type": "code",
   "execution_count": 64,
   "id": "fa3cfb98",
   "metadata": {},
   "outputs": [
    {
     "data": {
      "text/plain": [
       "['hello',\n",
       " ['this', 'is', ['an', 'example', ['Changed'], 'a'], 'nested'],\n",
       " 'list']"
      ]
     },
     "execution_count": 64,
     "metadata": {},
     "output_type": "execute_result"
    }
   ],
   "source": [
    "copied_nested"
   ]
  },
  {
   "cell_type": "code",
   "execution_count": 65,
   "id": "228d16d1",
   "metadata": {},
   "outputs": [],
   "source": [
    "# Specifically for nested lists (lists in lists)\n",
    "# We have to use deepcopy\n",
    "\n",
    "import copy\n",
    "copied_nested = copy.deepcopy(list2)\n",
    "\n"
   ]
  },
  {
   "cell_type": "code",
   "execution_count": 66,
   "id": "b5fb4618",
   "metadata": {},
   "outputs": [
    {
     "data": {
      "text/plain": [
       "['hello',\n",
       " ['this', 'is', ['an', 'example', ['Changed'], 'a'], 'nested'],\n",
       " 'list']"
      ]
     },
     "execution_count": 66,
     "metadata": {},
     "output_type": "execute_result"
    }
   ],
   "source": [
    "copied_nested"
   ]
  },
  {
   "cell_type": "code",
   "execution_count": 67,
   "id": "1b68fcd1",
   "metadata": {},
   "outputs": [],
   "source": [
    "list2[1][2][2][0] = 'print_me'"
   ]
  },
  {
   "cell_type": "code",
   "execution_count": 68,
   "id": "0597889f",
   "metadata": {},
   "outputs": [
    {
     "data": {
      "text/plain": [
       "['hello',\n",
       " ['this', 'is', ['an', 'example', ['Changed'], 'a'], 'nested'],\n",
       " 'list']"
      ]
     },
     "execution_count": 68,
     "metadata": {},
     "output_type": "execute_result"
    }
   ],
   "source": [
    "copied_nested"
   ]
  },
  {
   "cell_type": "code",
   "execution_count": 69,
   "id": "4e3669b9",
   "metadata": {},
   "outputs": [
    {
     "data": {
      "text/plain": [
       "['hello',\n",
       " ['this', 'is', ['an', 'example', ['print_me'], 'a'], 'nested'],\n",
       " 'list']"
      ]
     },
     "execution_count": 69,
     "metadata": {},
     "output_type": "execute_result"
    }
   ],
   "source": [
    "list2"
   ]
  },
  {
   "cell_type": "code",
   "execution_count": 70,
   "id": "36837a1a",
   "metadata": {},
   "outputs": [
    {
     "data": {
      "text/plain": [
       "['This is the original', 2, 3, 'a', 'b', 'c']"
      ]
     },
     "execution_count": 70,
     "metadata": {},
     "output_type": "execute_result"
    }
   ],
   "source": [
    "list1"
   ]
  },
  {
   "cell_type": "code",
   "execution_count": 71,
   "id": "e80bce61",
   "metadata": {},
   "outputs": [],
   "source": [
    "list1.append('My new value')"
   ]
  },
  {
   "cell_type": "code",
   "execution_count": 72,
   "id": "d6af7c61",
   "metadata": {},
   "outputs": [
    {
     "data": {
      "text/plain": [
       "['This is the original', 2, 3, 'a', 'b', 'c', 'My new value']"
      ]
     },
     "execution_count": 72,
     "metadata": {},
     "output_type": "execute_result"
    }
   ],
   "source": [
    "list1"
   ]
  },
  {
   "cell_type": "code",
   "execution_count": 73,
   "id": "fc8e87b8",
   "metadata": {},
   "outputs": [
    {
     "data": {
      "text/plain": [
       "'My new value'"
      ]
     },
     "execution_count": 73,
     "metadata": {},
     "output_type": "execute_result"
    }
   ],
   "source": [
    "list1.pop()"
   ]
  },
  {
   "cell_type": "code",
   "execution_count": 74,
   "id": "281fd307",
   "metadata": {},
   "outputs": [
    {
     "data": {
      "text/plain": [
       "['This is the original', 2, 3, 'a', 'b', 'c']"
      ]
     },
     "execution_count": 74,
     "metadata": {},
     "output_type": "execute_result"
    }
   ],
   "source": [
    "list1"
   ]
  },
  {
   "cell_type": "code",
   "execution_count": 75,
   "id": "5a903abd",
   "metadata": {},
   "outputs": [
    {
     "data": {
      "text/plain": [
       "'This is the original'"
      ]
     },
     "execution_count": 75,
     "metadata": {},
     "output_type": "execute_result"
    }
   ],
   "source": [
    "list1.pop(0)"
   ]
  },
  {
   "cell_type": "code",
   "execution_count": 76,
   "id": "332bcfc3",
   "metadata": {},
   "outputs": [
    {
     "data": {
      "text/plain": [
       "[2, 3, 'a', 'b', 'c']"
      ]
     },
     "execution_count": 76,
     "metadata": {},
     "output_type": "execute_result"
    }
   ],
   "source": [
    "list1"
   ]
  },
  {
   "cell_type": "code",
   "execution_count": 77,
   "id": "4430d14f",
   "metadata": {},
   "outputs": [],
   "source": [
    "list1.insert(0, 'A new value in the 0th position')"
   ]
  },
  {
   "cell_type": "code",
   "execution_count": 78,
   "id": "419be1a8",
   "metadata": {},
   "outputs": [
    {
     "data": {
      "text/plain": [
       "['A new value in the 0th position', 2, 3, 'a', 'b', 'c']"
      ]
     },
     "execution_count": 78,
     "metadata": {},
     "output_type": "execute_result"
    }
   ],
   "source": [
    "list1"
   ]
  },
  {
   "cell_type": "code",
   "execution_count": 79,
   "id": "400948e7",
   "metadata": {},
   "outputs": [
    {
     "data": {
      "text/plain": [
       "6"
      ]
     },
     "execution_count": 79,
     "metadata": {},
     "output_type": "execute_result"
    }
   ],
   "source": [
    "len(list1)"
   ]
  },
  {
   "cell_type": "code",
   "execution_count": 80,
   "id": "964854c3",
   "metadata": {},
   "outputs": [],
   "source": [
    "string1 = 'This is a string'"
   ]
  },
  {
   "cell_type": "code",
   "execution_count": 81,
   "id": "c312922c",
   "metadata": {},
   "outputs": [
    {
     "data": {
      "text/plain": [
       "16"
      ]
     },
     "execution_count": 81,
     "metadata": {},
     "output_type": "execute_result"
    }
   ],
   "source": [
    "len(string1)"
   ]
  },
  {
   "cell_type": "code",
   "execution_count": 85,
   "id": "80c781e5",
   "metadata": {},
   "outputs": [
    {
     "data": {
      "text/plain": [
       "3"
      ]
     },
     "execution_count": 85,
     "metadata": {},
     "output_type": "execute_result"
    }
   ],
   "source": [
    "len(list2)"
   ]
  },
  {
   "cell_type": "code",
   "execution_count": null,
   "id": "1ecdcb46",
   "metadata": {},
   "outputs": [],
   "source": []
  },
  {
   "cell_type": "code",
   "execution_count": null,
   "id": "c450c536",
   "metadata": {},
   "outputs": [],
   "source": []
  },
  {
   "cell_type": "code",
   "execution_count": null,
   "id": "bf2e743a",
   "metadata": {},
   "outputs": [],
   "source": []
  },
  {
   "cell_type": "code",
   "execution_count": null,
   "id": "143f6f7c",
   "metadata": {},
   "outputs": [],
   "source": []
  },
  {
   "cell_type": "code",
   "execution_count": null,
   "id": "755ae0f7",
   "metadata": {},
   "outputs": [],
   "source": []
  }
 ],
 "metadata": {
  "kernelspec": {
   "display_name": "Python 3 (ipykernel)",
   "language": "python",
   "name": "python3"
  },
  "language_info": {
   "codemirror_mode": {
    "name": "ipython",
    "version": 3
   },
   "file_extension": ".py",
   "mimetype": "text/x-python",
   "name": "python",
   "nbconvert_exporter": "python",
   "pygments_lexer": "ipython3",
   "version": "3.9.10"
  }
 },
 "nbformat": 4,
 "nbformat_minor": 5
}

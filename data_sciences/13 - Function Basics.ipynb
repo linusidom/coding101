{
 "cells": [
  {
   "cell_type": "markdown",
   "id": "9b4fc1cb",
   "metadata": {},
   "source": [
    "# Functions Cheat Sheet (Basic)\n",
    "\n",
    "\n",
    "### What are Functions?\n",
    "A way to extract code from the main program and run it only when we want to\n",
    "\n",
    "\n",
    "### Why do we use Functions?\n",
    "Re-usable code block that does the same thing over and over\n",
    "\n",
    "We can call on functions from within our program or from other programs\n",
    "\n",
    "\n",
    "### Creating a Function\n",
    "\n",
    "All functions start with the `def` keyword  \n",
    "Followed by the name of the function so we can call it again  \n",
    "And finally some form of return statement (**None** by default)\n",
    "\n",
    "`\n",
    "def name_of_function():\n",
    "    return None\n",
    "`\n",
    "\n",
    "### Calling a Function\n",
    "\n",
    "This way, the parentheses at the end are important  \n",
    "the parentheses can also take values or arguments  \n",
    "`name_of_function()`\n",
    "\n",
    "NOT THIS WAY  \n",
    "`name_of_function`\n",
    "\n",
    "#### Arguments\n",
    "\n",
    "###### Basic arguments\n",
    "Basic arguments are passed in a set order\n",
    "\n",
    "`\n",
    "def name_of_function(num):\n",
    "    return num\n",
    "`\n",
    "\n",
    "Example Sum Function:  \n",
    "`\n",
    "def sum(num1, num2):\n",
    "    return num1 + num2\n",
    "`\n",
    "\n",
    "###### The Return statement\n",
    "Very important but not required\n",
    "\n",
    "Default in every function if a return value is not specified is **None**\n",
    "\n",
    "Commonly to exit out of the function once a condition is met\n",
    "\n",
    "Can Return multiple values either in a list or dictionary  \n",
    "Default for mutliple return values is a Tuple\n",
    "\n",
    "### Tuples\n",
    "Very similar to a list but lists are mutable, Tuples are **NOT MUTABLE**, ie not changeable\n",
    "\n",
    "Is ordered, can slice, can index, can store multiple data types but  \n",
    "**Cannot change any values within a Tuple, must re-assign**\n",
    "\n",
    "###### Tuple Unpacking\n",
    "We have a multiple return values how do we get them into individual values?\n",
    "\n",
    "`\n",
    "tuple1 = (1,2,3)\n",
    "one, two, three = tuple1\n",
    "`\n"
   ]
  },
  {
   "cell_type": "code",
   "execution_count": 19,
   "id": "c5c2434a",
   "metadata": {},
   "outputs": [],
   "source": [
    "def name_of_function():\n",
    "    return 'Success'"
   ]
  },
  {
   "cell_type": "code",
   "execution_count": 17,
   "id": "085c16b6",
   "metadata": {},
   "outputs": [
    {
     "data": {
      "text/plain": [
       "<function __main__.name_of_function()>"
      ]
     },
     "execution_count": 17,
     "metadata": {},
     "output_type": "execute_result"
    }
   ],
   "source": [
    "name_of_function"
   ]
  },
  {
   "cell_type": "code",
   "execution_count": 20,
   "id": "8d8388fe",
   "metadata": {},
   "outputs": [
    {
     "data": {
      "text/plain": [
       "'Success'"
      ]
     },
     "execution_count": 20,
     "metadata": {},
     "output_type": "execute_result"
    }
   ],
   "source": [
    "name_of_function()"
   ]
  },
  {
   "cell_type": "code",
   "execution_count": 21,
   "id": "234f46b8",
   "metadata": {},
   "outputs": [],
   "source": [
    "list1 = [name_of_function]"
   ]
  },
  {
   "cell_type": "code",
   "execution_count": 22,
   "id": "304a31eb",
   "metadata": {},
   "outputs": [
    {
     "data": {
      "text/plain": [
       "[<function __main__.name_of_function()>]"
      ]
     },
     "execution_count": 22,
     "metadata": {},
     "output_type": "execute_result"
    }
   ],
   "source": [
    "list1"
   ]
  },
  {
   "cell_type": "code",
   "execution_count": 24,
   "id": "88b36c26",
   "metadata": {},
   "outputs": [
    {
     "ename": "TypeError",
     "evalue": "name_of_function() takes 0 positional arguments but 1 was given",
     "output_type": "error",
     "traceback": [
      "\u001b[0;31m---------------------------------------------------------------------------\u001b[0m",
      "\u001b[0;31mTypeError\u001b[0m                                 Traceback (most recent call last)",
      "Input \u001b[0;32mIn [24]\u001b[0m, in \u001b[0;36m<cell line: 1>\u001b[0;34m()\u001b[0m\n\u001b[0;32m----> 1\u001b[0m \u001b[43mlist1\u001b[49m\u001b[43m[\u001b[49m\u001b[38;5;241;43m0\u001b[39;49m\u001b[43m]\u001b[49m\u001b[43m(\u001b[49m\u001b[38;5;124;43m'\u001b[39;49m\u001b[38;5;124;43mtest string\u001b[39;49m\u001b[38;5;124;43m'\u001b[39;49m\u001b[43m)\u001b[49m\n",
      "\u001b[0;31mTypeError\u001b[0m: name_of_function() takes 0 positional arguments but 1 was given"
     ]
    }
   ],
   "source": [
    "list1[0]('test string')"
   ]
  },
  {
   "cell_type": "code",
   "execution_count": 25,
   "id": "10d80eaa",
   "metadata": {},
   "outputs": [],
   "source": [
    "# Positional Arguments\n",
    "\n",
    "def function(num):\n",
    "    return num"
   ]
  },
  {
   "cell_type": "code",
   "execution_count": 32,
   "id": "c40cfbbc",
   "metadata": {},
   "outputs": [
    {
     "data": {
      "text/plain": [
       "'positional argument'"
      ]
     },
     "execution_count": 32,
     "metadata": {},
     "output_type": "execute_result"
    }
   ],
   "source": [
    "function('positional argument')"
   ]
  },
  {
   "cell_type": "code",
   "execution_count": 37,
   "id": "ce81b239",
   "metadata": {},
   "outputs": [
    {
     "data": {
      "text/plain": [
       "6"
      ]
     },
     "execution_count": 37,
     "metadata": {},
     "output_type": "execute_result"
    }
   ],
   "source": [
    "sum([1,2,3])"
   ]
  },
  {
   "cell_type": "code",
   "execution_count": 49,
   "id": "c3cca7bb",
   "metadata": {},
   "outputs": [],
   "source": [
    "# When I created def sum, I overwrote the built-in Python sum function\n",
    "\n",
    "def my_sum(num1, num2):\n",
    "    return num1 + num2"
   ]
  },
  {
   "cell_type": "code",
   "execution_count": 51,
   "id": "98dd0cb9",
   "metadata": {},
   "outputs": [
    {
     "data": {
      "text/plain": [
       "[1, 2, 3, 1, 2, 3]"
      ]
     },
     "execution_count": 51,
     "metadata": {},
     "output_type": "execute_result"
    }
   ],
   "source": [
    "# sum([1,2,3])\n",
    "\n",
    "my_sum([1,2,3], [1,2,3])\n",
    "\n",
    "\n",
    "# If I overwrite a built-in function in python, then I can del my built-in function\n",
    "\n",
    "# We saw this with dictionaries\n",
    "# del sum"
   ]
  },
  {
   "cell_type": "code",
   "execution_count": 52,
   "id": "3adae7d5",
   "metadata": {},
   "outputs": [],
   "source": [
    "def return_multiple():\n",
    "    return 'This is one', 'This is two'"
   ]
  },
  {
   "cell_type": "code",
   "execution_count": 53,
   "id": "c7753af0",
   "metadata": {},
   "outputs": [
    {
     "data": {
      "text/plain": [
       "('This is one', 'This is two')"
      ]
     },
     "execution_count": 53,
     "metadata": {},
     "output_type": "execute_result"
    }
   ],
   "source": [
    "return_multiple()"
   ]
  },
  {
   "cell_type": "code",
   "execution_count": 54,
   "id": "c0bfe85d",
   "metadata": {},
   "outputs": [
    {
     "data": {
      "text/plain": [
       "tuple"
      ]
     },
     "execution_count": 54,
     "metadata": {},
     "output_type": "execute_result"
    }
   ],
   "source": [
    "type(return_multiple())"
   ]
  },
  {
   "cell_type": "code",
   "execution_count": 55,
   "id": "11b53be1",
   "metadata": {},
   "outputs": [],
   "source": [
    "tuple1 = (1,2,'3', [4,5], {'a':1, 'b':2})"
   ]
  },
  {
   "cell_type": "code",
   "execution_count": 56,
   "id": "ef8fe3a1",
   "metadata": {},
   "outputs": [
    {
     "data": {
      "text/plain": [
       "(1, 2, '3', [4, 5], {'a': 1, 'b': 2})"
      ]
     },
     "execution_count": 56,
     "metadata": {},
     "output_type": "execute_result"
    }
   ],
   "source": [
    "tuple1"
   ]
  },
  {
   "cell_type": "code",
   "execution_count": 59,
   "id": "eb3dd412",
   "metadata": {},
   "outputs": [
    {
     "data": {
      "text/plain": [
       "[4, 5]"
      ]
     },
     "execution_count": 59,
     "metadata": {},
     "output_type": "execute_result"
    }
   ],
   "source": [
    "tuple1[3]"
   ]
  },
  {
   "cell_type": "code",
   "execution_count": 60,
   "id": "148aee9b",
   "metadata": {},
   "outputs": [
    {
     "ename": "TypeError",
     "evalue": "'tuple' object does not support item assignment",
     "output_type": "error",
     "traceback": [
      "\u001b[0;31m---------------------------------------------------------------------------\u001b[0m",
      "\u001b[0;31mTypeError\u001b[0m                                 Traceback (most recent call last)",
      "Input \u001b[0;32mIn [60]\u001b[0m, in \u001b[0;36m<cell line: 1>\u001b[0;34m()\u001b[0m\n\u001b[0;32m----> 1\u001b[0m tuple1[\u001b[38;5;241m3\u001b[39m] \u001b[38;5;241m=\u001b[39m \u001b[38;5;124m'\u001b[39m\u001b[38;5;124mNew Variable\u001b[39m\u001b[38;5;124m'\u001b[39m\n",
      "\u001b[0;31mTypeError\u001b[0m: 'tuple' object does not support item assignment"
     ]
    }
   ],
   "source": [
    "tuple1[3] = 'New Variable'"
   ]
  },
  {
   "cell_type": "code",
   "execution_count": 61,
   "id": "a4a542b2",
   "metadata": {},
   "outputs": [],
   "source": [
    "output = return_multiple()"
   ]
  },
  {
   "cell_type": "code",
   "execution_count": 62,
   "id": "18cc24ff",
   "metadata": {},
   "outputs": [
    {
     "data": {
      "text/plain": [
       "('This is one', 'This is two')"
      ]
     },
     "execution_count": 62,
     "metadata": {},
     "output_type": "execute_result"
    }
   ],
   "source": [
    "output"
   ]
  },
  {
   "cell_type": "code",
   "execution_count": 67,
   "id": "bb895cde",
   "metadata": {},
   "outputs": [
    {
     "ename": "ValueError",
     "evalue": "not enough values to unpack (expected 3, got 2)",
     "output_type": "error",
     "traceback": [
      "\u001b[0;31m---------------------------------------------------------------------------\u001b[0m",
      "\u001b[0;31mValueError\u001b[0m                                Traceback (most recent call last)",
      "Input \u001b[0;32mIn [67]\u001b[0m, in \u001b[0;36m<cell line: 1>\u001b[0;34m()\u001b[0m\n\u001b[0;32m----> 1\u001b[0m one, two, three \u001b[38;5;241m=\u001b[39m return_multiple()\n",
      "\u001b[0;31mValueError\u001b[0m: not enough values to unpack (expected 3, got 2)"
     ]
    }
   ],
   "source": [
    "one, two, three = return_multiple()"
   ]
  },
  {
   "cell_type": "code",
   "execution_count": 64,
   "id": "ed57662b",
   "metadata": {},
   "outputs": [
    {
     "data": {
      "text/plain": [
       "('This is one', 'This is two')"
      ]
     },
     "execution_count": 64,
     "metadata": {},
     "output_type": "execute_result"
    }
   ],
   "source": [
    "one, two"
   ]
  },
  {
   "cell_type": "code",
   "execution_count": 65,
   "id": "44aa4ad8",
   "metadata": {},
   "outputs": [
    {
     "data": {
      "text/plain": [
       "'This is one'"
      ]
     },
     "execution_count": 65,
     "metadata": {},
     "output_type": "execute_result"
    }
   ],
   "source": [
    "one"
   ]
  },
  {
   "cell_type": "code",
   "execution_count": 66,
   "id": "902d65de",
   "metadata": {},
   "outputs": [
    {
     "data": {
      "text/plain": [
       "'This is two'"
      ]
     },
     "execution_count": 66,
     "metadata": {},
     "output_type": "execute_result"
    }
   ],
   "source": [
    "two"
   ]
  },
  {
   "cell_type": "code",
   "execution_count": 68,
   "id": "a46bdea1",
   "metadata": {},
   "outputs": [
    {
     "data": {
      "text/plain": [
       "(1, 2, '3', [4, 5], {'a': 1, 'b': 2})"
      ]
     },
     "execution_count": 68,
     "metadata": {},
     "output_type": "execute_result"
    }
   ],
   "source": [
    "# Un-pack tuple1\n",
    "\n",
    "tuple1"
   ]
  },
  {
   "cell_type": "code",
   "execution_count": 69,
   "id": "e66d9de4",
   "metadata": {},
   "outputs": [],
   "source": [
    "one, two, three, list1, dict1 = tuple1"
   ]
  },
  {
   "cell_type": "code",
   "execution_count": 70,
   "id": "ff173d19",
   "metadata": {},
   "outputs": [
    {
     "data": {
      "text/plain": [
       "(1, 2, '3', [4, 5], {'a': 1, 'b': 2})"
      ]
     },
     "execution_count": 70,
     "metadata": {},
     "output_type": "execute_result"
    }
   ],
   "source": [
    "tuple1"
   ]
  },
  {
   "cell_type": "code",
   "execution_count": 71,
   "id": "4490f4b4",
   "metadata": {},
   "outputs": [
    {
     "data": {
      "text/plain": [
       "1"
      ]
     },
     "execution_count": 71,
     "metadata": {},
     "output_type": "execute_result"
    }
   ],
   "source": [
    "one"
   ]
  },
  {
   "cell_type": "code",
   "execution_count": 72,
   "id": "f0d160a8",
   "metadata": {},
   "outputs": [
    {
     "data": {
      "text/plain": [
       "2"
      ]
     },
     "execution_count": 72,
     "metadata": {},
     "output_type": "execute_result"
    }
   ],
   "source": [
    "two"
   ]
  },
  {
   "cell_type": "code",
   "execution_count": 73,
   "id": "24addbb6",
   "metadata": {},
   "outputs": [
    {
     "data": {
      "text/plain": [
       "'3'"
      ]
     },
     "execution_count": 73,
     "metadata": {},
     "output_type": "execute_result"
    }
   ],
   "source": [
    "three"
   ]
  },
  {
   "cell_type": "code",
   "execution_count": 74,
   "id": "34dfd1b0",
   "metadata": {},
   "outputs": [
    {
     "data": {
      "text/plain": [
       "[4, 5]"
      ]
     },
     "execution_count": 74,
     "metadata": {},
     "output_type": "execute_result"
    }
   ],
   "source": [
    "list1"
   ]
  },
  {
   "cell_type": "code",
   "execution_count": 75,
   "id": "6274f699",
   "metadata": {},
   "outputs": [
    {
     "data": {
      "text/plain": [
       "{'a': 1, 'b': 2}"
      ]
     },
     "execution_count": 75,
     "metadata": {},
     "output_type": "execute_result"
    }
   ],
   "source": [
    "dict1"
   ]
  },
  {
   "cell_type": "code",
   "execution_count": 76,
   "id": "def9fa01",
   "metadata": {},
   "outputs": [
    {
     "name": "stdout",
     "output_type": "stream",
     "text": [
      "1\n",
      "2\n",
      "3\n",
      "[4, 5]\n",
      "{'a': 1, 'b': 2}\n"
     ]
    }
   ],
   "source": [
    "# Wrapping a For Loop in a function\n",
    "\n",
    "\n",
    "for item in tuple1:\n",
    "    print(item)"
   ]
  },
  {
   "cell_type": "code",
   "execution_count": 77,
   "id": "85f321e4",
   "metadata": {},
   "outputs": [],
   "source": [
    "def tuple_wrapper(tup):\n",
    "    for item in tup:\n",
    "        print(item)\n",
    "    "
   ]
  },
  {
   "cell_type": "code",
   "execution_count": 78,
   "id": "c1990227",
   "metadata": {},
   "outputs": [
    {
     "name": "stdout",
     "output_type": "stream",
     "text": [
      "1\n",
      "2\n",
      "3\n",
      "[4, 5]\n",
      "{'a': 1, 'b': 2}\n"
     ]
    }
   ],
   "source": [
    "tuple_wrapper(tuple1)"
   ]
  },
  {
   "cell_type": "code",
   "execution_count": 79,
   "id": "472608f7",
   "metadata": {},
   "outputs": [],
   "source": [
    "tuple2 = (7,8,9)"
   ]
  },
  {
   "cell_type": "code",
   "execution_count": 80,
   "id": "164cadc9",
   "metadata": {},
   "outputs": [
    {
     "name": "stdout",
     "output_type": "stream",
     "text": [
      "7\n",
      "8\n",
      "9\n"
     ]
    }
   ],
   "source": [
    "tuple_wrapper(tuple2)"
   ]
  },
  {
   "cell_type": "code",
   "execution_count": null,
   "id": "0704c134",
   "metadata": {},
   "outputs": [],
   "source": []
  },
  {
   "cell_type": "code",
   "execution_count": null,
   "id": "e3d7710f",
   "metadata": {},
   "outputs": [],
   "source": []
  },
  {
   "cell_type": "code",
   "execution_count": null,
   "id": "6d7f5512",
   "metadata": {},
   "outputs": [],
   "source": []
  },
  {
   "cell_type": "code",
   "execution_count": null,
   "id": "7f6e8912",
   "metadata": {},
   "outputs": [],
   "source": []
  },
  {
   "cell_type": "code",
   "execution_count": null,
   "id": "3da6c6d4",
   "metadata": {},
   "outputs": [],
   "source": []
  },
  {
   "cell_type": "code",
   "execution_count": null,
   "id": "b263d4b5",
   "metadata": {},
   "outputs": [],
   "source": []
  },
  {
   "cell_type": "code",
   "execution_count": null,
   "id": "0cf23c0d",
   "metadata": {},
   "outputs": [],
   "source": []
  },
  {
   "cell_type": "code",
   "execution_count": null,
   "id": "1e74be5e",
   "metadata": {},
   "outputs": [],
   "source": []
  },
  {
   "cell_type": "code",
   "execution_count": null,
   "id": "e514a185",
   "metadata": {},
   "outputs": [],
   "source": []
  }
 ],
 "metadata": {
  "kernelspec": {
   "display_name": "Python 3 (ipykernel)",
   "language": "python",
   "name": "python3"
  },
  "language_info": {
   "codemirror_mode": {
    "name": "ipython",
    "version": 3
   },
   "file_extension": ".py",
   "mimetype": "text/x-python",
   "name": "python",
   "nbconvert_exporter": "python",
   "pygments_lexer": "ipython3",
   "version": "3.9.10"
  }
 },
 "nbformat": 4,
 "nbformat_minor": 5
}

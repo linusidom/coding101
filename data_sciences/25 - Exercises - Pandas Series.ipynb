{
 "cells": [
  {
   "cell_type": "markdown",
   "id": "6016eded",
   "metadata": {},
   "source": [
    "# Pandas Series Exercises"
   ]
  },
  {
   "cell_type": "code",
   "execution_count": 20,
   "id": "a5b2b706",
   "metadata": {},
   "outputs": [],
   "source": [
    "# Import pandas as pd and numpy as np\n",
    "\n",
    "import pandas as pd\n",
    "import numpy as np\n",
    "\n",
    "# Type your code above this line"
   ]
  },
  {
   "cell_type": "code",
   "execution_count": 27,
   "id": "f1ce8d75",
   "metadata": {},
   "outputs": [
    {
     "data": {
      "text/plain": [
       "0    0.793754\n",
       "1    0.567899\n",
       "2    0.340550\n",
       "3    0.435491\n",
       "4    0.317368\n",
       "5    0.970476\n",
       "6    0.268116\n",
       "7    0.806446\n",
       "8    0.903719\n",
       "9    0.255565\n",
       "dtype: float64"
      ]
     },
     "execution_count": 27,
     "metadata": {},
     "output_type": "execute_result"
    }
   ],
   "source": [
    "# Create a Pandas Series with a single list of 10 random numbers\n",
    "\n",
    "# data = np.random.rand(10)\n",
    "# data\n",
    "\n",
    "# pd.Series(data)\n",
    "\n",
    "\n",
    "pd.Series(np.random.rand(10))\n",
    "\n",
    "# Type your code above this line\n",
    "\n",
    "# Output\n",
    "# 0    0.647608\n",
    "# 1    0.363545\n",
    "# 2    0.628384\n",
    "# 3    0.720892\n",
    "# 4    0.517527\n",
    "# 5    0.485162\n",
    "# 6    0.510227\n",
    "# 7    0.191650\n",
    "# 8    0.853494\n",
    "# 9    0.774409\n",
    "# dtype: float64"
   ]
  },
  {
   "cell_type": "code",
   "execution_count": 39,
   "id": "e1ae00bd",
   "metadata": {},
   "outputs": [
    {
     "data": {
      "text/plain": [
       "a    1\n",
       "b    2\n",
       "c    3\n",
       "d    4\n",
       "dtype: int64"
      ]
     },
     "execution_count": 39,
     "metadata": {},
     "output_type": "execute_result"
    }
   ],
   "source": [
    "# Create a Series from a dictionary created from 2 lists (hint: zip method)\n",
    "# List1: 1,2,3,4\n",
    "# List2: a, b, c, d\n",
    "\n",
    "list1 = [1,2,3,4]\n",
    "list2 = ['a','b','c','d']\n",
    "# list2 = 'a b c d'.split()\n",
    "# list2\n",
    "\n",
    "# data = {'a':1, 'b':2,'c':3,'d':4}\n",
    "\n",
    "# for item in zip(list1, list2):\n",
    "#     print(item)\n",
    "\n",
    "\n",
    "pd.Series(dict(zip(list2, list1)))\n",
    "# pd.Series(data)\n",
    "\n",
    "# Type your code above this line\n",
    "\n",
    "# Output\n",
    "# a    1\n",
    "# b    2\n",
    "# c    3\n",
    "# d    4\n",
    "# dtype: int64"
   ]
  },
  {
   "cell_type": "code",
   "execution_count": 47,
   "id": "6d4c3b0d",
   "metadata": {},
   "outputs": [
    {
     "data": {
      "text/plain": [
       "numpy.float64"
      ]
     },
     "execution_count": 47,
     "metadata": {},
     "output_type": "execute_result"
    }
   ],
   "source": [
    "# Create 2 series, ser1 and ser2 consisting of the following\n",
    "# Ser1: dictionary of 4 elements, Ford, GM, Toyota, Honda, each with values 1,2,3,4 respectively\n",
    "# Ser2: dictionary of 4 elements Ford, GM, Audi, BMW, each with values 2,4,6,8 respectively\n",
    "# Goal is to add the 2 Series together and print the data type of the Nan element\n",
    "\n",
    "ser1 = pd.Series([1,2,3,4], ['Ford', 'GM','Toyota', 'Honda'])\n",
    "ser2 = pd.Series([2,4,6,8], ['Ford', 'GM','Audi', 'BMW'])\n",
    "\n",
    "type((ser1 + ser2)['Audi'])\n",
    "\n",
    "\n",
    "# Type your code above this line\n",
    "\n",
    "# Output\n",
    "# numpy.float64"
   ]
  },
  {
   "cell_type": "code",
   "execution_count": 49,
   "id": "3dc8b465",
   "metadata": {},
   "outputs": [
    {
     "ename": "ValueError",
     "evalue": "Length of values (6) does not match length of index (5)",
     "output_type": "error",
     "traceback": [
      "\u001b[0;31m---------------------------------------------------------------------------\u001b[0m",
      "\u001b[0;31mValueError\u001b[0m                                Traceback (most recent call last)",
      "Input \u001b[0;32mIn [49]\u001b[0m, in \u001b[0;36m<cell line: 4>\u001b[0;34m()\u001b[0m\n\u001b[1;32m      1\u001b[0m \u001b[38;5;66;03m# Create a Series with 4 elements, 1,2,3,4 and and index with 5 elements, 'a','b','c','d','e'\u001b[39;00m\n\u001b[1;32m      2\u001b[0m \u001b[38;5;66;03m# What is the result?\u001b[39;00m\n\u001b[0;32m----> 4\u001b[0m \u001b[43mpd\u001b[49m\u001b[38;5;241;43m.\u001b[39;49m\u001b[43mSeries\u001b[49m\u001b[43m(\u001b[49m\u001b[43mdata\u001b[49m\u001b[38;5;241;43m=\u001b[39;49m\u001b[43m[\u001b[49m\u001b[38;5;241;43m1\u001b[39;49m\u001b[43m,\u001b[49m\u001b[38;5;241;43m2\u001b[39;49m\u001b[43m,\u001b[49m\u001b[38;5;241;43m3\u001b[39;49m\u001b[43m,\u001b[49m\u001b[38;5;241;43m4\u001b[39;49m\u001b[43m,\u001b[49m\u001b[38;5;241;43m5\u001b[39;49m\u001b[43m,\u001b[49m\u001b[38;5;241;43m6\u001b[39;49m\u001b[43m]\u001b[49m\u001b[43m,\u001b[49m\u001b[43m \u001b[49m\u001b[43mindex\u001b[49m\u001b[38;5;241;43m=\u001b[39;49m\u001b[43m[\u001b[49m\u001b[38;5;124;43m'\u001b[39;49m\u001b[38;5;124;43ma\u001b[39;49m\u001b[38;5;124;43m'\u001b[39;49m\u001b[43m,\u001b[49m\u001b[38;5;124;43m'\u001b[39;49m\u001b[38;5;124;43mb\u001b[39;49m\u001b[38;5;124;43m'\u001b[39;49m\u001b[43m,\u001b[49m\u001b[38;5;124;43m'\u001b[39;49m\u001b[38;5;124;43mc\u001b[39;49m\u001b[38;5;124;43m'\u001b[39;49m\u001b[43m,\u001b[49m\u001b[38;5;124;43m'\u001b[39;49m\u001b[38;5;124;43md\u001b[39;49m\u001b[38;5;124;43m'\u001b[39;49m\u001b[43m,\u001b[49m\u001b[38;5;124;43m'\u001b[39;49m\u001b[38;5;124;43me\u001b[39;49m\u001b[38;5;124;43m'\u001b[39;49m\u001b[43m]\u001b[49m\u001b[43m)\u001b[49m\n",
      "File \u001b[0;32m~/coding/coding101/data_sciences/venv_data_sciences/lib/python3.9/site-packages/pandas/core/series.py:442\u001b[0m, in \u001b[0;36mSeries.__init__\u001b[0;34m(self, data, index, dtype, name, copy, fastpath)\u001b[0m\n\u001b[1;32m    440\u001b[0m     index \u001b[38;5;241m=\u001b[39m default_index(\u001b[38;5;28mlen\u001b[39m(data))\n\u001b[1;32m    441\u001b[0m \u001b[38;5;28;01melif\u001b[39;00m is_list_like(data):\n\u001b[0;32m--> 442\u001b[0m     \u001b[43mcom\u001b[49m\u001b[38;5;241;43m.\u001b[39;49m\u001b[43mrequire_length_match\u001b[49m\u001b[43m(\u001b[49m\u001b[43mdata\u001b[49m\u001b[43m,\u001b[49m\u001b[43m \u001b[49m\u001b[43mindex\u001b[49m\u001b[43m)\u001b[49m\n\u001b[1;32m    444\u001b[0m \u001b[38;5;66;03m# create/copy the manager\u001b[39;00m\n\u001b[1;32m    445\u001b[0m \u001b[38;5;28;01mif\u001b[39;00m \u001b[38;5;28misinstance\u001b[39m(data, (SingleBlockManager, SingleArrayManager)):\n",
      "File \u001b[0;32m~/coding/coding101/data_sciences/venv_data_sciences/lib/python3.9/site-packages/pandas/core/common.py:557\u001b[0m, in \u001b[0;36mrequire_length_match\u001b[0;34m(data, index)\u001b[0m\n\u001b[1;32m    553\u001b[0m \u001b[38;5;124;03m\"\"\"\u001b[39;00m\n\u001b[1;32m    554\u001b[0m \u001b[38;5;124;03mCheck the length of data matches the length of the index.\u001b[39;00m\n\u001b[1;32m    555\u001b[0m \u001b[38;5;124;03m\"\"\"\u001b[39;00m\n\u001b[1;32m    556\u001b[0m \u001b[38;5;28;01mif\u001b[39;00m \u001b[38;5;28mlen\u001b[39m(data) \u001b[38;5;241m!=\u001b[39m \u001b[38;5;28mlen\u001b[39m(index):\n\u001b[0;32m--> 557\u001b[0m     \u001b[38;5;28;01mraise\u001b[39;00m \u001b[38;5;167;01mValueError\u001b[39;00m(\n\u001b[1;32m    558\u001b[0m         \u001b[38;5;124m\"\u001b[39m\u001b[38;5;124mLength of values \u001b[39m\u001b[38;5;124m\"\u001b[39m\n\u001b[1;32m    559\u001b[0m         \u001b[38;5;124mf\u001b[39m\u001b[38;5;124m\"\u001b[39m\u001b[38;5;124m(\u001b[39m\u001b[38;5;132;01m{\u001b[39;00m\u001b[38;5;28mlen\u001b[39m(data)\u001b[38;5;132;01m}\u001b[39;00m\u001b[38;5;124m) \u001b[39m\u001b[38;5;124m\"\u001b[39m\n\u001b[1;32m    560\u001b[0m         \u001b[38;5;124m\"\u001b[39m\u001b[38;5;124mdoes not match length of index \u001b[39m\u001b[38;5;124m\"\u001b[39m\n\u001b[1;32m    561\u001b[0m         \u001b[38;5;124mf\u001b[39m\u001b[38;5;124m\"\u001b[39m\u001b[38;5;124m(\u001b[39m\u001b[38;5;132;01m{\u001b[39;00m\u001b[38;5;28mlen\u001b[39m(index)\u001b[38;5;132;01m}\u001b[39;00m\u001b[38;5;124m)\u001b[39m\u001b[38;5;124m\"\u001b[39m\n\u001b[1;32m    562\u001b[0m     )\n",
      "\u001b[0;31mValueError\u001b[0m: Length of values (6) does not match length of index (5)"
     ]
    }
   ],
   "source": [
    "# Create a Series with 4 elements, 1,2,3,4 and and index with 5 elements, 'a','b','c','d','e'\n",
    "# What is the result?\n",
    "\n",
    "pd.Series(data=[1,2,3,4,5,6], index=['a','b','c','d','e'])\n",
    "\n",
    "\n",
    "\n",
    "# Type your code above this line"
   ]
  },
  {
   "cell_type": "code",
   "execution_count": 54,
   "id": "415bb012",
   "metadata": {},
   "outputs": [
    {
     "data": {
      "text/plain": [
       "Ford      1\n",
       "GM        2\n",
       "Toyota    3\n",
       "Honda     4\n",
       "Ford      2\n",
       "GM        4\n",
       "Audi      6\n",
       "BMW       8\n",
       "dtype: int64"
      ]
     },
     "execution_count": 54,
     "metadata": {},
     "output_type": "execute_result"
    }
   ],
   "source": [
    "# Concatenate 2 Series into a single Column\n",
    "\n",
    "# print(ser1)\n",
    "# print(ser2)\n",
    "\n",
    "pd.concat([ser1, ser2])\n",
    "\n"
   ]
  },
  {
   "cell_type": "code",
   "execution_count": null,
   "id": "001d81d6",
   "metadata": {},
   "outputs": [],
   "source": []
  },
  {
   "cell_type": "code",
   "execution_count": null,
   "id": "aa71d0be",
   "metadata": {},
   "outputs": [],
   "source": []
  },
  {
   "cell_type": "code",
   "execution_count": null,
   "id": "2aa33a22",
   "metadata": {},
   "outputs": [],
   "source": []
  },
  {
   "cell_type": "code",
   "execution_count": null,
   "id": "7227c0db",
   "metadata": {},
   "outputs": [],
   "source": []
  },
  {
   "cell_type": "code",
   "execution_count": null,
   "id": "0cf7e711",
   "metadata": {},
   "outputs": [],
   "source": []
  },
  {
   "cell_type": "code",
   "execution_count": null,
   "id": "e6ef9c9f",
   "metadata": {},
   "outputs": [],
   "source": []
  },
  {
   "cell_type": "code",
   "execution_count": null,
   "id": "306c4ba4",
   "metadata": {},
   "outputs": [],
   "source": []
  },
  {
   "cell_type": "code",
   "execution_count": null,
   "id": "0b390a1e",
   "metadata": {},
   "outputs": [],
   "source": []
  },
  {
   "cell_type": "code",
   "execution_count": null,
   "id": "c1cba591",
   "metadata": {},
   "outputs": [],
   "source": []
  }
 ],
 "metadata": {
  "kernelspec": {
   "display_name": "Python 3 (ipykernel)",
   "language": "python",
   "name": "python3"
  },
  "language_info": {
   "codemirror_mode": {
    "name": "ipython",
    "version": 3
   },
   "file_extension": ".py",
   "mimetype": "text/x-python",
   "name": "python",
   "nbconvert_exporter": "python",
   "pygments_lexer": "ipython3",
   "version": "3.9.10"
  }
 },
 "nbformat": 4,
 "nbformat_minor": 5
}

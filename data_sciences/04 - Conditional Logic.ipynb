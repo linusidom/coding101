{
 "cells": [
  {
   "cell_type": "markdown",
   "id": "a8b0e8d0",
   "metadata": {},
   "source": [
    "# Conditional Logic\n",
    "\n",
    "Determine whether something is True or False\n",
    "\n",
    "Used to control flow of program and make decisions\n",
    "\n",
    "\n",
    "### Basic Structure and Configuration\n",
    "\n",
    "If condition is True, execute (Mandatory/Required)\n",
    "\n",
    "Else If **(elif)** condition is True, execute (Optional)\n",
    "\n",
    "Else, do something else (Optional)\n",
    "\n",
    "`\n",
    "if condition:\n",
    "    print('This is True, so this line will execute')\n",
    "elif another_condition:\n",
    "    print('The above failed, so now this will execute')\n",
    "else:\n",
    "    print('If all the above fails and we still want to execute some code we can in the else block')\n",
    "    print('If there is no else block, the program will still continue to run')\n",
    "    print('Else blocks do not have a condition, they will run if the above blocks fail to run')\n",
    "`\n",
    "\n",
    "### Comparison Operators\n",
    "\n",
    "'=='\tEqual\t                  x == y\n",
    "\n",
    "'!='\tNot equal\t              x != y\n",
    "\n",
    "'>'\t    Greater than\t          x > y\t\n",
    "\n",
    "'<'\t    Less than\t              x < y\t\n",
    "\n",
    "'>='    Greater than or equal to  x >= y\t\n",
    "\n",
    "'<='\tLess than or equal to\t  x <= y\n",
    "\n",
    "### Multiple Conditions\n",
    "\n",
    "##### and\n",
    "Used to combine multiple statements\n",
    "- All statements must pass for the 'if' block to execute\n",
    "\n",
    "\n",
    "##### or\n",
    "Used to combine multiple statements\n",
    "- **Only One** statements must pass for the 'if' block to execute\n",
    "\n",
    "### Other Options\n",
    "\n",
    "##### not\n",
    "The 'not' keyword works on the entire condition and is used between if and the condition to **reverse** the result\n",
    "\n",
    "`\n",
    "if not False:\n",
    "    print('This line will execute')\n",
    "`\n",
    "\n",
    "##### in\n",
    "The 'in' keyword is similar to a comparison operator but checks if a value is in a list\n",
    "\n",
    "`\n",
    "string = 'This is a test'\n",
    "if 'This' in string:\n",
    "    print(string)\n",
    "`"
   ]
  },
  {
   "cell_type": "code",
   "execution_count": 26,
   "id": "9bc8228f",
   "metadata": {},
   "outputs": [],
   "source": [
    "### Separator Cell"
   ]
  },
  {
   "cell_type": "markdown",
   "id": "096188be",
   "metadata": {},
   "source": [
    "### IF\n",
    "\n",
    "\n",
    "Basic starting statement for any conditional logic\n",
    "\n",
    "4 Requirements for an if Statement\n",
    "1. The word 'if'\n",
    "2. Condition to check if True or False\n",
    "3. Closing colon ':'\n",
    "4. Indented Code block to execute\n",
    " - If no code block to execute, keyword 'pass' can be used instead of actual code\n",
    "\n",
    "\n",
    "`\n",
    "if condition:\n",
    "    print('This is the Code Block')\n",
    "`"
   ]
  },
  {
   "cell_type": "code",
   "execution_count": 10,
   "id": "85a904a0",
   "metadata": {},
   "outputs": [],
   "source": [
    "num1 = 20\n",
    "num2 = 55\n",
    "num3 = 55"
   ]
  },
  {
   "cell_type": "code",
   "execution_count": 6,
   "id": "83ac5244",
   "metadata": {},
   "outputs": [
    {
     "name": "stdout",
     "output_type": "stream",
     "text": [
      "Else statement is default and this line will run, even though the above did not\n"
     ]
    }
   ],
   "source": [
    "if num1 > num2:\n",
    "    print('num1 is less than num2')\n",
    "print('Else statement is default and this line will run, even though the above did not')"
   ]
  },
  {
   "cell_type": "code",
   "execution_count": 9,
   "id": "b8e22676",
   "metadata": {},
   "outputs": [
    {
     "name": "stdout",
     "output_type": "stream",
     "text": [
      "This will not print if the above fails, only if it passes\n"
     ]
    }
   ],
   "source": [
    "if num1 != num2:\n",
    "    print('This will not print if the above fails, only if it passes')"
   ]
  },
  {
   "cell_type": "code",
   "execution_count": 14,
   "id": "3c2dce92",
   "metadata": {},
   "outputs": [
    {
     "name": "stdout",
     "output_type": "stream",
     "text": [
      "These are equal numbers\n"
     ]
    }
   ],
   "source": [
    "if num2 >= num3:\n",
    "    print('These are equal numbers')"
   ]
  },
  {
   "cell_type": "markdown",
   "id": "d200ae24",
   "metadata": {},
   "source": [
    "### Else (Optional)\n",
    "\n",
    "Default statement for any conditional logic\n",
    "\n",
    "3 Requirements for an else Statement\n",
    "\n",
    "1. If condition must be invoked before the else\n",
    "2. The word 'else'\n",
    "3. Closing colon ':'\n",
    "4. Indented Code block to execute\n",
    " - If no code block to execute, keyword 'pass' can be used instead of actual code\n",
    "\n",
    "\n",
    "`\n",
    "if condition:\n",
    "    print('The above condition was False, this line will not execute')\n",
    "else:\n",
    "    print('This line will execute')\n",
    "`"
   ]
  },
  {
   "cell_type": "code",
   "execution_count": 15,
   "id": "498df42c",
   "metadata": {},
   "outputs": [],
   "source": [
    "num1 = 20\n",
    "num2 = 50"
   ]
  },
  {
   "cell_type": "code",
   "execution_count": 17,
   "id": "f53ca30f",
   "metadata": {},
   "outputs": [
    {
     "ename": "SyntaxError",
     "evalue": "invalid syntax (2510624623.py, line 1)",
     "output_type": "error",
     "traceback": [
      "\u001b[0;36m  Input \u001b[0;32mIn [17]\u001b[0;36m\u001b[0m\n\u001b[0;31m    else:\u001b[0m\n\u001b[0m    ^\u001b[0m\n\u001b[0;31mSyntaxError\u001b[0m\u001b[0;31m:\u001b[0m invalid syntax\n"
     ]
    }
   ],
   "source": [
    "else:\n",
    "    print('this will give an error')"
   ]
  },
  {
   "cell_type": "code",
   "execution_count": 21,
   "id": "7988666a",
   "metadata": {},
   "outputs": [
    {
     "name": "stdout",
     "output_type": "stream",
     "text": [
      "num1 is less than num2\n"
     ]
    }
   ],
   "source": [
    "if num1 == num2:\n",
    "    print('I want the above to fail, so the else block runs')\n",
    "else:\n",
    "    print('num1 is less than num2')"
   ]
  },
  {
   "cell_type": "markdown",
   "id": "c736517c",
   "metadata": {},
   "source": [
    "### Else If (elif) (Optional)\n",
    "\n",
    "Optional statement for any conditional logic\n",
    "\n",
    "Can have an unlimited amount of elif statements\n",
    "\n",
    "4 Requirements for an elif Statement\n",
    "\n",
    "1. Must invoke the if statement before elif statement\n",
    "2. The word 'elif'\n",
    "3. Condition to check if True or False\n",
    "4. Closing colon ':'\n",
    "5. Indented Code block to execute\n",
    " - If no code block to execute, keyword 'pass' can be used instead of actual code\n",
    " - Else is **not required** after an elif\n",
    "\n",
    "`\n",
    "if condition:\n",
    "    print('The above condition was False, this line will not execute')\n",
    "elif condition:\n",
    "    print(\"The main 'if' was False and the line above condition was True, this line will execute\")\n",
    "`"
   ]
  },
  {
   "cell_type": "code",
   "execution_count": 22,
   "id": "9f428c5b",
   "metadata": {},
   "outputs": [],
   "source": [
    "num1 = 20\n",
    "num2 = 50"
   ]
  },
  {
   "cell_type": "code",
   "execution_count": 24,
   "id": "cb2aed2b",
   "metadata": {},
   "outputs": [
    {
     "name": "stdout",
     "output_type": "stream",
     "text": [
      "num1 is Less than num2\n"
     ]
    }
   ],
   "source": [
    "if num1 > num2:\n",
    "    print('num1 is greater than num2; I want this to fail')\n",
    "elif num1 < num2:\n",
    "    print('num1 is Less than num2')"
   ]
  },
  {
   "cell_type": "code",
   "execution_count": 25,
   "id": "450205bb",
   "metadata": {},
   "outputs": [],
   "source": [
    "num3 = 50"
   ]
  },
  {
   "cell_type": "code",
   "execution_count": 26,
   "id": "35ed9b23",
   "metadata": {},
   "outputs": [
    {
     "name": "stdout",
     "output_type": "stream",
     "text": [
      "finally this will print\n"
     ]
    }
   ],
   "source": [
    "if num1 > num2:\n",
    "    print('This will fail')\n",
    "elif num1 == num2:\n",
    "    print('This will fail')\n",
    "elif num2 >= num3:\n",
    "    print('finally this will print')"
   ]
  },
  {
   "cell_type": "markdown",
   "id": "d644d724",
   "metadata": {},
   "source": [
    "### And and Or Operators"
   ]
  },
  {
   "cell_type": "code",
   "execution_count": 28,
   "id": "d8ad9110",
   "metadata": {},
   "outputs": [],
   "source": [
    "num1 = 20\n",
    "num2 = 50"
   ]
  },
  {
   "cell_type": "code",
   "execution_count": 31,
   "id": "672efab6",
   "metadata": {},
   "outputs": [
    {
     "name": "stdout",
     "output_type": "stream",
     "text": [
      "This is an example of both conditions being true\n"
     ]
    }
   ],
   "source": [
    "if num1 < num2 and num1 * 2 < num2:\n",
    "    print('This is an example of both conditions being true')"
   ]
  },
  {
   "cell_type": "code",
   "execution_count": 36,
   "id": "106f14cb",
   "metadata": {},
   "outputs": [
    {
     "name": "stdout",
     "output_type": "stream",
     "text": [
      "This is still going to print; only one condition has to be true with the or operator\n"
     ]
    }
   ],
   "source": [
    "if num1 > num2 or num1 < num2:\n",
    "    print('This is still going to print; only one condition has to be true with the or operator')"
   ]
  },
  {
   "cell_type": "markdown",
   "id": "0d3aac4f",
   "metadata": {},
   "source": [
    "### Not and In Operator"
   ]
  },
  {
   "cell_type": "code",
   "execution_count": 42,
   "id": "f6b068fa",
   "metadata": {},
   "outputs": [],
   "source": [
    "string1 = 'This is a string'"
   ]
  },
  {
   "cell_type": "code",
   "execution_count": 39,
   "id": "654f174c",
   "metadata": {},
   "outputs": [
    {
     "name": "stdout",
     "output_type": "stream",
     "text": [
      "This is not going to print\n"
     ]
    }
   ],
   "source": [
    "# NOT Operator (not very common but still might see it)\n",
    "\n",
    "if not False:\n",
    "    print('This is not going to print')\n"
   ]
  },
  {
   "cell_type": "code",
   "execution_count": 46,
   "id": "675c13ef",
   "metadata": {},
   "outputs": [
    {
     "name": "stdout",
     "output_type": "stream",
     "text": [
      "NOT IN is not in the string\n"
     ]
    }
   ],
   "source": [
    "# in operator\n",
    "\n",
    "if 'NOT IN' in 'This is a string':\n",
    "    print('The word This is in the string')\n",
    "else:\n",
    "    print('NOT IN is not in the string')\n"
   ]
  },
  {
   "cell_type": "code",
   "execution_count": null,
   "id": "a570b8ba",
   "metadata": {},
   "outputs": [],
   "source": []
  },
  {
   "cell_type": "code",
   "execution_count": null,
   "id": "b2bbf8a5",
   "metadata": {},
   "outputs": [],
   "source": []
  },
  {
   "cell_type": "code",
   "execution_count": null,
   "id": "e96398fa",
   "metadata": {},
   "outputs": [],
   "source": []
  },
  {
   "cell_type": "code",
   "execution_count": null,
   "id": "f7f4c638",
   "metadata": {},
   "outputs": [],
   "source": []
  },
  {
   "cell_type": "code",
   "execution_count": null,
   "id": "5d9fa2b4",
   "metadata": {},
   "outputs": [],
   "source": []
  }
 ],
 "metadata": {
  "kernelspec": {
   "display_name": "Python 3 (ipykernel)",
   "language": "python",
   "name": "python3"
  },
  "language_info": {
   "codemirror_mode": {
    "name": "ipython",
    "version": 3
   },
   "file_extension": ".py",
   "mimetype": "text/x-python",
   "name": "python",
   "nbconvert_exporter": "python",
   "pygments_lexer": "ipython3",
   "version": "3.9.10"
  }
 },
 "nbformat": 4,
 "nbformat_minor": 5
}

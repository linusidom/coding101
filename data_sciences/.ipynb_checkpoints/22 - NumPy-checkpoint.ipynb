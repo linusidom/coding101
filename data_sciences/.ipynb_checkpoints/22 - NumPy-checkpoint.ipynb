{
 "cells": [
  {
   "cell_type": "markdown",
   "id": "043357b4",
   "metadata": {},
   "source": [
    "# NumPy - Numeric Python (Cheat Sheet)\n",
    "\n",
    "### What is NumPy?\n",
    "An easy way to create, navigate and manipulate arrays and matrices of data\n",
    "\n",
    "\n",
    "### Why do I need to know this?\n",
    "Technically you don't, it doesn't come up too much directly in Data Science however it is the underlying functionality powering pandas and data sciences in python\n",
    "\n",
    "No need to memorize, just be familar with the concept, where to look at how to use\n",
    "\n",
    "NumPy refers to lists as arrays\n",
    "\n",
    "### Getting Started with NumPy\n",
    "\n",
    "`pip install numpy`\n",
    "\n",
    "`import numpy as np`\n",
    "\n",
    "### Common Functions in NumPy\n",
    "\n",
    "\n",
    "###### Create an Array\n",
    "- Create an array (list) of a desired size\n",
    "\n",
    "`np.arange(start, stop, step)`\n",
    "\n",
    "- Long way to do this\n",
    "\n",
    "`\n",
    "[x for x in range(start, stop, step)]\n",
    "`\n",
    "\n",
    "###### Random\n",
    "\n",
    "Get a random integer or get a list of random numbers between 2 numbers\n",
    "\n",
    "`np.random.randint(1,99,10)`\n",
    "\n",
    "`array([62, 89, 18, 41,  6, 67, 83, 48, 98, 56])`\n",
    "\n",
    "Create a random array, results will be between 0 and 1\n",
    "\n",
    "`np.random.rand(3)`\n",
    "\n",
    "`array([0.37556892, 0.88167555, 0.21885929])`\n",
    "\n",
    "Create a random Multi-Dimensional array, results will be between 0 and 1\n",
    "\n",
    "`np.random.rand(3,3)`\n",
    "\n",
    "`array([[0.43373283, 0.81953016, 0.60483176],\n",
    "       [0.46460322, 0.04923629, 0.53102037],\n",
    "       [0.34119516, 0.78186692, 0.88462712]])`\n",
    "\n",
    "\n",
    "\n",
    "###### Re Shape a 1-dimensional array to a multi-dimensional array\n",
    "\n",
    "Multi-dimensional array needs to match the number of items in the 1-dimensional array\n",
    "\n",
    "`arr = np.arange(24)`\n",
    "\n",
    "`arr.reshape(4,6)`\n",
    "\n",
    "`array([[ 0,  1,  2,  3,  4,  5],\n",
    "       [ 6,  7,  8,  9, 10, 11],\n",
    "       [12, 13, 14, 15, 16, 17],\n",
    "       [18, 19, 20, 21, 22, 23]])`\n",
    "       \n",
    "\n",
    "Get the shape or the dimensions of the array, Row x Column\n",
    "\n",
    "`arr.shape`\n",
    "\n",
    "\n",
    "\n",
    "###### Max and Min\n",
    "\n",
    "Get Min and Max values\n",
    "\n",
    "`arr.min()` `arr.max()`\n",
    "\n",
    "Get Min and Max index locations\n",
    "\n",
    "`arr.argmin()` `arr.argmax()`\n",
    "\n",
    "Get the location of the element with the lowest value\n",
    "\n",
    "`numpy.unravel_index(arr.argmin(), arr.shape)`\n",
    "\n",
    "\n",
    "###### Indexing\n",
    "\n",
    "Similar to lists and string for 1-dimensional arrays\n",
    "\n",
    "`arr[0:3]` or `arr[:-2]`\n",
    "\n",
    "For 2-dimensional Arrays, Single Bracket with comma (will see this with pandas\n",
    "\n",
    "`arr[row, col]`\n",
    "\n",
    "`arr[1:3,3:5]`\n",
    "\n",
    "###### Comparison Operations\n",
    "\n",
    "Selecting only values that match a certain condition (will see this with pandas data selection)\n",
    "\n",
    "`arr > 5` or `arr[arr > 5]`\n",
    "\n",
    "###### Math\n",
    "\n",
    "We can use standard arithmetic values\n",
    "\n",
    "`arr *,/,+,-,** 5`\n",
    "\n",
    "Division by 0 -> Numpy will continue to run but will return either an **nan** or **inf**\n",
    "\n",
    "nan -> 0 / 0\n",
    "inf -> number / 0\n",
    "\n",
    "For more, there is a list of Universal Math functions that can be run in NumPy\n",
    "\n",
    "\n",
    "###### NaN and Inf\n",
    "\n",
    "Pandas uses NumPy to fill in missing values using np.nan\n",
    "\n",
    "If we fill in 'Nan', this is a string and will not match the correct data type\n",
    "\n",
    "`np.nan`\n",
    "\n",
    "`np.inf`\n",
    "\n",
    "Methods to check if the value is Nan or Inf\n",
    "\n",
    "Nan -> `np.isnull()`\n",
    "\n",
    "Inf -> `np.isinf()`\n",
    "\n",
    "\n"
   ]
  },
  {
   "cell_type": "code",
   "execution_count": 204,
   "id": "b9fc0a07",
   "metadata": {},
   "outputs": [],
   "source": [
    "import numpy as np"
   ]
  },
  {
   "cell_type": "code",
   "execution_count": 207,
   "id": "d651fb3a",
   "metadata": {},
   "outputs": [
    {
     "data": {
      "text/plain": [
       "numpy.ndarray"
      ]
     },
     "execution_count": 207,
     "metadata": {},
     "output_type": "execute_result"
    }
   ],
   "source": [
    "type(np.arange(0,10,2))"
   ]
  },
  {
   "cell_type": "code",
   "execution_count": 208,
   "id": "65b1ca1b",
   "metadata": {},
   "outputs": [
    {
     "data": {
      "text/plain": [
       "list"
      ]
     },
     "execution_count": 208,
     "metadata": {},
     "output_type": "execute_result"
    }
   ],
   "source": [
    "type([i for i in range(0,10,2)])"
   ]
  },
  {
   "cell_type": "code",
   "execution_count": 213,
   "id": "4370e8aa",
   "metadata": {},
   "outputs": [],
   "source": [
    "import random"
   ]
  },
  {
   "cell_type": "code",
   "execution_count": 236,
   "id": "2e67af46",
   "metadata": {},
   "outputs": [
    {
     "name": "stdout",
     "output_type": "stream",
     "text": [
      "[35 76  3]\n"
     ]
    }
   ],
   "source": [
    "# print(random.randint(0,99)) # only a single value\n",
    "print(np.random.randint(0,99, 3)) # mutliple values"
   ]
  },
  {
   "cell_type": "code",
   "execution_count": 237,
   "id": "3fc38dd1",
   "metadata": {},
   "outputs": [
    {
     "data": {
      "text/plain": [
       "[0, 89, 75]"
      ]
     },
     "execution_count": 237,
     "metadata": {},
     "output_type": "execute_result"
    }
   ],
   "source": [
    "[random.randint(0,99) for i in range(3)]"
   ]
  },
  {
   "cell_type": "code",
   "execution_count": 243,
   "id": "ea6ecd67",
   "metadata": {},
   "outputs": [
    {
     "name": "stdout",
     "output_type": "stream",
     "text": [
      "Python Way 0.1918050913184296\n",
      "Numpy Way [0.30645379 0.70987277 0.05846995 0.65470264 0.01327191 0.70869469\n",
      " 0.16701761 0.24770221 0.08349398 0.76240729]\n"
     ]
    }
   ],
   "source": [
    "print('Python Way', random.random())\n",
    "print('Numpy Way', np.random.rand(10))"
   ]
  },
  {
   "cell_type": "code",
   "execution_count": 248,
   "id": "c86bfe63",
   "metadata": {},
   "outputs": [
    {
     "data": {
      "text/plain": [
       "array([[0.75404714, 0.79893542, 0.07215075, 0.42165836, 0.05452504],\n",
       "       [0.41323985, 0.77436316, 0.0920994 , 0.09394923, 0.29070174],\n",
       "       [0.71828116, 0.06040244, 0.76133552, 0.54604724, 0.92287656],\n",
       "       [0.15792741, 0.73898026, 0.32618219, 0.59333127, 0.77988975],\n",
       "       [0.66569663, 0.685403  , 0.44415641, 0.35491677, 0.66289767]])"
      ]
     },
     "execution_count": 248,
     "metadata": {},
     "output_type": "execute_result"
    }
   ],
   "source": [
    "# Multi-dimensional array\n",
    "\n",
    "np.random.rand(5,5)"
   ]
  },
  {
   "cell_type": "code",
   "execution_count": 279,
   "id": "a01787f3",
   "metadata": {},
   "outputs": [],
   "source": [
    "arr = np.arange(0,48, 2)"
   ]
  },
  {
   "cell_type": "code",
   "execution_count": 280,
   "id": "e10c7f83",
   "metadata": {},
   "outputs": [
    {
     "name": "stdout",
     "output_type": "stream",
     "text": [
      "[ 0  2  4  6  8 10 12 14 16 18 20 22 24 26 28 30 32 34 36 38 40 42 44 46]\n"
     ]
    },
    {
     "data": {
      "text/plain": [
       "(24,)"
      ]
     },
     "execution_count": 280,
     "metadata": {},
     "output_type": "execute_result"
    }
   ],
   "source": [
    "print(arr)\n",
    "arr.shape"
   ]
  },
  {
   "cell_type": "code",
   "execution_count": 281,
   "id": "c0a5a06c",
   "metadata": {},
   "outputs": [],
   "source": [
    "arr_reshaped = arr.reshape(6,4)"
   ]
  },
  {
   "cell_type": "code",
   "execution_count": 282,
   "id": "c7b485d3",
   "metadata": {},
   "outputs": [
    {
     "data": {
      "text/plain": [
       "array([[ 0,  2,  4,  6],\n",
       "       [ 8, 10, 12, 14],\n",
       "       [16, 18, 20, 22],\n",
       "       [24, 26, 28, 30],\n",
       "       [32, 34, 36, 38],\n",
       "       [40, 42, 44, 46]])"
      ]
     },
     "execution_count": 282,
     "metadata": {},
     "output_type": "execute_result"
    }
   ],
   "source": [
    "arr_reshaped"
   ]
  },
  {
   "cell_type": "code",
   "execution_count": 283,
   "id": "9f1453af",
   "metadata": {},
   "outputs": [
    {
     "data": {
      "text/plain": [
       "(6, 4)"
      ]
     },
     "execution_count": 283,
     "metadata": {},
     "output_type": "execute_result"
    }
   ],
   "source": [
    "arr_reshaped.shape"
   ]
  },
  {
   "cell_type": "code",
   "execution_count": 284,
   "id": "98188e60",
   "metadata": {},
   "outputs": [
    {
     "name": "stdout",
     "output_type": "stream",
     "text": [
      "[ 0  2  4  6  8 10 12 14 16 18 20 22 24 26 28 30 32 34 36 38 40 42 44 46]\n",
      "Min 0\n",
      "Max 46\n",
      "\n",
      " [[ 0  2  4  6]\n",
      " [ 8 10 12 14]\n",
      " [16 18 20 22]\n",
      " [24 26 28 30]\n",
      " [32 34 36 38]\n",
      " [40 42 44 46]]\n",
      "Min in multidimensional 0\n",
      "Max in multidimensional 46\n"
     ]
    }
   ],
   "source": [
    "print(arr)\n",
    "print('Min', arr.min())\n",
    "print('Max', arr.max())\n",
    "\n",
    "print('\\n', arr_reshaped)\n",
    "print('Min in multidimensional', arr_reshaped.min())\n",
    "print('Max in multidimensional', arr_reshaped.max())"
   ]
  },
  {
   "cell_type": "code",
   "execution_count": 298,
   "id": "e0bf38b0",
   "metadata": {},
   "outputs": [
    {
     "name": "stdout",
     "output_type": "stream",
     "text": [
      "[ 0  2  4  6  8 10 12 14 16 18 20 22 24 26 28 30 32 34 36 38 40 42 44 46]\n",
      "Min Index 0\n",
      "Max Index 23\n",
      "Min Actual Value 0\n",
      "Max Actual Value 46\n",
      "\n",
      " [[ 0  2  4  6]\n",
      " [ 8 10 12 14]\n",
      " [16 18 20 22]\n",
      " [24 26 28 30]\n",
      " [32 34 36 38]\n",
      " [40 42 44 46]]\n",
      "Min in multidimensional 0\n",
      "Max in multidimensional 23\n",
      "Min Index Location (0, 0)\n",
      "Max Index Location (5, 3)\n"
     ]
    }
   ],
   "source": [
    "# Where are the min max values, what location?\n",
    "\n",
    "print(arr)\n",
    "print('Min Index', arr.argmin())\n",
    "print('Max Index', arr.argmax())\n",
    "\n",
    "print('Min Actual Value', arr[arr.argmin()])\n",
    "print('Max Actual Value', arr[arr.argmax()])\n",
    "\n",
    "\n",
    "print('\\n', arr_reshaped)\n",
    "print('Min in multidimensional', arr_reshaped.argmin())\n",
    "print('Max in multidimensional', arr_reshaped.argmax())\n",
    "# print('Min Actual Value', arr_reshaped[arr_reshaped.argmin()])\n",
    "# # print('Max Actual Value', arr_reshaped[arr_reshaped.argmax()])\n",
    "\n",
    "print('Min Index Location', numpy.unravel_index(arr_reshaped.argmin(), arr_reshaped.shape))\n",
    "print('Max Index Location',numpy.unravel_index(arr_reshaped.argmax(), arr_reshaped.shape))\n"
   ]
  },
  {
   "cell_type": "code",
   "execution_count": 305,
   "id": "2b418191",
   "metadata": {},
   "outputs": [
    {
     "name": "stdout",
     "output_type": "stream",
     "text": [
      "[ 0  2  4  6  8 10 12 14 16 18 20 22 24 26 28 30 32 34 36 38 40 42 44 46]\n",
      "[ 2  4  6  8 10 12 14 16 18]\n"
     ]
    }
   ],
   "source": [
    "print(arr)\n",
    "print(arr[1:10])"
   ]
  },
  {
   "cell_type": "code",
   "execution_count": 317,
   "id": "734ec77e",
   "metadata": {},
   "outputs": [
    {
     "name": "stdout",
     "output_type": "stream",
     "text": [
      "[[ 0  2  4  6]\n",
      " [ 8 10 12 14]\n",
      " [16 18 20 22]\n",
      " [24 26 28 30]\n",
      " [32 34 36 38]\n",
      " [40 42 44 46]]\n",
      "28\n"
     ]
    }
   ],
   "source": [
    "# Mutlidimensional Indexing\n",
    "print(arr_reshaped)\n",
    "print(arr_reshaped[3,2])"
   ]
  },
  {
   "cell_type": "code",
   "execution_count": 318,
   "id": "75610aab",
   "metadata": {},
   "outputs": [
    {
     "data": {
      "text/plain": [
       "array([[10, 12],\n",
       "       [18, 20],\n",
       "       [26, 28],\n",
       "       [34, 36]])"
      ]
     },
     "execution_count": 318,
     "metadata": {},
     "output_type": "execute_result"
    }
   ],
   "source": [
    "arr_reshaped[1:5,1:3]"
   ]
  },
  {
   "cell_type": "code",
   "execution_count": 326,
   "id": "fa9ee5c3",
   "metadata": {},
   "outputs": [
    {
     "data": {
      "text/plain": [
       "array([12, 14, 16, 18, 20, 22, 24, 26, 28, 30, 32, 34, 36, 38])"
      ]
     },
     "execution_count": 326,
     "metadata": {},
     "output_type": "execute_result"
    }
   ],
   "source": [
    "arr[(arr > 10) & (arr < 40)]"
   ]
  },
  {
   "cell_type": "code",
   "execution_count": 330,
   "id": "5edb4af3",
   "metadata": {},
   "outputs": [
    {
     "data": {
      "text/plain": [
       "array([12, 14, 16, 18, 20, 22, 24, 26, 28, 30, 32, 34, 36, 38, 40, 42, 44,\n",
       "       46])"
      ]
     },
     "execution_count": 330,
     "metadata": {},
     "output_type": "execute_result"
    }
   ],
   "source": [
    "arr_reshaped[arr_reshaped > 10]"
   ]
  },
  {
   "cell_type": "code",
   "execution_count": 340,
   "id": "57dc9655",
   "metadata": {},
   "outputs": [
    {
     "name": "stderr",
     "output_type": "stream",
     "text": [
      "/var/folders/l_/qm4dplj969j0tcpycqgttbwc0000gn/T/ipykernel_77530/1903996070.py:1: RuntimeWarning: divide by zero encountered in true_divide\n",
      "  nan_inf = arr_reshaped / 0\n",
      "/var/folders/l_/qm4dplj969j0tcpycqgttbwc0000gn/T/ipykernel_77530/1903996070.py:1: RuntimeWarning: invalid value encountered in true_divide\n",
      "  nan_inf = arr_reshaped / 0\n"
     ]
    }
   ],
   "source": [
    "nan_inf = arr_reshaped / 0"
   ]
  },
  {
   "cell_type": "code",
   "execution_count": 338,
   "id": "7e4b1584",
   "metadata": {},
   "outputs": [
    {
     "data": {
      "text/plain": [
       "float"
      ]
     },
     "execution_count": 338,
     "metadata": {},
     "output_type": "execute_result"
    }
   ],
   "source": [
    "type(np.nan)"
   ]
  },
  {
   "cell_type": "code",
   "execution_count": 339,
   "id": "4bc168ae",
   "metadata": {},
   "outputs": [
    {
     "data": {
      "text/plain": [
       "float"
      ]
     },
     "execution_count": 339,
     "metadata": {},
     "output_type": "execute_result"
    }
   ],
   "source": [
    "type(np.inf)"
   ]
  },
  {
   "cell_type": "code",
   "execution_count": 355,
   "id": "dfa04638",
   "metadata": {},
   "outputs": [
    {
     "data": {
      "text/plain": [
       "array([[nan, inf, inf, inf],\n",
       "       [inf, inf, inf, inf],\n",
       "       [inf, inf, inf, inf],\n",
       "       [inf, inf, inf, inf],\n",
       "       [inf, inf, inf, inf],\n",
       "       [inf, inf, inf, inf]])"
      ]
     },
     "execution_count": 355,
     "metadata": {},
     "output_type": "execute_result"
    }
   ],
   "source": [
    "nan_inf"
   ]
  },
  {
   "cell_type": "code",
   "execution_count": 356,
   "id": "801b8edf",
   "metadata": {},
   "outputs": [
    {
     "data": {
      "text/plain": [
       "array([[ True, False, False, False],\n",
       "       [False, False, False, False],\n",
       "       [False, False, False, False],\n",
       "       [False, False, False, False],\n",
       "       [False, False, False, False],\n",
       "       [False, False, False, False]])"
      ]
     },
     "execution_count": 356,
     "metadata": {},
     "output_type": "execute_result"
    }
   ],
   "source": [
    "np.isnan(nan_inf)"
   ]
  },
  {
   "cell_type": "code",
   "execution_count": 357,
   "id": "a00394fa",
   "metadata": {},
   "outputs": [
    {
     "data": {
      "text/plain": [
       "array([[False,  True,  True,  True],\n",
       "       [ True,  True,  True,  True],\n",
       "       [ True,  True,  True,  True],\n",
       "       [ True,  True,  True,  True],\n",
       "       [ True,  True,  True,  True],\n",
       "       [ True,  True,  True,  True]])"
      ]
     },
     "execution_count": 357,
     "metadata": {},
     "output_type": "execute_result"
    }
   ],
   "source": [
    "np.isinf(nan_inf)"
   ]
  },
  {
   "cell_type": "code",
   "execution_count": 358,
   "id": "85b4b072",
   "metadata": {},
   "outputs": [
    {
     "data": {
      "text/plain": [
       "array([nan])"
      ]
     },
     "execution_count": 358,
     "metadata": {},
     "output_type": "execute_result"
    }
   ],
   "source": [
    "nan_inf[np.isnan(nan_inf)]"
   ]
  },
  {
   "cell_type": "code",
   "execution_count": 359,
   "id": "97add3eb",
   "metadata": {},
   "outputs": [
    {
     "data": {
      "text/plain": [
       "array([inf, inf, inf, inf, inf, inf, inf, inf, inf, inf, inf, inf, inf,\n",
       "       inf, inf, inf, inf, inf, inf, inf, inf, inf, inf])"
      ]
     },
     "execution_count": 359,
     "metadata": {},
     "output_type": "execute_result"
    }
   ],
   "source": [
    "nan_inf[np.isinf(nan_inf)]"
   ]
  },
  {
   "cell_type": "code",
   "execution_count": null,
   "id": "44b30ed1",
   "metadata": {},
   "outputs": [],
   "source": []
  },
  {
   "cell_type": "code",
   "execution_count": null,
   "id": "b3025d5e",
   "metadata": {},
   "outputs": [],
   "source": []
  },
  {
   "cell_type": "code",
   "execution_count": null,
   "id": "fd357676",
   "metadata": {},
   "outputs": [],
   "source": []
  },
  {
   "cell_type": "code",
   "execution_count": null,
   "id": "7bc02d71",
   "metadata": {},
   "outputs": [],
   "source": []
  },
  {
   "cell_type": "code",
   "execution_count": null,
   "id": "c187a90c",
   "metadata": {},
   "outputs": [],
   "source": []
  },
  {
   "cell_type": "code",
   "execution_count": null,
   "id": "bd3a0827",
   "metadata": {},
   "outputs": [],
   "source": []
  },
  {
   "cell_type": "code",
   "execution_count": null,
   "id": "a17b0164",
   "metadata": {},
   "outputs": [],
   "source": []
  },
  {
   "cell_type": "code",
   "execution_count": null,
   "id": "13fbed7c",
   "metadata": {},
   "outputs": [],
   "source": []
  },
  {
   "cell_type": "code",
   "execution_count": null,
   "id": "4ca8adb4",
   "metadata": {},
   "outputs": [],
   "source": []
  },
  {
   "cell_type": "code",
   "execution_count": null,
   "id": "5b75b8d8",
   "metadata": {},
   "outputs": [],
   "source": []
  },
  {
   "cell_type": "code",
   "execution_count": null,
   "id": "c239f29b",
   "metadata": {},
   "outputs": [],
   "source": []
  },
  {
   "cell_type": "code",
   "execution_count": null,
   "id": "488a75d9",
   "metadata": {},
   "outputs": [],
   "source": []
  },
  {
   "cell_type": "code",
   "execution_count": null,
   "id": "be6f847c",
   "metadata": {},
   "outputs": [],
   "source": []
  },
  {
   "cell_type": "code",
   "execution_count": null,
   "id": "ba935bdc",
   "metadata": {},
   "outputs": [],
   "source": []
  },
  {
   "cell_type": "code",
   "execution_count": null,
   "id": "0cb51f72",
   "metadata": {},
   "outputs": [],
   "source": []
  },
  {
   "cell_type": "code",
   "execution_count": null,
   "id": "2be9bac3",
   "metadata": {},
   "outputs": [],
   "source": []
  },
  {
   "cell_type": "code",
   "execution_count": null,
   "id": "4257bdbc",
   "metadata": {},
   "outputs": [],
   "source": []
  },
  {
   "cell_type": "code",
   "execution_count": null,
   "id": "502f3eba",
   "metadata": {},
   "outputs": [],
   "source": []
  },
  {
   "cell_type": "code",
   "execution_count": null,
   "id": "3c74cf46",
   "metadata": {},
   "outputs": [],
   "source": []
  },
  {
   "cell_type": "code",
   "execution_count": null,
   "id": "c4dde371",
   "metadata": {},
   "outputs": [],
   "source": []
  },
  {
   "cell_type": "code",
   "execution_count": null,
   "id": "e51a0840",
   "metadata": {},
   "outputs": [],
   "source": []
  },
  {
   "cell_type": "code",
   "execution_count": null,
   "id": "a7578b8c",
   "metadata": {},
   "outputs": [],
   "source": []
  },
  {
   "cell_type": "code",
   "execution_count": null,
   "id": "b5828544",
   "metadata": {},
   "outputs": [],
   "source": []
  },
  {
   "cell_type": "code",
   "execution_count": null,
   "id": "0789ecc7",
   "metadata": {},
   "outputs": [],
   "source": []
  },
  {
   "cell_type": "code",
   "execution_count": null,
   "id": "d4f6a8bd",
   "metadata": {},
   "outputs": [],
   "source": []
  },
  {
   "cell_type": "code",
   "execution_count": null,
   "id": "869ee7af",
   "metadata": {},
   "outputs": [],
   "source": []
  }
 ],
 "metadata": {
  "kernelspec": {
   "display_name": "logreg",
   "language": "python",
   "name": "logreg"
  },
  "language_info": {
   "codemirror_mode": {
    "name": "ipython",
    "version": 3
   },
   "file_extension": ".py",
   "mimetype": "text/x-python",
   "name": "python",
   "nbconvert_exporter": "python",
   "pygments_lexer": "ipython3",
   "version": "3.9.10"
  }
 },
 "nbformat": 4,
 "nbformat_minor": 5
}

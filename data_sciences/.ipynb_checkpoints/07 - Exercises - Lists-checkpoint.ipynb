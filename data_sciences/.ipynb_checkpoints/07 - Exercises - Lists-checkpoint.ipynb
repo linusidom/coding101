{
 "cells": [
  {
   "cell_type": "markdown",
   "id": "67f7610f",
   "metadata": {},
   "source": [
    "### Exercises Lists"
   ]
  },
  {
   "cell_type": "code",
   "execution_count": 1,
   "id": "967363e3",
   "metadata": {},
   "outputs": [],
   "source": [
    "# Create a list of the following elements and call it list1\n",
    "\n",
    "# 'I am a string',\"I'm a string too\", 555, ['I', 'am', 'a', 'list', 'of', 'strings']\n",
    "\n",
    "\n",
    "\n",
    "# Type your code above this line"
   ]
  },
  {
   "cell_type": "code",
   "execution_count": 2,
   "id": "626ec342",
   "metadata": {},
   "outputs": [],
   "source": [
    "# Change the 2nd item in list1 to be 55555555\n",
    "\n",
    "\n",
    "\n",
    "\n",
    "# Type your code above this line"
   ]
  },
  {
   "cell_type": "code",
   "execution_count": 3,
   "id": "bdf09e96",
   "metadata": {},
   "outputs": [],
   "source": [
    "# Add 'Okay I get it!' to the end of list1\n",
    "\n",
    "\n",
    "# Type your code above this line"
   ]
  },
  {
   "cell_type": "code",
   "execution_count": 4,
   "id": "795a3734",
   "metadata": {},
   "outputs": [],
   "source": [
    "# Remove the number in the list1 so that there are only strings left\n",
    "\n",
    "\n",
    "\n",
    "# Type your code above this line"
   ]
  },
  {
   "cell_type": "code",
   "execution_count": 5,
   "id": "f1cf5b16",
   "metadata": {},
   "outputs": [],
   "source": [
    "# Copy list1 to list2 and add 'this is a copy, not the orignal, python can be annoying' to the end of list2\n",
    "# Check to make sure that list1 was not changed as well\n",
    "\n",
    "\n",
    "\n",
    "# Type your code above this line"
   ]
  },
  {
   "cell_type": "code",
   "execution_count": 4,
   "id": "31ae3cbf",
   "metadata": {},
   "outputs": [],
   "source": [
    "string1 = 'You*really*want*me*to*split*this*string?'\n",
    "\n",
    "# split the following by the '*'\n",
    "# What is the length of the split string?\n",
    "\n",
    "# add 'Yup,_but_now_join_it_with_underscores' to the split string\n",
    "# What is the length of the split string after adding the step above?\n",
    "\n",
    "# join the split string with '_' for spaces\n",
    "# split the above string again :)\n",
    "# What is the length of the split string after the step above?\n",
    "\n",
    "\n",
    "\n",
    "\n",
    "# Type your code above this line"
   ]
  },
  {
   "cell_type": "code",
   "execution_count": null,
   "id": "d98f4b6f",
   "metadata": {},
   "outputs": [],
   "source": [
    "nested_list = ['this', ['is', ['a'], ['nested'],['list'], 'change_me', ['with', 'lots', ['of', 'items'], 'in'],'it']]\n",
    "# Change the word 'change_me' to 'FOUND IT!  That was really annoying'\n",
    "\n",
    "\n",
    "# Type your code above this line"
   ]
  }
 ],
 "metadata": {
  "kernelspec": {
   "display_name": "Python 3 (ipykernel)",
   "language": "python",
   "name": "python3"
  },
  "language_info": {
   "codemirror_mode": {
    "name": "ipython",
    "version": 3
   },
   "file_extension": ".py",
   "mimetype": "text/x-python",
   "name": "python",
   "nbconvert_exporter": "python",
   "pygments_lexer": "ipython3",
   "version": "3.9.10"
  }
 },
 "nbformat": 4,
 "nbformat_minor": 5
}

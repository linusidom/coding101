{
 "cells": [
  {
   "cell_type": "markdown",
   "id": "54165057",
   "metadata": {},
   "source": [
    "# Loops\n",
    "\n",
    "Used to repeatedly execute code forever or until some break condition is met\n",
    "\n",
    "2 kinds of loops in python are While and For loops\n",
    "\n",
    "While loops aren't as common but have a very important role (understand these)\n",
    "\n",
    "For loops are very common and used all over since programming (get used to these)"
   ]
  },
  {
   "cell_type": "code",
   "execution_count": 3,
   "id": "3fd14dc2",
   "metadata": {},
   "outputs": [],
   "source": [
    "# Separator Cell"
   ]
  },
  {
   "cell_type": "markdown",
   "id": "5fd9c077",
   "metadata": {},
   "source": [
    "### While Loops\n",
    "Used to keep code running forever or until some condition is met\n",
    "\n",
    "Not very common in actual code but will come up occassionally\n",
    "\n",
    "Basic Structure:\n",
    "\n",
    "\n",
    "**NOT** RECOMMENDED\n",
    "\n",
    "`\n",
    "while True:\n",
    "    print('execute some block of code')\n",
    "`\n",
    "\n",
    "**RECOMMENDED**\n",
    "\n",
    "`\n",
    "count = 0\n",
    "while count < 5:\n",
    "     print('execute some code')\n",
    "     count += 1 # This line is very important to break out of the while loop\n",
    "`\n",
    "\n",
    "##### Caution\n",
    "\n",
    "Can run forever which is good for games but bad for iterating through a list\n",
    "\n",
    "Strongly, highly recommended to have a break condition to stop running\n",
    "\n",
    "Hit the stop button above to stop the cell from running\n"
   ]
  },
  {
   "cell_type": "code",
   "execution_count": null,
   "id": "65dc7eb6",
   "metadata": {},
   "outputs": [],
   "source": []
  },
  {
   "cell_type": "markdown",
   "id": "9f00ba55",
   "metadata": {},
   "source": [
    "### For Loops\n",
    "Used to loop a finite number of times\n",
    "\n",
    "Very common and has mutliple variations\n",
    "\n",
    "Basic Structure:\n",
    "\n",
    "`\n",
    "for X in Y:\n",
    "     print(X)\n",
    "`\n",
    "\n",
    "X is a temporary variable that is used within the for loop\n",
    "Y is a list or an iterable object\n",
    "\n",
    "Examples of iterable objects:\n",
    "Lists, Tuples, Dictionaries, Range\n",
    "\n",
    "###### Range\n",
    "Range is used to define a starting point, stopping point and step value\n",
    "\n",
    "Example (common)\n",
    "\n",
    "`\n",
    "for x in range(5):\n",
    "     print(x)\n",
    "`\n",
    "\n",
    "###### Advanced use case\n",
    "\n",
    "List Comprehension\n",
    "\n",
    "`\n",
    "[print(x) for x in y]\n",
    "[print(x) for x in range(5)]\n",
    "`"
   ]
  },
  {
   "cell_type": "code",
   "execution_count": null,
   "id": "fdb45fc9",
   "metadata": {},
   "outputs": [],
   "source": []
  },
  {
   "cell_type": "code",
   "execution_count": null,
   "id": "9d1a911e",
   "metadata": {},
   "outputs": [],
   "source": []
  }
 ],
 "metadata": {
  "kernelspec": {
   "display_name": "Python 3 (ipykernel)",
   "language": "python",
   "name": "python3"
  },
  "language_info": {
   "codemirror_mode": {
    "name": "ipython",
    "version": 3
   },
   "file_extension": ".py",
   "mimetype": "text/x-python",
   "name": "python",
   "nbconvert_exporter": "python",
   "pygments_lexer": "ipython3",
   "version": "3.9.10"
  }
 },
 "nbformat": 4,
 "nbformat_minor": 5
}

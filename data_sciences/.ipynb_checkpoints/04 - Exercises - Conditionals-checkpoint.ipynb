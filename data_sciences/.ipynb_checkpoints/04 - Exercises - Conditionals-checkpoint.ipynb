{
 "cells": [
  {
   "cell_type": "markdown",
   "id": "b4aba517",
   "metadata": {},
   "source": [
    "# Exercises"
   ]
  },
  {
   "cell_type": "markdown",
   "id": "3485fc2d",
   "metadata": {},
   "source": [
    "### Welcome to the Data Sciences Buffet\n",
    "\n",
    "Children under 12 can eat for 75% off  \n",
    "Adults over 55 eat for 50% off  \n",
    "Otherwise everyone else is charged the standard price\n",
    "\n",
    "Buffet standard Price is ฿400  \n",
    "Dessert costs ฿50 per person"
   ]
  },
  {
   "cell_type": "code",
   "execution_count": null,
   "id": "3ad1fc29",
   "metadata": {},
   "outputs": [],
   "source": [
    "age = int(input('Enter your Age: '))\n",
    "dessert = input(\"Would you like Dessert: 'yes' or 'no'  \")"
   ]
  },
  {
   "cell_type": "code",
   "execution_count": null,
   "id": "8a1bf5e4",
   "metadata": {},
   "outputs": [],
   "source": [
    "# Create an if elif else conditional logic for the conditions above\n",
    "# The final output should be the total bill for the person\n",
    "\n",
    "\n",
    "\n",
    "\n",
    "\n",
    "\n",
    "# Type your code above this line\n",
    "\n",
    "print(f'Your total bill is: {total_bill}')"
   ]
  }
 ],
 "metadata": {
  "kernelspec": {
   "display_name": "Python 3 (ipykernel)",
   "language": "python",
   "name": "python3"
  },
  "language_info": {
   "codemirror_mode": {
    "name": "ipython",
    "version": 3
   },
   "file_extension": ".py",
   "mimetype": "text/x-python",
   "name": "python",
   "nbconvert_exporter": "python",
   "pygments_lexer": "ipython3",
   "version": "3.9.10"
  }
 },
 "nbformat": 4,
 "nbformat_minor": 5
}

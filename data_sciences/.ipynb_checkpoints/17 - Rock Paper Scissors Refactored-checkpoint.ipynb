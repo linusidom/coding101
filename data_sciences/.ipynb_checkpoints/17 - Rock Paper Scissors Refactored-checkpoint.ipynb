{
 "cells": [
  {
   "cell_type": "markdown",
   "id": "9ac659cc",
   "metadata": {},
   "source": [
    "# Rock Paper Scissors - Refactored\n",
    "\n",
    "### What is Refactoring?\n",
    "Refactoring is way to:\n",
    "- Write the exact same functionality of code but make it simpler an easier to follow\n",
    "- Centralize changes - Reduce repeating code\n",
    "\n",
    "\n",
    "Often this means:\n",
    " - Replacing for loops with comprehension\n",
    " - Wrapping content in a function\n",
    " - Replacing a function call with a lambda expression\n",
    " - and much more\n",
    "    \n",
    "This does not mean:\n",
    " - Adding new features\n",
    " - Removing features\n",
    " \n",
    "The code should work the **EXACT** same way before it was refactored\n",
    "\n",
    "\n",
    "### What to be careful of when Refactoring?\n",
    "It's really easy to want to remove or add features\n",
    "\n",
    "It's really easy to get lost in what changes have been made\n",
    "\n",
    "Strategy:\n",
    "- Start from the top and refactor in small chunks\n",
    "- Go chunk by chunk / section by section\n",
    "- If the section is too large, it's okay to move it into a functiona and call on it and then chunk it down from there\n",
    "- First go Comprehension, then move to functions, and if possible move it to a class\n",
    "- Keep the code readable\n",
    "\n",
    "\n",
    "### When too much refactoring is a bad thing...\n",
    "Code is chunked down too small and becomes almost unintelligible\n",
    "\n",
    "Can't be handed down to others with ease\n",
    "\n",
    "If looked at in 6 months or 1 year+, it's not understandable"
   ]
  },
  {
   "cell_type": "code",
   "execution_count": null,
   "id": "16b27a40",
   "metadata": {},
   "outputs": [
    {
     "name": "stdout",
     "output_type": "stream",
     "text": [
      "\n",
      "Please Choose Rock (0), Paper (1) or Scissors (2)1\n",
      "You Win!  You: Paper beat the Computer:Rock\n",
      "\n",
      "Please Choose Rock (0), Paper (1) or Scissors (2)1\n",
      "It's a Tie  Paper and Paper\n",
      "\n",
      "Please Choose Rock (0), Paper (1) or Scissors (2)1\n",
      "It's a Tie  Paper and Paper\n",
      "\n",
      "Please Choose Rock (0), Paper (1) or Scissors (2)1\n",
      "You lose :( You: Paper lost to the Computer Scissors\n",
      "\n",
      "Please Choose Rock (0), Paper (1) or Scissors (2)1\n",
      "It's a Tie  Paper and Paper\n",
      "\n",
      "Please Choose Rock (0), Paper (1) or Scissors (2)1\n",
      "It's a Tie  Paper and Paper\n",
      "\n",
      "Please Choose Rock (0), Paper (1) or Scissors (2)1\n",
      "You lose :( You: Paper lost to the Computer Scissors\n",
      "\n",
      "Please Choose Rock (0), Paper (1) or Scissors (2)1\n",
      "You lose :( You: Paper lost to the Computer Scissors\n",
      "\n",
      "Please Choose Rock (0), Paper (1) or Scissors (2)1\n",
      "You lose :( You: Paper lost to the Computer Scissors\n",
      "\n",
      "Please Choose Rock (0), Paper (1) or Scissors (2)1\n",
      "You lose :( You: Paper lost to the Computer Scissors\n",
      "\n",
      "Please Choose Rock (0), Paper (1) or Scissors (2)1\n",
      "You Win!  You: Paper beat the Computer:Rock\n",
      "\n",
      "Please Choose Rock (0), Paper (1) or Scissors (2)1\n",
      "You Win!  You: Paper beat the Computer:Rock\n"
     ]
    }
   ],
   "source": [
    "import random\n",
    "names = ['Rock', 'Paper', 'Scissors']\n",
    "choices = [0,1,2]\n",
    "\n",
    "\n",
    "def winner_message(user_selection, computer_selection, winner=None):\n",
    "    if winner == 'user':\n",
    "        return f\"You Win!  You: {user_selection} beat the Computer:{computer_selection}\"\n",
    "    if winner == 'computer':\n",
    "        return f\"You lose :( You: {user_selection} lost to the Computer {computer_selection}\"\n",
    "    return f\"It's a Tie  {user_selection} and {computer_selection}\"\n",
    "        \n",
    "\n",
    "# Calling a function from within a function is not good practice\n",
    "# Functions should only return values, unless they are recursive\n",
    "def winner_selection(user_selection, computer_selection):\n",
    "    if (user_selection == 0 and computer_selection == 2)\\\n",
    "        or (user_selection == 1 and computer_selection == 0)\\\n",
    "        or (user_selection == 2 and computer_selection == 1):\n",
    "        return 'user'\n",
    "    elif user_selection == computer_selection:\n",
    "        return None\n",
    "    return 'computer'\n",
    "\n",
    "\n",
    "while True:\n",
    "    user_selection = int(input('\\nPlease Choose Rock (0), Paper (1) or Scissors (2)'))\n",
    "    computer_selection = random.choice(choices)\n",
    "    \n",
    "    winner = winner_selection(user_selection, computer_selection)\n",
    "    print(winner_message(names[user_selection], names[computer_selection], winner))"
   ]
  },
  {
   "cell_type": "code",
   "execution_count": null,
   "id": "c2dd2dc0",
   "metadata": {},
   "outputs": [],
   "source": []
  },
  {
   "cell_type": "code",
   "execution_count": null,
   "id": "e71b3546",
   "metadata": {},
   "outputs": [],
   "source": []
  },
  {
   "cell_type": "code",
   "execution_count": null,
   "id": "be1f4dd3",
   "metadata": {},
   "outputs": [],
   "source": []
  },
  {
   "cell_type": "code",
   "execution_count": null,
   "id": "9e501408",
   "metadata": {},
   "outputs": [],
   "source": []
  },
  {
   "cell_type": "code",
   "execution_count": null,
   "id": "55313404",
   "metadata": {},
   "outputs": [],
   "source": []
  },
  {
   "cell_type": "code",
   "execution_count": null,
   "id": "efb93be2",
   "metadata": {},
   "outputs": [],
   "source": []
  },
  {
   "cell_type": "code",
   "execution_count": null,
   "id": "1c3cddf3",
   "metadata": {},
   "outputs": [],
   "source": []
  },
  {
   "cell_type": "code",
   "execution_count": null,
   "id": "24917177",
   "metadata": {},
   "outputs": [],
   "source": []
  },
  {
   "cell_type": "code",
   "execution_count": null,
   "id": "4424cb08",
   "metadata": {},
   "outputs": [],
   "source": []
  },
  {
   "cell_type": "code",
   "execution_count": null,
   "id": "23a749c0",
   "metadata": {},
   "outputs": [],
   "source": []
  },
  {
   "cell_type": "code",
   "execution_count": null,
   "id": "d855e39c",
   "metadata": {},
   "outputs": [],
   "source": []
  },
  {
   "cell_type": "code",
   "execution_count": null,
   "id": "128dea3b",
   "metadata": {},
   "outputs": [],
   "source": []
  },
  {
   "cell_type": "code",
   "execution_count": null,
   "id": "532eb0ad",
   "metadata": {},
   "outputs": [],
   "source": []
  },
  {
   "cell_type": "code",
   "execution_count": null,
   "id": "2312715b",
   "metadata": {},
   "outputs": [],
   "source": []
  },
  {
   "cell_type": "code",
   "execution_count": null,
   "id": "3b3e0259",
   "metadata": {},
   "outputs": [],
   "source": []
  },
  {
   "cell_type": "code",
   "execution_count": null,
   "id": "dec01c4d",
   "metadata": {},
   "outputs": [],
   "source": []
  },
  {
   "cell_type": "code",
   "execution_count": null,
   "id": "71d9d818",
   "metadata": {},
   "outputs": [],
   "source": []
  },
  {
   "cell_type": "code",
   "execution_count": null,
   "id": "d377833f",
   "metadata": {},
   "outputs": [],
   "source": []
  }
 ],
 "metadata": {
  "kernelspec": {
   "display_name": "Python 3 (ipykernel)",
   "language": "python",
   "name": "python3"
  },
  "language_info": {
   "codemirror_mode": {
    "name": "ipython",
    "version": 3
   },
   "file_extension": ".py",
   "mimetype": "text/x-python",
   "name": "python",
   "nbconvert_exporter": "python",
   "pygments_lexer": "ipython3",
   "version": "3.9.10"
  }
 },
 "nbformat": 4,
 "nbformat_minor": 5
}

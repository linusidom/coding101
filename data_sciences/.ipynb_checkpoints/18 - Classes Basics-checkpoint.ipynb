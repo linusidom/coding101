{
 "cells": [
  {
   "cell_type": "markdown",
   "id": "618a1a98",
   "metadata": {},
   "source": [
    "# Classes Basics (Cheat Sheet)\n",
    "\n",
    "### What are classes?\n",
    "Syntactical Sugar for Functions and Variables\n",
    "\n",
    "We can do everything that a class can do with Variables and Functions...but  \n",
    "**Classes make life much easier for large programs!**\n",
    "\n",
    "Easy to use, but Hard to learn...Practice :)\n",
    "\n",
    "### Why do we use classes?\n",
    "Can group/package functions and variables together for use either in the program or other programs\n",
    "\n",
    "Serves as a template to create objects\n",
    "\n",
    "Objects can then access parts of the class as desired/needed\n",
    "\n",
    "Documentation becomes much easier with classes\n",
    "\n",
    "Adding and removing features becomes really easy\n",
    "\n",
    "### Creating a Class\n",
    "\n",
    "`\n",
    "class MyClass:\n",
    "    pass\n",
    "`\n",
    "\n",
    "\n",
    "### Components of Class\n",
    "\n",
    "###### Attribute\n",
    "Variable inside of a class is called an Attribute\n",
    " \n",
    "\n",
    "Class Level Attribute (used for variables that will never change)\n",
    "\n",
    "`\n",
    "class MyClass:\n",
    "    num1 = 5\n",
    "`\n",
    "\n",
    "Instance Level Attributes (most common; used for values that will change)\n",
    "\n",
    "`\n",
    "class MyClass:\n",
    "    def __init__(self, num1, num2):\n",
    "        self.num1 = num1\n",
    "        self.num2 = num2\n",
    "`\n",
    "\n",
    "\n",
    "###### Method\n",
    "Function inside of a class\n",
    "\n",
    "The Method needs to be passed the keyword \"self\"\n",
    "\n",
    "`\n",
    "class MyClass:\n",
    "    def example(self):\n",
    "        return None\n",
    "`\n",
    "\n",
    "###### __init__ method\n",
    "Initialize the class\n",
    "\n",
    "Positional Arguments, * args and ** kwargs\n",
    "\n",
    "Will be required when Initializing the Class\n",
    "\n",
    "Each variable that is to be used within the class needs to be added to \n",
    "\n",
    "`\n",
    "class MyClass:\n",
    "    def __init__(self, num1, *args, **kwargs):\n",
    "        self.num1 = num1\n",
    "        self.args = args\n",
    "        self.kwargs = kwargs\n",
    "`\n",
    "\n",
    "###### Accessing attributes and methods within a Class (self)\n",
    "The keyword \"self\" is very important and confusing when using classes for the first time\n",
    "\n",
    "All attributes and methods are stored with a variable called \"self\"\n",
    "\n",
    "If they are not stored within \"self\" or accessed with \"self\", they are not available\n",
    "\n",
    "\"self\" is not used outside of the class, but **only used within** the class to access attributes and methods\n",
    "\n",
    "`\n",
    "class MyClass:\n",
    "    def __init__(self, num1, num2):\n",
    "        self.num1 = num1\n",
    "        self.num2 = num2\n",
    "    def my_sum(self):\n",
    "        return self.num1 + self.num2\n",
    "`\n",
    "\n",
    "\n",
    "###### Using the Class\n",
    "\n",
    "In order to use the class we have to initialize it or invoke it\n",
    "\n",
    "Once we invoke it, we can then call methods using \".\" (dot-Notation)\n",
    "\n",
    "`\n",
    "class MyClass:\n",
    "    def __init__(self, num1, num2):\n",
    "        self.num1 = num1\n",
    "        self.num2 = num2    \n",
    "    def my_sum(self):\n",
    "        return self.num1 + self.num2\n",
    "my_class = MyClass(10,20)\n",
    "my_class.my_sum()\n",
    "#-> 30\n",
    "my_class.num1\n",
    "#-> 10\n",
    "my_class.num1\n",
    "#-> 20\n",
    "`\n",
    "\n",
    "###### Class Attribute vs Instance Attribute\n",
    "\n",
    "`\n",
    "class MyClass:\n",
    "    class_string = 'I am a class Attrbite'\n",
    "    def __init__(self, instance_string):\n",
    "        self.instance_string = instance_string\n",
    "    def print_statement(self):\n",
    "        print(self.instance_string)\n",
    "        print(self.class_string)\n",
    "my_class = MyClass('I am an Instance Attribute')\n",
    "`"
   ]
  },
  {
   "cell_type": "code",
   "execution_count": 39,
   "id": "ee811b96",
   "metadata": {},
   "outputs": [],
   "source": [
    "class MyClass:\n",
    "    pass"
   ]
  },
  {
   "cell_type": "code",
   "execution_count": 41,
   "id": "a1282983",
   "metadata": {},
   "outputs": [
    {
     "data": {
      "text/plain": [
       "['__class__',\n",
       " '__delattr__',\n",
       " '__dict__',\n",
       " '__dir__',\n",
       " '__doc__',\n",
       " '__eq__',\n",
       " '__format__',\n",
       " '__ge__',\n",
       " '__getattribute__',\n",
       " '__gt__',\n",
       " '__hash__',\n",
       " '__init__',\n",
       " '__init_subclass__',\n",
       " '__le__',\n",
       " '__lt__',\n",
       " '__module__',\n",
       " '__ne__',\n",
       " '__new__',\n",
       " '__reduce__',\n",
       " '__reduce_ex__',\n",
       " '__repr__',\n",
       " '__setattr__',\n",
       " '__sizeof__',\n",
       " '__str__',\n",
       " '__subclasshook__',\n",
       " '__weakref__']"
      ]
     },
     "execution_count": 41,
     "metadata": {},
     "output_type": "execute_result"
    }
   ],
   "source": [
    "dir(MyClass)"
   ]
  },
  {
   "cell_type": "code",
   "execution_count": 42,
   "id": "0f210356",
   "metadata": {},
   "outputs": [],
   "source": [
    "class MyClass:\n",
    "    num1 = 5"
   ]
  },
  {
   "cell_type": "code",
   "execution_count": 43,
   "id": "33df495b",
   "metadata": {},
   "outputs": [
    {
     "data": {
      "text/plain": [
       "['__class__',\n",
       " '__delattr__',\n",
       " '__dict__',\n",
       " '__dir__',\n",
       " '__doc__',\n",
       " '__eq__',\n",
       " '__format__',\n",
       " '__ge__',\n",
       " '__getattribute__',\n",
       " '__gt__',\n",
       " '__hash__',\n",
       " '__init__',\n",
       " '__init_subclass__',\n",
       " '__le__',\n",
       " '__lt__',\n",
       " '__module__',\n",
       " '__ne__',\n",
       " '__new__',\n",
       " '__reduce__',\n",
       " '__reduce_ex__',\n",
       " '__repr__',\n",
       " '__setattr__',\n",
       " '__sizeof__',\n",
       " '__str__',\n",
       " '__subclasshook__',\n",
       " '__weakref__',\n",
       " 'num1']"
      ]
     },
     "execution_count": 43,
     "metadata": {},
     "output_type": "execute_result"
    }
   ],
   "source": [
    "dir(MyClass)"
   ]
  },
  {
   "cell_type": "code",
   "execution_count": 44,
   "id": "edf92778",
   "metadata": {},
   "outputs": [
    {
     "data": {
      "text/plain": [
       "5"
      ]
     },
     "execution_count": 44,
     "metadata": {},
     "output_type": "execute_result"
    }
   ],
   "source": [
    "MyClass.num1"
   ]
  },
  {
   "cell_type": "code",
   "execution_count": 46,
   "id": "48404f49",
   "metadata": {},
   "outputs": [
    {
     "name": "stdout",
     "output_type": "stream",
     "text": [
      "<class 'type'>\n"
     ]
    }
   ],
   "source": [
    "print(type(MyClass))"
   ]
  },
  {
   "cell_type": "code",
   "execution_count": 47,
   "id": "51717c91",
   "metadata": {},
   "outputs": [
    {
     "data": {
      "text/plain": [
       "int"
      ]
     },
     "execution_count": 47,
     "metadata": {},
     "output_type": "execute_result"
    }
   ],
   "source": [
    "type(MyClass.num1)"
   ]
  },
  {
   "cell_type": "code",
   "execution_count": 59,
   "id": "8cb16d19",
   "metadata": {},
   "outputs": [],
   "source": [
    "class MyClass:\n",
    "    def example(self):\n",
    "        return 5\n",
    "\n"
   ]
  },
  {
   "cell_type": "code",
   "execution_count": 49,
   "id": "b2250245",
   "metadata": {},
   "outputs": [
    {
     "data": {
      "text/plain": [
       "['__class__',\n",
       " '__delattr__',\n",
       " '__dict__',\n",
       " '__dir__',\n",
       " '__doc__',\n",
       " '__eq__',\n",
       " '__format__',\n",
       " '__ge__',\n",
       " '__getattribute__',\n",
       " '__gt__',\n",
       " '__hash__',\n",
       " '__init__',\n",
       " '__init_subclass__',\n",
       " '__le__',\n",
       " '__lt__',\n",
       " '__module__',\n",
       " '__ne__',\n",
       " '__new__',\n",
       " '__reduce__',\n",
       " '__reduce_ex__',\n",
       " '__repr__',\n",
       " '__setattr__',\n",
       " '__sizeof__',\n",
       " '__str__',\n",
       " '__subclasshook__',\n",
       " '__weakref__',\n",
       " 'example']"
      ]
     },
     "execution_count": 49,
     "metadata": {},
     "output_type": "execute_result"
    }
   ],
   "source": [
    "dir(MyClass)"
   ]
  },
  {
   "cell_type": "code",
   "execution_count": 53,
   "id": "0891b17e",
   "metadata": {},
   "outputs": [
    {
     "ename": "TypeError",
     "evalue": "example() missing 1 required positional argument: 'self'",
     "output_type": "error",
     "traceback": [
      "\u001b[0;31m---------------------------------------------------------------------------\u001b[0m",
      "\u001b[0;31mTypeError\u001b[0m                                 Traceback (most recent call last)",
      "Input \u001b[0;32mIn [53]\u001b[0m, in \u001b[0;36m<cell line: 1>\u001b[0;34m()\u001b[0m\n\u001b[0;32m----> 1\u001b[0m \u001b[43mMyClass\u001b[49m\u001b[38;5;241;43m.\u001b[39;49m\u001b[43mexample\u001b[49m\u001b[43m(\u001b[49m\u001b[43m)\u001b[49m\n",
      "\u001b[0;31mTypeError\u001b[0m: example() missing 1 required positional argument: 'self'"
     ]
    }
   ],
   "source": [
    "MyClass.example()"
   ]
  },
  {
   "cell_type": "code",
   "execution_count": 57,
   "id": "2f52a228",
   "metadata": {},
   "outputs": [
    {
     "data": {
      "text/plain": [
       "type"
      ]
     },
     "execution_count": 57,
     "metadata": {},
     "output_type": "execute_result"
    }
   ],
   "source": [
    "# Initialize the Class\n",
    "my_class = MyClass()\n",
    "\n",
    "# Call the example method\n",
    "my_class.example()\n",
    "\n",
    "type(my_class)\n",
    "type(MyClass)"
   ]
  },
  {
   "cell_type": "code",
   "execution_count": 60,
   "id": "9ebfa634",
   "metadata": {},
   "outputs": [],
   "source": [
    "my_class1 = MyClass()\n",
    "my_class2 = MyClass()"
   ]
  },
  {
   "cell_type": "code",
   "execution_count": 61,
   "id": "67004f5f",
   "metadata": {},
   "outputs": [
    {
     "data": {
      "text/plain": [
       "5"
      ]
     },
     "execution_count": 61,
     "metadata": {},
     "output_type": "execute_result"
    }
   ],
   "source": [
    "my_class1.example()"
   ]
  },
  {
   "cell_type": "code",
   "execution_count": 62,
   "id": "a55223dc",
   "metadata": {},
   "outputs": [
    {
     "data": {
      "text/plain": [
       "5"
      ]
     },
     "execution_count": 62,
     "metadata": {},
     "output_type": "execute_result"
    }
   ],
   "source": [
    "my_class2.example()"
   ]
  },
  {
   "cell_type": "code",
   "execution_count": 66,
   "id": "9dcff575",
   "metadata": {},
   "outputs": [],
   "source": [
    "# Calling methods from within the class vs outside the class\n",
    "\n",
    "class MyClass:\n",
    "    def __init__(self, num1, *args, **kwargs):\n",
    "        self.num1 = num1\n",
    "        self.args = args\n",
    "        self.kwargs = kwargs\n",
    "    def example(self):\n",
    "        return self.num1\n",
    "\n",
    "my_class1 = MyClass(6)\n",
    "my_class2 = MyClass(600)"
   ]
  },
  {
   "cell_type": "code",
   "execution_count": 67,
   "id": "903a6a4e",
   "metadata": {},
   "outputs": [
    {
     "data": {
      "text/plain": [
       "6"
      ]
     },
     "execution_count": 67,
     "metadata": {},
     "output_type": "execute_result"
    }
   ],
   "source": [
    "my_class1.example()"
   ]
  },
  {
   "cell_type": "code",
   "execution_count": 68,
   "id": "692aa113",
   "metadata": {},
   "outputs": [
    {
     "data": {
      "text/plain": [
       "600"
      ]
     },
     "execution_count": 68,
     "metadata": {},
     "output_type": "execute_result"
    }
   ],
   "source": [
    "my_class2.example()"
   ]
  },
  {
   "cell_type": "code",
   "execution_count": 78,
   "id": "d01b610b",
   "metadata": {},
   "outputs": [],
   "source": [
    "# Calling functions from another function\n",
    "# Not recommended with Functions...but with Classes?\n",
    "\n",
    "def function(num1, *args, **kwargs):\n",
    "    return num1\n",
    "\n",
    "def function2(num):\n",
    "    return function(num)\n",
    "\n",
    "# my_func1 = function(6)\n",
    "# my_func2 = function(600)"
   ]
  },
  {
   "cell_type": "code",
   "execution_count": 70,
   "id": "b45508f0",
   "metadata": {},
   "outputs": [
    {
     "data": {
      "text/plain": [
       "6"
      ]
     },
     "execution_count": 70,
     "metadata": {},
     "output_type": "execute_result"
    }
   ],
   "source": [
    "my_func1"
   ]
  },
  {
   "cell_type": "code",
   "execution_count": 71,
   "id": "9f4de7be",
   "metadata": {},
   "outputs": [
    {
     "data": {
      "text/plain": [
       "600"
      ]
     },
     "execution_count": 71,
     "metadata": {},
     "output_type": "execute_result"
    }
   ],
   "source": [
    "my_func2"
   ]
  },
  {
   "cell_type": "code",
   "execution_count": 79,
   "id": "27e28b79",
   "metadata": {},
   "outputs": [],
   "source": [
    "my_func1 = function2(6)\n",
    "my_func2 = function2(600)"
   ]
  },
  {
   "cell_type": "code",
   "execution_count": 80,
   "id": "19115ccd",
   "metadata": {},
   "outputs": [
    {
     "data": {
      "text/plain": [
       "6"
      ]
     },
     "execution_count": 80,
     "metadata": {},
     "output_type": "execute_result"
    }
   ],
   "source": [
    "my_func1"
   ]
  },
  {
   "cell_type": "code",
   "execution_count": 81,
   "id": "11ac65eb",
   "metadata": {},
   "outputs": [
    {
     "data": {
      "text/plain": [
       "600"
      ]
     },
     "execution_count": 81,
     "metadata": {},
     "output_type": "execute_result"
    }
   ],
   "source": [
    "my_func2"
   ]
  },
  {
   "cell_type": "code",
   "execution_count": 93,
   "id": "ce5287a7",
   "metadata": {},
   "outputs": [],
   "source": [
    "# Calling methods from methods within a class is okay...\n",
    "\n",
    "class MyClass:\n",
    "    def __init__(self, num1, num2):\n",
    "        self.num1 = num1\n",
    "        self.num2 = num2\n",
    "    def my_sum(self):\n",
    "        return self.num1 + self.num2\n",
    "    def call_my_sum(self):\n",
    "        return self.my_sum()"
   ]
  },
  {
   "cell_type": "code",
   "execution_count": 94,
   "id": "f38d3ce1",
   "metadata": {},
   "outputs": [],
   "source": [
    "my_class1 = MyClass(10,20)\n",
    "my_class2 = MyClass(20,40)"
   ]
  },
  {
   "cell_type": "code",
   "execution_count": 95,
   "id": "ffe0748f",
   "metadata": {},
   "outputs": [
    {
     "data": {
      "text/plain": [
       "30"
      ]
     },
     "execution_count": 95,
     "metadata": {},
     "output_type": "execute_result"
    }
   ],
   "source": [
    "my_class1.my_sum()"
   ]
  },
  {
   "cell_type": "code",
   "execution_count": 96,
   "id": "89b96870",
   "metadata": {},
   "outputs": [
    {
     "data": {
      "text/plain": [
       "60"
      ]
     },
     "execution_count": 96,
     "metadata": {},
     "output_type": "execute_result"
    }
   ],
   "source": [
    "my_class2.my_sum()"
   ]
  },
  {
   "cell_type": "code",
   "execution_count": 98,
   "id": "bdb6ec4d",
   "metadata": {},
   "outputs": [
    {
     "data": {
      "text/plain": [
       "30"
      ]
     },
     "execution_count": 98,
     "metadata": {},
     "output_type": "execute_result"
    }
   ],
   "source": [
    "my_class1.call_my_sum()"
   ]
  },
  {
   "cell_type": "code",
   "execution_count": 99,
   "id": "aac96fa0",
   "metadata": {},
   "outputs": [
    {
     "data": {
      "text/plain": [
       "60"
      ]
     },
     "execution_count": 99,
     "metadata": {},
     "output_type": "execute_result"
    }
   ],
   "source": [
    "my_class2.call_my_sum()"
   ]
  },
  {
   "cell_type": "code",
   "execution_count": 146,
   "id": "f4c10d0c",
   "metadata": {},
   "outputs": [],
   "source": [
    "# Self \n",
    "\n",
    "# When we initialize a class, we must have the word self as the first argument\n",
    "# If the word self is not there, we will get a mismatch of arguments\n",
    "# The class automatically sends the self argument and if we don't have it the error can be really confusing\n",
    "# __init__() takes 2 positional arguments but 3 were given -> takes 2 but 3 were given?  That extra is the self.\n",
    "class MyClass:\n",
    "    def __init__(self, num1, num2):\n",
    "        self.num1 = num1\n",
    "        self.num2 = num2\n",
    "        print(dir(self))\n",
    "    def my_sum(self):\n",
    "        return self.num1 + self.num2"
   ]
  },
  {
   "cell_type": "code",
   "execution_count": 145,
   "id": "13f181a3",
   "metadata": {},
   "outputs": [
    {
     "name": "stdout",
     "output_type": "stream",
     "text": [
      "['__class__', '__delattr__', '__dict__', '__dir__', '__doc__', '__eq__', '__format__', '__ge__', '__getattribute__', '__gt__', '__hash__', '__init__', '__init_subclass__', '__le__', '__lt__', '__module__', '__ne__', '__new__', '__reduce__', '__reduce_ex__', '__repr__', '__setattr__', '__sizeof__', '__str__', '__subclasshook__', '__weakref__', 'my_sum', 'num1', 'num2']\n"
     ]
    }
   ],
   "source": [
    "my_class = MyClass(1,2)"
   ]
  },
  {
   "cell_type": "code",
   "execution_count": 124,
   "id": "34553309",
   "metadata": {},
   "outputs": [
    {
     "data": {
      "text/plain": [
       "{'num1': 'String', 'num2': 'String'}"
      ]
     },
     "execution_count": 124,
     "metadata": {},
     "output_type": "execute_result"
    }
   ],
   "source": [
    "my_class.__dict__"
   ]
  },
  {
   "cell_type": "code",
   "execution_count": 125,
   "id": "fc003502",
   "metadata": {},
   "outputs": [
    {
     "name": "stdout",
     "output_type": "stream",
     "text": [
      "<class 'str'>\n"
     ]
    }
   ],
   "source": [
    "print(type(my_class.num1))"
   ]
  },
  {
   "cell_type": "code",
   "execution_count": 126,
   "id": "5426e7f5",
   "metadata": {},
   "outputs": [
    {
     "name": "stdout",
     "output_type": "stream",
     "text": [
      "<class '__main__.MyClass'>\n"
     ]
    }
   ],
   "source": [
    "print(type(my_class))"
   ]
  },
  {
   "cell_type": "code",
   "execution_count": 140,
   "id": "5edb8808",
   "metadata": {},
   "outputs": [
    {
     "data": {
      "text/plain": [
       "3"
      ]
     },
     "execution_count": 140,
     "metadata": {},
     "output_type": "execute_result"
    }
   ],
   "source": [
    "my_class.my_sum()"
   ]
  },
  {
   "cell_type": "code",
   "execution_count": 217,
   "id": "90a700ac",
   "metadata": {},
   "outputs": [],
   "source": [
    "# Class Level Attribute vs Instance Level Attribute\n",
    "\n",
    "class MyClass:\n",
    "    class_string = 'I am a class Attrbite'\n",
    "    \n",
    "    def __init__(self, instance_string):\n",
    "        self.instance_string = instance_string\n",
    "    \n",
    "    def print_statement(self):\n",
    "        print(self.instance_string)\n",
    "        print(self.class_string)\n",
    "\n",
    "my_class1 = MyClass('I am an Instance Attribute - 1')\n",
    "my_class2 = MyClass('I am an Instance Attribute - 2')"
   ]
  },
  {
   "cell_type": "code",
   "execution_count": 218,
   "id": "c8edacf1",
   "metadata": {},
   "outputs": [
    {
     "name": "stdout",
     "output_type": "stream",
     "text": [
      "I am an Instance Attribute - 1\n",
      "I am a class Attrbite\n"
     ]
    }
   ],
   "source": [
    "my_class1.print_statement()"
   ]
  },
  {
   "cell_type": "code",
   "execution_count": 219,
   "id": "aaf0e7b6",
   "metadata": {},
   "outputs": [
    {
     "name": "stdout",
     "output_type": "stream",
     "text": [
      "I am an Instance Attribute - 2\n",
      "I am a class Attrbite\n"
     ]
    }
   ],
   "source": [
    "my_class2.print_statement()"
   ]
  },
  {
   "cell_type": "code",
   "execution_count": 220,
   "id": "a2528147",
   "metadata": {},
   "outputs": [],
   "source": [
    "# Update the Instance Attribute\n",
    "my_class1.instance_string = 'I am an Instance Attribute - 1 - Updated'"
   ]
  },
  {
   "cell_type": "code",
   "execution_count": 221,
   "id": "10f353bd",
   "metadata": {},
   "outputs": [
    {
     "name": "stdout",
     "output_type": "stream",
     "text": [
      "I am an Instance Attribute - 1 - Updated\n",
      "I am a class Attrbite\n"
     ]
    }
   ],
   "source": [
    "my_class1.print_statement()"
   ]
  },
  {
   "cell_type": "code",
   "execution_count": 222,
   "id": "3ee5ee94",
   "metadata": {},
   "outputs": [],
   "source": [
    "# Update the Class Attribute\n",
    "my_class2.class_string = 'I am a class Attrbite - Updated'"
   ]
  },
  {
   "cell_type": "code",
   "execution_count": 223,
   "id": "fe4dd155",
   "metadata": {},
   "outputs": [
    {
     "name": "stdout",
     "output_type": "stream",
     "text": [
      "I am an Instance Attribute - 1 - Updated\n",
      "I am a class Attrbite\n"
     ]
    }
   ],
   "source": [
    "my_class1.print_statement()"
   ]
  },
  {
   "cell_type": "code",
   "execution_count": 224,
   "id": "7683e79a",
   "metadata": {},
   "outputs": [
    {
     "name": "stdout",
     "output_type": "stream",
     "text": [
      "I am an Instance Attribute - 2\n",
      "I am a class Attrbite - Updated\n"
     ]
    }
   ],
   "source": [
    "my_class2.print_statement()"
   ]
  },
  {
   "cell_type": "code",
   "execution_count": 225,
   "id": "e9799661",
   "metadata": {},
   "outputs": [],
   "source": [
    "# this is a change to the entire class\n",
    "\n",
    "MyClass.class_string = 'I HAVE CHANGED!!'"
   ]
  },
  {
   "cell_type": "code",
   "execution_count": 226,
   "id": "5dd5babc",
   "metadata": {},
   "outputs": [
    {
     "name": "stdout",
     "output_type": "stream",
     "text": [
      "I am an Instance Attribute - 1 - Updated\n",
      "I HAVE CHANGED!!\n"
     ]
    }
   ],
   "source": [
    "my_class1.print_statement()"
   ]
  },
  {
   "cell_type": "code",
   "execution_count": 227,
   "id": "3745837d",
   "metadata": {},
   "outputs": [
    {
     "name": "stdout",
     "output_type": "stream",
     "text": [
      "I am an Instance Attribute - 2\n",
      "I am a class Attrbite - Updated\n"
     ]
    }
   ],
   "source": [
    "my_class2.print_statement()"
   ]
  },
  {
   "cell_type": "code",
   "execution_count": 228,
   "id": "867fc631",
   "metadata": {},
   "outputs": [
    {
     "data": {
      "text/plain": [
       "['__class__',\n",
       " '__delattr__',\n",
       " '__dict__',\n",
       " '__dir__',\n",
       " '__doc__',\n",
       " '__eq__',\n",
       " '__format__',\n",
       " '__ge__',\n",
       " '__getattribute__',\n",
       " '__gt__',\n",
       " '__hash__',\n",
       " '__init__',\n",
       " '__init_subclass__',\n",
       " '__le__',\n",
       " '__lt__',\n",
       " '__module__',\n",
       " '__ne__',\n",
       " '__new__',\n",
       " '__reduce__',\n",
       " '__reduce_ex__',\n",
       " '__repr__',\n",
       " '__setattr__',\n",
       " '__sizeof__',\n",
       " '__str__',\n",
       " '__subclasshook__',\n",
       " '__weakref__',\n",
       " 'class_string',\n",
       " 'instance_string',\n",
       " 'print_statement']"
      ]
     },
     "execution_count": 228,
     "metadata": {},
     "output_type": "execute_result"
    }
   ],
   "source": [
    "dir(my_class1)"
   ]
  },
  {
   "cell_type": "code",
   "execution_count": 229,
   "id": "797be895",
   "metadata": {},
   "outputs": [
    {
     "data": {
      "text/plain": [
       "['__class__',\n",
       " '__delattr__',\n",
       " '__dict__',\n",
       " '__dir__',\n",
       " '__doc__',\n",
       " '__eq__',\n",
       " '__format__',\n",
       " '__ge__',\n",
       " '__getattribute__',\n",
       " '__gt__',\n",
       " '__hash__',\n",
       " '__init__',\n",
       " '__init_subclass__',\n",
       " '__le__',\n",
       " '__lt__',\n",
       " '__module__',\n",
       " '__ne__',\n",
       " '__new__',\n",
       " '__reduce__',\n",
       " '__reduce_ex__',\n",
       " '__repr__',\n",
       " '__setattr__',\n",
       " '__sizeof__',\n",
       " '__str__',\n",
       " '__subclasshook__',\n",
       " '__weakref__',\n",
       " 'class_string',\n",
       " 'instance_string',\n",
       " 'print_statement']"
      ]
     },
     "execution_count": 229,
     "metadata": {},
     "output_type": "execute_result"
    }
   ],
   "source": [
    "dir(my_class2)"
   ]
  },
  {
   "cell_type": "code",
   "execution_count": 230,
   "id": "7b409c7b",
   "metadata": {},
   "outputs": [
    {
     "data": {
      "text/plain": [
       "4462920368"
      ]
     },
     "execution_count": 230,
     "metadata": {},
     "output_type": "execute_result"
    }
   ],
   "source": [
    "id(my_class1.class_string)"
   ]
  },
  {
   "cell_type": "code",
   "execution_count": 231,
   "id": "d07c29af",
   "metadata": {},
   "outputs": [
    {
     "data": {
      "text/plain": [
       "4476068928"
      ]
     },
     "execution_count": 231,
     "metadata": {},
     "output_type": "execute_result"
    }
   ],
   "source": [
    "id(my_class2.class_string)"
   ]
  },
  {
   "cell_type": "code",
   "execution_count": 232,
   "id": "7bfbe4a7",
   "metadata": {},
   "outputs": [],
   "source": [
    "del my_class2.class_string"
   ]
  },
  {
   "cell_type": "code",
   "execution_count": 233,
   "id": "fb5e4312",
   "metadata": {},
   "outputs": [
    {
     "data": {
      "text/plain": [
       "4462920368"
      ]
     },
     "execution_count": 233,
     "metadata": {},
     "output_type": "execute_result"
    }
   ],
   "source": [
    "id(my_class2.class_string)"
   ]
  },
  {
   "cell_type": "code",
   "execution_count": 234,
   "id": "98c37e98",
   "metadata": {},
   "outputs": [
    {
     "name": "stdout",
     "output_type": "stream",
     "text": [
      "I am an Instance Attribute - 2\n",
      "I HAVE CHANGED!!\n"
     ]
    }
   ],
   "source": [
    "my_class2.print_statement()"
   ]
  },
  {
   "cell_type": "code",
   "execution_count": 237,
   "id": "c5b6f716",
   "metadata": {},
   "outputs": [],
   "source": [
    "# Instance assignment will always override class attributes\n",
    "# This act from the instance of MyClass is a new Variable\n",
    "\n",
    "my_class2.class_string = 'Uh oh, am I really the same...'"
   ]
  },
  {
   "cell_type": "code",
   "execution_count": 236,
   "id": "062bd6a7",
   "metadata": {},
   "outputs": [
    {
     "name": "stdout",
     "output_type": "stream",
     "text": [
      "I am an Instance Attribute - 2\n",
      "Uh oh, am I really the same...\n"
     ]
    }
   ],
   "source": [
    "my_class2.print_statement()"
   ]
  },
  {
   "cell_type": "code",
   "execution_count": 238,
   "id": "244efe6c",
   "metadata": {},
   "outputs": [],
   "source": [
    "del my_class2.class_string"
   ]
  },
  {
   "cell_type": "code",
   "execution_count": 239,
   "id": "f84a9dcc",
   "metadata": {},
   "outputs": [
    {
     "name": "stdout",
     "output_type": "stream",
     "text": [
      "I am an Instance Attribute - 2\n",
      "I HAVE CHANGED!!\n"
     ]
    }
   ],
   "source": [
    "my_class2.print_statement()"
   ]
  },
  {
   "cell_type": "code",
   "execution_count": 240,
   "id": "c2d49da8",
   "metadata": {},
   "outputs": [
    {
     "data": {
      "text/plain": [
       "'I HAVE CHANGED!!'"
      ]
     },
     "execution_count": 240,
     "metadata": {},
     "output_type": "execute_result"
    }
   ],
   "source": [
    "my_class2.class_string"
   ]
  },
  {
   "cell_type": "code",
   "execution_count": null,
   "id": "adb928b0",
   "metadata": {},
   "outputs": [],
   "source": []
  },
  {
   "cell_type": "code",
   "execution_count": null,
   "id": "2537aeb9",
   "metadata": {},
   "outputs": [],
   "source": []
  },
  {
   "cell_type": "code",
   "execution_count": null,
   "id": "c08be633",
   "metadata": {},
   "outputs": [],
   "source": []
  },
  {
   "cell_type": "code",
   "execution_count": null,
   "id": "4865f64e",
   "metadata": {},
   "outputs": [],
   "source": []
  },
  {
   "cell_type": "code",
   "execution_count": null,
   "id": "9eaef9bd",
   "metadata": {},
   "outputs": [],
   "source": []
  },
  {
   "cell_type": "code",
   "execution_count": null,
   "id": "f001bec5",
   "metadata": {},
   "outputs": [],
   "source": []
  },
  {
   "cell_type": "code",
   "execution_count": null,
   "id": "15f21de7",
   "metadata": {},
   "outputs": [],
   "source": []
  },
  {
   "cell_type": "code",
   "execution_count": null,
   "id": "f9ace1f9",
   "metadata": {},
   "outputs": [],
   "source": []
  },
  {
   "cell_type": "code",
   "execution_count": null,
   "id": "d8d4c6b5",
   "metadata": {},
   "outputs": [],
   "source": []
  },
  {
   "cell_type": "code",
   "execution_count": null,
   "id": "b0433c8d",
   "metadata": {},
   "outputs": [],
   "source": []
  },
  {
   "cell_type": "code",
   "execution_count": null,
   "id": "bc6d3dd0",
   "metadata": {},
   "outputs": [],
   "source": []
  },
  {
   "cell_type": "code",
   "execution_count": null,
   "id": "f539f1b6",
   "metadata": {},
   "outputs": [],
   "source": []
  }
 ],
 "metadata": {
  "kernelspec": {
   "display_name": "Python 3 (ipykernel)",
   "language": "python",
   "name": "python3"
  },
  "language_info": {
   "codemirror_mode": {
    "name": "ipython",
    "version": 3
   },
   "file_extension": ".py",
   "mimetype": "text/x-python",
   "name": "python",
   "nbconvert_exporter": "python",
   "pygments_lexer": "ipython3",
   "version": "3.9.10"
  }
 },
 "nbformat": 4,
 "nbformat_minor": 5
}

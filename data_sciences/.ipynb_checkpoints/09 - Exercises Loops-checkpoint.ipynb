{
 "cells": [
  {
   "cell_type": "markdown",
   "id": "9067e03e",
   "metadata": {},
   "source": [
    "# Loops Exercises"
   ]
  },
  {
   "cell_type": "code",
   "execution_count": 24,
   "id": "ebcd8379",
   "metadata": {},
   "outputs": [],
   "source": [
    "# Print numbers -1 to -10 and -10 to -1 using a while loop and a for loop (loop for increment; loop for)\n",
    "\n",
    "\n",
    "# Type your code above this line"
   ]
  },
  {
   "cell_type": "code",
   "execution_count": 23,
   "id": "5091560b",
   "metadata": {},
   "outputs": [],
   "source": [
    "# Print numbers 1 to 10 and 10 to 1 using a while loop and a for loop (loop for increment; loop for)\n",
    "\n",
    "\n",
    "# Type your code above this line"
   ]
  },
  {
   "cell_type": "code",
   "execution_count": 2,
   "id": "bffc64dd",
   "metadata": {},
   "outputs": [],
   "source": [
    "# Print the following pattern using a while loop and a for loop\n",
    "\n",
    "# 1 \n",
    "# 1 2 \n",
    "# 1 2 3 \n",
    "# 1 2 3 4 \n",
    "# 1 2 3 4 5\n",
    "\n",
    "\n",
    "\n",
    "\n",
    "\n",
    "# Type your code above this line"
   ]
  },
  {
   "cell_type": "code",
   "execution_count": 3,
   "id": "d4a9cac1",
   "metadata": {},
   "outputs": [],
   "source": [
    "# Calculate the sum of all the numbers between 0 and 20 inclusive using both a while loop and a for loop\n",
    "\n",
    "\n",
    "\n",
    "# Type your code above this line"
   ]
  },
  {
   "cell_type": "code",
   "execution_count": 5,
   "id": "e27858cf",
   "metadata": {},
   "outputs": [],
   "source": [
    "# Mutliply only the odd numbers between 0 and 20 by 2 using both a while loop and a for loop\n",
    "# Return the results in a list called list1\n",
    "\n",
    "\n",
    "\n",
    "# Type your code above this line"
   ]
  },
  {
   "cell_type": "code",
   "execution_count": 6,
   "id": "69fe91e0",
   "metadata": {},
   "outputs": [],
   "source": [
    "# Reverse list1 using both a while loop and a for loop\n",
    "\n",
    "\n",
    "\n",
    "# Type your code above this line"
   ]
  },
  {
   "cell_type": "code",
   "execution_count": 7,
   "id": "047244d9",
   "metadata": {},
   "outputs": [],
   "source": [
    "# Print the following pattern using while loops and a for loops (can use more than 1 loop)\n",
    "\n",
    "# 1 \n",
    "# 1 2 \n",
    "# 1 2 3 \n",
    "# 1 2 3 4 \n",
    "# 1 2 3 4 5\n",
    "# 1 2 3 4\n",
    "# 1 2 3\n",
    "# 1 2 \n",
    "# 1\n",
    "\n",
    "\n",
    "\n",
    "\n",
    "# Type your code above this line"
   ]
  },
  {
   "cell_type": "code",
   "execution_count": 17,
   "id": "3cb2c4c6",
   "metadata": {},
   "outputs": [],
   "source": [
    "list_comprehension = [59, 30, 47, 49, 58, 66, 36, 99, 29, 11, 21, 3, 7, 63, 55, 67, 94, 39, 42, 18]\n",
    "\n",
    "# Using list comprehension find the following:\n",
    "# sum, average, min, max\n",
    "\n",
    "\n",
    "\n",
    "\n",
    "# Type your code above this line"
   ]
  },
  {
   "cell_type": "code",
   "execution_count": null,
   "id": "11c9c440",
   "metadata": {},
   "outputs": [],
   "source": []
  }
 ],
 "metadata": {
  "kernelspec": {
   "display_name": "Python 3 (ipykernel)",
   "language": "python",
   "name": "python3"
  },
  "language_info": {
   "codemirror_mode": {
    "name": "ipython",
    "version": 3
   },
   "file_extension": ".py",
   "mimetype": "text/x-python",
   "name": "python",
   "nbconvert_exporter": "python",
   "pygments_lexer": "ipython3",
   "version": "3.9.10"
  }
 },
 "nbformat": 4,
 "nbformat_minor": 5
}

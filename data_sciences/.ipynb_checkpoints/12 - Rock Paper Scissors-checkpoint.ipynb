{
 "cells": [
  {
   "cell_type": "markdown",
   "id": "60990d7f",
   "metadata": {},
   "source": [
    "# Rock Paper Scissors Game\n",
    "\n",
    "### Random Module\n",
    "\n",
    "###### What is it?\n",
    "Used to generate or select values at random\n",
    "\n",
    "###### Why do we need it?\n",
    "To ensure that our program works in multiple test cases and save time\n",
    "\n",
    "### How to use it\n",
    "\n",
    "Impor the entire package  \n",
    "`\n",
    "import random\n",
    "`\n",
    "\n",
    "OR\n",
    "\n",
    "Import just selected libraries  \n",
    "`\n",
    "from random import randint, choice, random\n",
    "`\n",
    "\n",
    "For Jupyter notebook it is recommended to keep all imports together in the same cell\n",
    "\n",
    "### Common Random Packages\n",
    "\n",
    "###### randint\n",
    "Generate a random number between 2 numbers inclusive\n",
    "\n",
    "`\n",
    "random.randint(0,99)\n",
    "`\n",
    "\n",
    "###### choice\n",
    "Pick a value from a list at random\n",
    "\n",
    "`\n",
    "list1 = [1,2,3,4,5]\n",
    "random.choice(list1)\n",
    "`\n",
    "\n",
    "###### random\n",
    "Pick a value between 0 and 1\n",
    "\n",
    "Think of random percentage value\n",
    "\n",
    "`\n",
    "random.random()\n",
    "`\n",
    "\n",
    "### Game Outline\n",
    "The user is playing against the computer and the computer will select a value at random\n",
    "\n",
    "User picks a value, Rock (0), Paper (1), or Scissors (2)\n",
    "\n",
    "Compare the user results with the computer results and determine a winner\n",
    "\n",
    "Start the game over again"
   ]
  },
  {
   "cell_type": "code",
   "execution_count": 102,
   "id": "e76fb35d",
   "metadata": {},
   "outputs": [],
   "source": [
    "import random"
   ]
  },
  {
   "cell_type": "code",
   "execution_count": 140,
   "id": "4b7f4820",
   "metadata": {},
   "outputs": [
    {
     "data": {
      "text/plain": [
       "4695"
      ]
     },
     "execution_count": 140,
     "metadata": {},
     "output_type": "execute_result"
    }
   ],
   "source": [
    "# Return random integer in range [a, b], including both end points\n",
    "\n",
    "random.randint(0,99)"
   ]
  },
  {
   "cell_type": "code",
   "execution_count": 162,
   "id": "823fc878",
   "metadata": {},
   "outputs": [
    {
     "data": {
      "text/plain": [
       "2"
      ]
     },
     "execution_count": 162,
     "metadata": {},
     "output_type": "execute_result"
    }
   ],
   "source": [
    "list1 = [1,2,3,4,5]\n",
    "random.choice(list1)"
   ]
  },
  {
   "cell_type": "code",
   "execution_count": 170,
   "id": "f764ea63",
   "metadata": {},
   "outputs": [
    {
     "data": {
      "text/plain": [
       "0.5253126016438066"
      ]
     },
     "execution_count": 170,
     "metadata": {},
     "output_type": "execute_result"
    }
   ],
   "source": [
    "random.random()"
   ]
  },
  {
   "cell_type": "code",
   "execution_count": 174,
   "id": "894b1a46",
   "metadata": {},
   "outputs": [],
   "source": []
  },
  {
   "cell_type": "code",
   "execution_count": 171,
   "id": "e4ce759f",
   "metadata": {},
   "outputs": [
    {
     "name": "stdout",
     "output_type": "stream",
     "text": [
      "Please Choose Rock (0), Paper (1) or Scissors (2)0\n"
     ]
    }
   ],
   "source": []
  },
  {
   "cell_type": "code",
   "execution_count": 172,
   "id": "8650a880",
   "metadata": {},
   "outputs": [
    {
     "data": {
      "text/plain": [
       "0"
      ]
     },
     "execution_count": 172,
     "metadata": {},
     "output_type": "execute_result"
    }
   ],
   "source": [
    "user_selection"
   ]
  },
  {
   "cell_type": "code",
   "execution_count": 175,
   "id": "f869650e",
   "metadata": {},
   "outputs": [],
   "source": []
  },
  {
   "cell_type": "code",
   "execution_count": 176,
   "id": "4960f96a",
   "metadata": {},
   "outputs": [
    {
     "data": {
      "text/plain": [
       "1"
      ]
     },
     "execution_count": 176,
     "metadata": {},
     "output_type": "execute_result"
    }
   ],
   "source": [
    "computer_selection"
   ]
  },
  {
   "cell_type": "code",
   "execution_count": null,
   "id": "95fdae82",
   "metadata": {},
   "outputs": [
    {
     "name": "stdout",
     "output_type": "stream",
     "text": [
      "Please Choose Rock (0), Paper (1) or Scissors (2)2\n",
      "You lose :( You: Scissors lost to the Computer Rock\n",
      "Please Choose Rock (0), Paper (1) or Scissors (2)0\n",
      "You lose :( You: Rock lost to the Computer Paper\n",
      "Please Choose Rock (0), Paper (1) or Scissors (2)1\n",
      "You lose :( You: Paper lost to the Computer Scissors\n"
     ]
    }
   ],
   "source": [
    "names = ['Rock', 'Paper', 'Scissors']\n",
    "choices = [0,1,2]\n",
    "\n",
    "while True:\n",
    "    user_selection = int(input('Please Choose Rock (0), Paper (1) or Scissors (2)'))\n",
    "    computer_selection = random.choice(choices)\n",
    "    \n",
    "    if user_selection == 0 and computer_selection == 2:\n",
    "        print(f\"You Win!  You: {names[user_selection]} beat the Computer:{names[computer_selection]}\")\n",
    "    elif user_selection == 1 and computer_selection == 0:\n",
    "        print(f\"You Win!  You:{names[user_selection]} beat the Computer:{names[computer_selection]}\")\n",
    "    elif user_selection == 2 and computer_selection == 1:\n",
    "        print(f\"You Win!  You:{names[user_selection]} beat the Computer:{names[computer_selection]}\")\n",
    "    elif user_selection == computer_selection:\n",
    "        print(f\"It's a Tie  {names[user_selection]} and {names[computer_selection]}\")    \n",
    "    else:\n",
    "        print(f\"You lose :( You: {names[user_selection]} lost to the Computer {names[computer_selection]}\")"
   ]
  },
  {
   "cell_type": "code",
   "execution_count": null,
   "id": "e20bad06",
   "metadata": {},
   "outputs": [],
   "source": []
  },
  {
   "cell_type": "code",
   "execution_count": null,
   "id": "ac1aa7da",
   "metadata": {},
   "outputs": [],
   "source": []
  },
  {
   "cell_type": "code",
   "execution_count": null,
   "id": "38bfdac2",
   "metadata": {},
   "outputs": [],
   "source": []
  },
  {
   "cell_type": "code",
   "execution_count": null,
   "id": "9981aaa4",
   "metadata": {},
   "outputs": [],
   "source": []
  },
  {
   "cell_type": "code",
   "execution_count": null,
   "id": "10bd27d2",
   "metadata": {},
   "outputs": [],
   "source": []
  },
  {
   "cell_type": "code",
   "execution_count": null,
   "id": "82a09f89",
   "metadata": {},
   "outputs": [],
   "source": []
  },
  {
   "cell_type": "code",
   "execution_count": null,
   "id": "87e557e7",
   "metadata": {},
   "outputs": [],
   "source": []
  },
  {
   "cell_type": "code",
   "execution_count": null,
   "id": "90ebfdbc",
   "metadata": {},
   "outputs": [],
   "source": []
  }
 ],
 "metadata": {
  "kernelspec": {
   "display_name": "Python 3 (ipykernel)",
   "language": "python",
   "name": "python3"
  },
  "language_info": {
   "codemirror_mode": {
    "name": "ipython",
    "version": 3
   },
   "file_extension": ".py",
   "mimetype": "text/x-python",
   "name": "python",
   "nbconvert_exporter": "python",
   "pygments_lexer": "ipython3",
   "version": "3.9.10"
  }
 },
 "nbformat": 4,
 "nbformat_minor": 5
}

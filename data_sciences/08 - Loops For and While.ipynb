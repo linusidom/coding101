{
 "cells": [
  {
   "cell_type": "markdown",
   "id": "54165057",
   "metadata": {},
   "source": [
    "# Loops\n",
    "\n",
    "Used to repeatedly execute code forever or until some break condition is met\n",
    "\n",
    "2 kinds of loops in python are While and For loops\n",
    "\n",
    "While loops aren't as common but have a very important role (understand these)\n",
    "\n",
    "For loops are very common and used all over since programming (get used to these)"
   ]
  },
  {
   "cell_type": "code",
   "execution_count": 3,
   "id": "3fd14dc2",
   "metadata": {},
   "outputs": [],
   "source": [
    "# Separator Cell"
   ]
  },
  {
   "cell_type": "markdown",
   "id": "5fd9c077",
   "metadata": {},
   "source": [
    "### While Loops\n",
    "Used to keep code running forever or until some condition is met\n",
    "\n",
    "Not very common in actual code but will come up occassionally\n",
    "\n",
    "Basic Structure:\n",
    "\n",
    "\n",
    "**NOT** RECOMMENDED\n",
    "\n",
    "`\n",
    "while True:\n",
    "    print('execute some block of code')\n",
    "`\n",
    "\n",
    "**RECOMMENDED**\n",
    "\n",
    "`\n",
    "count = 0\n",
    "while count < 5:\n",
    "     print('execute some code')\n",
    "     count += 1 # This line is very important to break out of the while loop\n",
    "`\n",
    "\n",
    "##### Caution\n",
    "\n",
    "Can run forever which is good for games but bad for iterating through a list\n",
    "\n",
    "Strongly, highly recommended to have a break condition to stop running\n",
    "\n",
    "Hit the stop button above to stop the cell from running\n"
   ]
  },
  {
   "cell_type": "code",
   "execution_count": 2,
   "id": "65dc7eb6",
   "metadata": {},
   "outputs": [],
   "source": [
    "# DO NOT DO THIS!!\n",
    "# while True:\n",
    "#     print('This is not good coding')"
   ]
  },
  {
   "cell_type": "code",
   "execution_count": 6,
   "id": "06f83389",
   "metadata": {},
   "outputs": [
    {
     "name": "stdout",
     "output_type": "stream",
     "text": [
      "5\n",
      "4\n",
      "3\n",
      "2\n",
      "1\n"
     ]
    }
   ],
   "source": [
    "# The proper way to run a while loop\n",
    "\n",
    "count = 5 # start function\n",
    "while count > 0: # This is my break condition (stop)\n",
    "    print(count)\n",
    "    count -= 1 # Step function \n",
    "\n",
    "# while loops and function recursion share similar logic or strategy\n",
    "# Both need break conditions\n"
   ]
  },
  {
   "cell_type": "code",
   "execution_count": null,
   "id": "8352a02a",
   "metadata": {},
   "outputs": [],
   "source": []
  },
  {
   "cell_type": "code",
   "execution_count": null,
   "id": "a4278ab0",
   "metadata": {},
   "outputs": [],
   "source": []
  },
  {
   "cell_type": "code",
   "execution_count": null,
   "id": "84ad5aca",
   "metadata": {},
   "outputs": [],
   "source": []
  },
  {
   "cell_type": "code",
   "execution_count": null,
   "id": "c9513471",
   "metadata": {},
   "outputs": [],
   "source": []
  },
  {
   "cell_type": "code",
   "execution_count": null,
   "id": "dccd0bf9",
   "metadata": {},
   "outputs": [],
   "source": []
  },
  {
   "cell_type": "markdown",
   "id": "9f00ba55",
   "metadata": {},
   "source": [
    "### For Loops\n",
    "Used to loop a finite number of times\n",
    "\n",
    "Very common and has mutliple variations\n",
    "\n",
    "Basic Structure:\n",
    "\n",
    "`\n",
    "for X in Y:\n",
    "     print(X)\n",
    "`\n",
    "\n",
    "X is a temporary variable that is used within the for loop  \n",
    "Y is a list or an iterable object\n",
    "\n",
    "Examples of iterable objects:\n",
    "Lists, Tuples, Dictionaries, Range\n",
    "\n",
    "###### Range\n",
    "Range is used to define a starting point, stopping point and step value\n",
    "\n",
    "Example (common)\n",
    "\n",
    "`\n",
    "for x in range(5):\n",
    "     print(x)\n",
    "`\n",
    "\n",
    "###### Advanced use case\n",
    "\n",
    "List Comprehension\n",
    "\n",
    "`\n",
    "[print(x) for x in y]\n",
    "[print(x) for x in range(5)]\n",
    "`"
   ]
  },
  {
   "cell_type": "code",
   "execution_count": 7,
   "id": "fdb45fc9",
   "metadata": {},
   "outputs": [
    {
     "name": "stdout",
     "output_type": "stream",
     "text": [
      "True\n"
     ]
    }
   ],
   "source": [
    "string1 = 'This is a string'\n",
    "if 'This' in string1:\n",
    "    print('True')"
   ]
  },
  {
   "cell_type": "code",
   "execution_count": 12,
   "id": "88b2574b",
   "metadata": {},
   "outputs": [
    {
     "name": "stdout",
     "output_type": "stream",
     "text": [
      "This\n",
      "is\n",
      "a\n",
      "string\n"
     ]
    }
   ],
   "source": [
    "for x in string1.split():\n",
    "    print(x)"
   ]
  },
  {
   "cell_type": "code",
   "execution_count": 38,
   "id": "7b881534",
   "metadata": {},
   "outputs": [
    {
     "name": "stdout",
     "output_type": "stream",
     "text": [
      "This\n",
      "is\n",
      "a\n",
      "string\n"
     ]
    }
   ],
   "source": [
    "# Range is used when we want to specify how many times\n",
    "# More control over the duration of the loop\n",
    "\n",
    "for i in range(0, len(string1.split()), 1):\n",
    "    print(string1.split()[i])\n",
    "\n",
    "\n"
   ]
  },
  {
   "cell_type": "code",
   "execution_count": 22,
   "id": "92135d94",
   "metadata": {},
   "outputs": [
    {
     "name": "stdout",
     "output_type": "stream",
     "text": [
      "This\n",
      "is\n",
      "a\n",
      "string\n",
      "This\n",
      "is\n",
      "a\n",
      "string\n"
     ]
    }
   ],
   "source": [
    "list1 = string1.split()\n",
    "\n",
    "for x in range(len(list1)):\n",
    "    print(list1[x])\n",
    "\n",
    "\n",
    "for x in list1:\n",
    "    print(x)\n"
   ]
  },
  {
   "cell_type": "code",
   "execution_count": 26,
   "id": "63518908",
   "metadata": {},
   "outputs": [
    {
     "name": "stdout",
     "output_type": "stream",
     "text": [
      "For loop iteration\n",
      "2\n",
      "4\n",
      "6\n",
      "8\n",
      "10\n",
      "\n",
      "For loop with range\n",
      "2\n",
      "4\n",
      "6\n",
      "8\n",
      "10\n"
     ]
    }
   ],
   "source": [
    "#  Can we do conditional in the list\n",
    "\n",
    "list1 = [1,2,3,4,5,6,7,8,9,10]\n",
    "\n",
    "print('For loop iteration')\n",
    "for x in list1:\n",
    "    if x % 2 == 0:\n",
    "        print(x)\n",
    "\n",
    "\n",
    "print('\\nFor loop with range')\n",
    "for x in range(1,11):\n",
    "    if x % 2 == 0:\n",
    "        print(x)"
   ]
  },
  {
   "cell_type": "code",
   "execution_count": 34,
   "id": "e99361de",
   "metadata": {},
   "outputs": [],
   "source": [
    "# Here is a shortcut, but beware it look really weird...\n",
    "\n",
    "# List Comprehension\n",
    "\n",
    "\n",
    "list1 = [ x for x in range(1,11) if x % 2 == 0]\n",
    "\n",
    "# Single Lines of code take up less time and memory to run\n",
    "# Mutliple lines of code take up more time and memory\n",
    "\n",
    "# Memory is the most important and least available resource\n",
    "\n",
    "\n"
   ]
  },
  {
   "cell_type": "code",
   "execution_count": 35,
   "id": "de3be20e",
   "metadata": {},
   "outputs": [
    {
     "data": {
      "text/plain": [
       "[2, 4, 6, 8, 10]"
      ]
     },
     "execution_count": 35,
     "metadata": {},
     "output_type": "execute_result"
    }
   ],
   "source": [
    "list1"
   ]
  },
  {
   "cell_type": "code",
   "execution_count": null,
   "id": "3cb4f3ca",
   "metadata": {},
   "outputs": [],
   "source": []
  },
  {
   "cell_type": "code",
   "execution_count": null,
   "id": "0287025f",
   "metadata": {},
   "outputs": [],
   "source": []
  },
  {
   "cell_type": "code",
   "execution_count": null,
   "id": "3d4bbc97",
   "metadata": {},
   "outputs": [],
   "source": []
  },
  {
   "cell_type": "code",
   "execution_count": null,
   "id": "80124c50",
   "metadata": {},
   "outputs": [],
   "source": []
  },
  {
   "cell_type": "code",
   "execution_count": null,
   "id": "86339407",
   "metadata": {},
   "outputs": [],
   "source": []
  },
  {
   "cell_type": "code",
   "execution_count": null,
   "id": "ce75f6e1",
   "metadata": {},
   "outputs": [],
   "source": []
  },
  {
   "cell_type": "code",
   "execution_count": null,
   "id": "74b02828",
   "metadata": {},
   "outputs": [],
   "source": []
  },
  {
   "cell_type": "code",
   "execution_count": null,
   "id": "afb7ed94",
   "metadata": {},
   "outputs": [],
   "source": []
  },
  {
   "cell_type": "code",
   "execution_count": null,
   "id": "9d1a911e",
   "metadata": {},
   "outputs": [],
   "source": []
  }
 ],
 "metadata": {
  "kernelspec": {
   "display_name": "Python 3 (ipykernel)",
   "language": "python",
   "name": "python3"
  },
  "language_info": {
   "codemirror_mode": {
    "name": "ipython",
    "version": 3
   },
   "file_extension": ".py",
   "mimetype": "text/x-python",
   "name": "python",
   "nbconvert_exporter": "python",
   "pygments_lexer": "ipython3",
   "version": "3.9.10"
  }
 },
 "nbformat": 4,
 "nbformat_minor": 5
}

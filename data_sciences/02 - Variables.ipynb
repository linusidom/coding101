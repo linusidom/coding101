{
 "cells": [
  {
   "cell_type": "markdown",
   "id": "12238e16",
   "metadata": {},
   "source": [
    "# Agenda\n",
    "\n",
    "### Variables\n",
    "\n",
    "A Variable is storage container for data\n",
    "\n",
    "Variables are either Mutable or Immutable<br>(changeable or not changeable)\n",
    "\n",
    "Strings and Integers are **Immutable** (not changeable)\n",
    "\n",
    "**Do not have to declare variable type**<br>Python knows automatically<br>This can be both good or bad...it's nice in the beginning<br>but can be problematic with complex Data Types\n",
    "\n",
    "###### Conventions and Rules for Variables\n",
    "\n",
    "Python uses **snake_case for variable names** and **PascalCase for Classes**\n",
    "\n",
    "Cannot use numbers at the beginning of variables\n",
    "\n",
    "Cannot use selected words (**Python Reserved Words**)\n",
    "\n",
    "\n",
    "###### Strings\n",
    "Signified with Single or Double Quotes\n",
    "\n",
    "Has many methods that can be used to modify the string\n",
    "\n",
    "Can be Indexed\n",
    "\n",
    "Cannot be altered, must be re-assigned (Immutable)\n",
    "\n",
    "###### Integers\n",
    "Numbers only, no decimal points\n",
    "\n",
    "Cannot be altered, must be re-assigned (Immutable)\n",
    "\n",
    "###### Integer Math\n",
    "PEMDAS\n",
    "\n",
    "Parentheses\n",
    "Exponents\n",
    "Multiplication\n",
    "Division\n",
    "Addition\n",
    "Subtraction\n",
    "\n",
    "###### Total Bill w/ Tip Example\n",
    "Example of Order of Operations and how Parentheses can make a difference\n",
    "\n",
    "Example of Number equality\n",
    "\n",
    "\n",
    "###### Booleans\n",
    "True or False\n",
    "\n",
    "\n",
    "###### What's the Data Type?\n",
    "We can check the types of every variable\n",
    "\n",
    "###### Different Styles of Print Concatenation\n",
    "`\n",
    "print(variable, variable) # Most common\n",
    "print(f'{variable} {variable}') # Most common for user output\n",
    "print('This is a ' + variable) # commonly seen in troubleshooting\n",
    "print(variable + variable) # will concatenate the two variables (not common)\n",
    "`"
   ]
  },
  {
   "cell_type": "code",
   "execution_count": 10,
   "id": "a5624325",
   "metadata": {},
   "outputs": [],
   "source": [
    "variable = 'This is a variable' #if I change the cell contents in any way, I have to rerun the cell"
   ]
  },
  {
   "cell_type": "code",
   "execution_count": 9,
   "id": "8b7b2e3d",
   "metadata": {},
   "outputs": [
    {
     "name": "stdout",
     "output_type": "stream",
     "text": [
      "This is a variable\n"
     ]
    }
   ],
   "source": [
    "print(variable)"
   ]
  },
  {
   "cell_type": "code",
   "execution_count": 12,
   "id": "ae89ec4a",
   "metadata": {},
   "outputs": [
    {
     "ename": "SyntaxError",
     "evalue": "cannot assign to False (598550143.py, line 1)",
     "output_type": "error",
     "traceback": [
      "\u001b[0;36m  Input \u001b[0;32mIn [12]\u001b[0;36m\u001b[0m\n\u001b[0;31m    False = 'Variable Name cannot be False' # Reserved word error\u001b[0m\n\u001b[0m    ^\u001b[0m\n\u001b[0;31mSyntaxError\u001b[0m\u001b[0;31m:\u001b[0m cannot assign to False\n"
     ]
    }
   ],
   "source": [
    "False = 'Variable Name cannot be False' # Reserved word error"
   ]
  },
  {
   "cell_type": "code",
   "execution_count": 47,
   "id": "388080bc",
   "metadata": {},
   "outputs": [],
   "source": [
    "var2 = \"This is automatically a string variable, I'm a string\""
   ]
  },
  {
   "cell_type": "code",
   "execution_count": 18,
   "id": "b36fba64",
   "metadata": {},
   "outputs": [
    {
     "name": "stdout",
     "output_type": "stream",
     "text": [
      "THIS IS AUTOMATICALLY A STRING VARIABLE, I'M A STRING\n"
     ]
    }
   ],
   "source": [
    "print(var2.upper())"
   ]
  },
  {
   "cell_type": "code",
   "execution_count": 20,
   "id": "dfae8085",
   "metadata": {},
   "outputs": [
    {
     "data": {
      "text/plain": [
       "\"This Is Automatically A String Variable, I'M A String\""
      ]
     },
     "execution_count": 20,
     "metadata": {},
     "output_type": "execute_result"
    }
   ],
   "source": [
    "var2.title()"
   ]
  },
  {
   "cell_type": "code",
   "execution_count": 23,
   "id": "4763bd7b",
   "metadata": {},
   "outputs": [],
   "source": [
    "split_var = var2.split('a')"
   ]
  },
  {
   "cell_type": "code",
   "execution_count": 25,
   "id": "e5d9b357",
   "metadata": {},
   "outputs": [
    {
     "data": {
      "text/plain": [
       "\"This is automatically a string variable, I'm a string\""
      ]
     },
     "execution_count": 25,
     "metadata": {},
     "output_type": "execute_result"
    }
   ],
   "source": [
    "'a'.join(split_var)"
   ]
  },
  {
   "cell_type": "code",
   "execution_count": 26,
   "id": "ced46c7b",
   "metadata": {},
   "outputs": [
    {
     "data": {
      "text/plain": [
       "\"This is automatically a string variable, I'm a string\""
      ]
     },
     "execution_count": 26,
     "metadata": {},
     "output_type": "execute_result"
    }
   ],
   "source": [
    "var2"
   ]
  },
  {
   "cell_type": "code",
   "execution_count": 41,
   "id": "9a41b4ca",
   "metadata": {},
   "outputs": [
    {
     "data": {
      "text/plain": [
       "\"This is automatically a string variable, I'm a string\""
      ]
     },
     "execution_count": 41,
     "metadata": {},
     "output_type": "execute_result"
    }
   ],
   "source": [
    "# var2[start (inclusive):stop (will not include, stops 1 before):step (default = 1)]\n",
    "# All counting in coding (any language) starts at 0\n",
    "var2[:]"
   ]
  },
  {
   "cell_type": "code",
   "execution_count": 48,
   "id": "840154ef",
   "metadata": {},
   "outputs": [
    {
     "ename": "TypeError",
     "evalue": "'str' object does not support item assignment",
     "output_type": "error",
     "traceback": [
      "\u001b[0;31m---------------------------------------------------------------------------\u001b[0m",
      "\u001b[0;31mTypeError\u001b[0m                                 Traceback (most recent call last)",
      "Input \u001b[0;32mIn [48]\u001b[0m, in \u001b[0;36m<cell line: 1>\u001b[0;34m()\u001b[0m\n\u001b[0;32m----> 1\u001b[0m var2[\u001b[38;5;241m5\u001b[39m] \u001b[38;5;241m=\u001b[39m \u001b[38;5;124m'\u001b[39m\u001b[38;5;124mI want to change the i to this sentence\u001b[39m\u001b[38;5;124m'\u001b[39m\n",
      "\u001b[0;31mTypeError\u001b[0m: 'str' object does not support item assignment"
     ]
    }
   ],
   "source": [
    "var2[5] = 'I want to change the i to this sentence'"
   ]
  },
  {
   "cell_type": "code",
   "execution_count": 49,
   "id": "6e4ced33",
   "metadata": {},
   "outputs": [],
   "source": [
    "integer = 500"
   ]
  },
  {
   "cell_type": "code",
   "execution_count": 51,
   "id": "b23164a7",
   "metadata": {},
   "outputs": [
    {
     "name": "stdout",
     "output_type": "stream",
     "text": [
      "500\n"
     ]
    }
   ],
   "source": [
    "print(integer)"
   ]
  },
  {
   "cell_type": "code",
   "execution_count": 52,
   "id": "ff4449ee",
   "metadata": {},
   "outputs": [
    {
     "name": "stdout",
     "output_type": "stream",
     "text": [
      "1000\n"
     ]
    }
   ],
   "source": [
    "print(integer + integer)"
   ]
  },
  {
   "cell_type": "code",
   "execution_count": 53,
   "id": "b238dd62",
   "metadata": {},
   "outputs": [
    {
     "name": "stdout",
     "output_type": "stream",
     "text": [
      "500 500\n"
     ]
    }
   ],
   "source": [
    "print(integer, integer)"
   ]
  },
  {
   "cell_type": "code",
   "execution_count": 55,
   "id": "016f6133",
   "metadata": {},
   "outputs": [
    {
     "name": "stdout",
     "output_type": "stream",
     "text": [
      "This is an integer with value:  500\n"
     ]
    }
   ],
   "source": [
    "print('This is an integer with value: ', integer)"
   ]
  },
  {
   "cell_type": "code",
   "execution_count": 56,
   "id": "cb24d8c7",
   "metadata": {},
   "outputs": [
    {
     "name": "stdout",
     "output_type": "stream",
     "text": [
      "This is automatically a string variable, I'm a string 500\n"
     ]
    }
   ],
   "source": [
    "print(var2, integer)"
   ]
  },
  {
   "cell_type": "code",
   "execution_count": 57,
   "id": "0d20315e",
   "metadata": {},
   "outputs": [
    {
     "name": "stdout",
     "output_type": "stream",
     "text": [
      "500\n"
     ]
    }
   ],
   "source": [
    "print(f'{integer}')"
   ]
  },
  {
   "cell_type": "code",
   "execution_count": 58,
   "id": "62bd4eff",
   "metadata": {},
   "outputs": [
    {
     "name": "stdout",
     "output_type": "stream",
     "text": [
      "500 with a string: This is automatically a string variable, I'm a string\n"
     ]
    }
   ],
   "source": [
    "print(f'{integer} with a string: {var2}') # most common and the easiest to implement"
   ]
  },
  {
   "cell_type": "code",
   "execution_count": 60,
   "id": "abef4005",
   "metadata": {},
   "outputs": [
    {
     "name": "stdout",
     "output_type": "stream",
     "text": [
      "This is not too common500 This is automatically a string variable, I'm a stringThat was a lot of plusses\n"
     ]
    }
   ],
   "source": [
    "print('This is not too common' + str(integer) + ' ' + var2 + 'That was a lot of plusses')"
   ]
  },
  {
   "cell_type": "code",
   "execution_count": 68,
   "id": "cbfb0a54",
   "metadata": {},
   "outputs": [
    {
     "data": {
      "text/plain": [
       "1170.0"
      ]
     },
     "execution_count": 68,
     "metadata": {},
     "output_type": "execute_result"
    }
   ],
   "source": [
    "# PEMDAS - Python Math order of Operations\n",
    "\n",
    "# Parentheses\n",
    "# Exponents\n",
    "# Multiplication\n",
    "# Division\n",
    "# Addition\n",
    "# Subtraction\n",
    "\n",
    "total_bill = 1000\n",
    "taxes = 17\n",
    "\n",
    "after_tax = total_bill * (17 / 100 + 1)\n",
    "after_tax\n"
   ]
  },
  {
   "cell_type": "code",
   "execution_count": 70,
   "id": "a82bf161",
   "metadata": {},
   "outputs": [
    {
     "name": "stdout",
     "output_type": "stream",
     "text": [
      "True\n"
     ]
    }
   ],
   "source": [
    "# Booleans\n",
    "\n",
    "# True or False\n",
    "\n",
    "print(var2 != integer)"
   ]
  },
  {
   "cell_type": "code",
   "execution_count": 71,
   "id": "629bfdf8",
   "metadata": {},
   "outputs": [
    {
     "ename": "TypeError",
     "evalue": "can only concatenate str (not \"int\") to str",
     "output_type": "error",
     "traceback": [
      "\u001b[0;31m---------------------------------------------------------------------------\u001b[0m",
      "\u001b[0;31mTypeError\u001b[0m                                 Traceback (most recent call last)",
      "Input \u001b[0;32mIn [71]\u001b[0m, in \u001b[0;36m<cell line: 4>\u001b[0;34m()\u001b[0m\n\u001b[1;32m      1\u001b[0m \u001b[38;5;66;03m# Python knows automatically what data type a variable is...\u001b[39;00m\n\u001b[1;32m      2\u001b[0m \u001b[38;5;66;03m# That can be a problem especially with lots of data types and packages\u001b[39;00m\n\u001b[0;32m----> 4\u001b[0m \u001b[38;5;28mprint\u001b[39m(\u001b[43mvar2\u001b[49m\u001b[43m \u001b[49m\u001b[38;5;241;43m+\u001b[39;49m\u001b[43m \u001b[49m\u001b[43minteger\u001b[49m)\n",
      "\u001b[0;31mTypeError\u001b[0m: can only concatenate str (not \"int\") to str"
     ]
    }
   ],
   "source": [
    "# Python knows automatically what data type a variable is...\n",
    "# That can be a problem especially with lots of data types and packages\n",
    "\n",
    "print(var2 + integer)"
   ]
  },
  {
   "cell_type": "code",
   "execution_count": 74,
   "id": "78c1cd02",
   "metadata": {},
   "outputs": [
    {
     "data": {
      "text/plain": [
       "int"
      ]
     },
     "execution_count": 74,
     "metadata": {},
     "output_type": "execute_result"
    }
   ],
   "source": [
    "type(integer)"
   ]
  },
  {
   "cell_type": "code",
   "execution_count": 73,
   "id": "a8867506",
   "metadata": {},
   "outputs": [
    {
     "data": {
      "text/plain": [
       "str"
      ]
     },
     "execution_count": 73,
     "metadata": {},
     "output_type": "execute_result"
    }
   ],
   "source": [
    "type(var2)"
   ]
  },
  {
   "cell_type": "code",
   "execution_count": 75,
   "id": "50decee4",
   "metadata": {},
   "outputs": [
    {
     "data": {
      "text/plain": [
       "float"
      ]
     },
     "execution_count": 75,
     "metadata": {},
     "output_type": "execute_result"
    }
   ],
   "source": [
    "type(5.0)"
   ]
  },
  {
   "cell_type": "code",
   "execution_count": 76,
   "id": "1035c69d",
   "metadata": {},
   "outputs": [
    {
     "data": {
      "text/plain": [
       "bool"
      ]
     },
     "execution_count": 76,
     "metadata": {},
     "output_type": "execute_result"
    }
   ],
   "source": [
    "type(True)"
   ]
  },
  {
   "cell_type": "code",
   "execution_count": 77,
   "id": "51996414",
   "metadata": {},
   "outputs": [
    {
     "data": {
      "text/plain": [
       "list"
      ]
     },
     "execution_count": 77,
     "metadata": {},
     "output_type": "execute_result"
    }
   ],
   "source": [
    "type(var2.split())"
   ]
  },
  {
   "cell_type": "code",
   "execution_count": 78,
   "id": "3b2f6270",
   "metadata": {},
   "outputs": [
    {
     "data": {
      "text/plain": [
       "int"
      ]
     },
     "execution_count": 78,
     "metadata": {},
     "output_type": "execute_result"
    }
   ],
   "source": [
    "type(5 + 5)"
   ]
  },
  {
   "cell_type": "code",
   "execution_count": 79,
   "id": "e2f4b044",
   "metadata": {},
   "outputs": [
    {
     "data": {
      "text/plain": [
       "float"
      ]
     },
     "execution_count": 79,
     "metadata": {},
     "output_type": "execute_result"
    }
   ],
   "source": [
    "type(5.0 + 5)"
   ]
  },
  {
   "cell_type": "code",
   "execution_count": 80,
   "id": "f29b0071",
   "metadata": {},
   "outputs": [
    {
     "data": {
      "text/plain": [
       "float"
      ]
     },
     "execution_count": 80,
     "metadata": {},
     "output_type": "execute_result"
    }
   ],
   "source": [
    "type(5 / 5)"
   ]
  },
  {
   "cell_type": "code",
   "execution_count": 81,
   "id": "c41fee53",
   "metadata": {},
   "outputs": [
    {
     "data": {
      "text/plain": [
       "int"
      ]
     },
     "execution_count": 81,
     "metadata": {},
     "output_type": "execute_result"
    }
   ],
   "source": [
    "type(5%5)"
   ]
  },
  {
   "cell_type": "code",
   "execution_count": 82,
   "id": "86928f92",
   "metadata": {},
   "outputs": [
    {
     "data": {
      "text/plain": [
       "0"
      ]
     },
     "execution_count": 82,
     "metadata": {},
     "output_type": "execute_result"
    }
   ],
   "source": [
    "# Module Operator - used to find the remainder\n",
    "\n",
    "5%5"
   ]
  },
  {
   "cell_type": "code",
   "execution_count": 85,
   "id": "7e902d1f",
   "metadata": {},
   "outputs": [
    {
     "data": {
      "text/plain": [
       "1.0"
      ]
     },
     "execution_count": 85,
     "metadata": {},
     "output_type": "execute_result"
    }
   ],
   "source": [
    "# Floor division\n",
    "# cuts off any remainder\n",
    "\n",
    "5.5 // 5"
   ]
  },
  {
   "cell_type": "code",
   "execution_count": 86,
   "id": "91d8ba1d",
   "metadata": {},
   "outputs": [
    {
     "data": {
      "text/plain": [
       "str"
      ]
     },
     "execution_count": 86,
     "metadata": {},
     "output_type": "execute_result"
    }
   ],
   "source": [
    "# Convert data Types\n",
    "# String to integer or Integer to string or integer to floats\n",
    "\n",
    "var3 = '5'\n",
    "type(var3)"
   ]
  },
  {
   "cell_type": "code",
   "execution_count": 87,
   "id": "31503748",
   "metadata": {},
   "outputs": [
    {
     "data": {
      "text/plain": [
       "5"
      ]
     },
     "execution_count": 87,
     "metadata": {},
     "output_type": "execute_result"
    }
   ],
   "source": [
    "int(var3)"
   ]
  },
  {
   "cell_type": "code",
   "execution_count": 88,
   "id": "d6e680af",
   "metadata": {},
   "outputs": [
    {
     "data": {
      "text/plain": [
       "int"
      ]
     },
     "execution_count": 88,
     "metadata": {},
     "output_type": "execute_result"
    }
   ],
   "source": [
    "type(int(var3))"
   ]
  },
  {
   "cell_type": "code",
   "execution_count": 89,
   "id": "2d2241ec",
   "metadata": {},
   "outputs": [
    {
     "data": {
      "text/plain": [
       "str"
      ]
     },
     "execution_count": 89,
     "metadata": {},
     "output_type": "execute_result"
    }
   ],
   "source": [
    "type(var3)"
   ]
  },
  {
   "cell_type": "code",
   "execution_count": 90,
   "id": "4c2d1d87",
   "metadata": {},
   "outputs": [],
   "source": [
    "number = 5"
   ]
  },
  {
   "cell_type": "code",
   "execution_count": 91,
   "id": "5ca6ced5",
   "metadata": {},
   "outputs": [
    {
     "data": {
      "text/plain": [
       "'5'"
      ]
     },
     "execution_count": 91,
     "metadata": {},
     "output_type": "execute_result"
    }
   ],
   "source": [
    "str(number)"
   ]
  },
  {
   "cell_type": "code",
   "execution_count": 92,
   "id": "426f704a",
   "metadata": {},
   "outputs": [
    {
     "data": {
      "text/plain": [
       "str"
      ]
     },
     "execution_count": 92,
     "metadata": {},
     "output_type": "execute_result"
    }
   ],
   "source": [
    "type(str(number))"
   ]
  },
  {
   "cell_type": "code",
   "execution_count": 93,
   "id": "7e0d600f",
   "metadata": {},
   "outputs": [
    {
     "data": {
      "text/plain": [
       "int"
      ]
     },
     "execution_count": 93,
     "metadata": {},
     "output_type": "execute_result"
    }
   ],
   "source": [
    "type(number)"
   ]
  },
  {
   "cell_type": "code",
   "execution_count": 94,
   "id": "59ec9cc9",
   "metadata": {},
   "outputs": [
    {
     "data": {
      "text/plain": [
       "5.0"
      ]
     },
     "execution_count": 94,
     "metadata": {},
     "output_type": "execute_result"
    }
   ],
   "source": [
    "float(number)"
   ]
  },
  {
   "cell_type": "code",
   "execution_count": 95,
   "id": "49deab95",
   "metadata": {},
   "outputs": [
    {
     "data": {
      "text/plain": [
       "float"
      ]
     },
     "execution_count": 95,
     "metadata": {},
     "output_type": "execute_result"
    }
   ],
   "source": [
    "type(float(number))"
   ]
  },
  {
   "cell_type": "code",
   "execution_count": 96,
   "id": "f1928cfa",
   "metadata": {},
   "outputs": [
    {
     "data": {
      "text/plain": [
       "\"This is automatically a string variable, I'm a string\""
      ]
     },
     "execution_count": 96,
     "metadata": {},
     "output_type": "execute_result"
    }
   ],
   "source": [
    "# Can we do math on Strings???\n",
    "\n",
    "# Kind of\n",
    "\n",
    "# Only Mutliplication\n",
    "\n",
    "var2"
   ]
  },
  {
   "cell_type": "code",
   "execution_count": 98,
   "id": "8a4c5f56",
   "metadata": {},
   "outputs": [
    {
     "data": {
      "text/plain": [
       "\"This is automatically a string variable, I'm a stringThis is automatically a string variable, I'm a stringThis is automatically a string variable, I'm a stringThis is automatically a string variable, I'm a stringThis is automatically a string variable, I'm a stringThis is automatically a string variable, I'm a stringThis is automatically a string variable, I'm a stringThis is automatically a string variable, I'm a stringThis is automatically a string variable, I'm a stringThis is automatically a string variable, I'm a string\""
      ]
     },
     "execution_count": 98,
     "metadata": {},
     "output_type": "execute_result"
    }
   ],
   "source": [
    "var2 * 10"
   ]
  },
  {
   "cell_type": "code",
   "execution_count": 102,
   "id": "4763a046",
   "metadata": {},
   "outputs": [
    {
     "ename": "TypeError",
     "evalue": "unsupported operand type(s) for ** or pow(): 'str' and 'int'",
     "output_type": "error",
     "traceback": [
      "\u001b[0;31m---------------------------------------------------------------------------\u001b[0m",
      "\u001b[0;31mTypeError\u001b[0m                                 Traceback (most recent call last)",
      "Input \u001b[0;32mIn [102]\u001b[0m, in \u001b[0;36m<cell line: 1>\u001b[0;34m()\u001b[0m\n\u001b[0;32m----> 1\u001b[0m \u001b[43mvar2\u001b[49m\u001b[43m \u001b[49m\u001b[38;5;241;43m*\u001b[39;49m\u001b[38;5;241;43m*\u001b[39;49m\u001b[43m \u001b[49m\u001b[38;5;241;43m10\u001b[39;49m\n",
      "\u001b[0;31mTypeError\u001b[0m: unsupported operand type(s) for ** or pow(): 'str' and 'int'"
     ]
    }
   ],
   "source": [
    "var2 ** 10"
   ]
  },
  {
   "cell_type": "code",
   "execution_count": 103,
   "id": "1270d00b",
   "metadata": {},
   "outputs": [
    {
     "name": "stdout",
     "output_type": "stream",
     "text": [
      "Nope, they are not equal\n"
     ]
    }
   ],
   "source": [
    "# Conditionals for next time :)\n",
    "\n",
    "if var2 == integer:\n",
    "    print('Yes they are equal')\n",
    "else:\n",
    "    print('Nope, they are not equal')"
   ]
  },
  {
   "cell_type": "code",
   "execution_count": null,
   "id": "6cf290f9",
   "metadata": {},
   "outputs": [],
   "source": []
  },
  {
   "cell_type": "code",
   "execution_count": null,
   "id": "6e1cf6e6",
   "metadata": {},
   "outputs": [],
   "source": []
  },
  {
   "cell_type": "code",
   "execution_count": null,
   "id": "5a9826b9",
   "metadata": {},
   "outputs": [],
   "source": []
  },
  {
   "cell_type": "code",
   "execution_count": null,
   "id": "36e150bf",
   "metadata": {},
   "outputs": [],
   "source": []
  },
  {
   "cell_type": "code",
   "execution_count": null,
   "id": "bdcf3865",
   "metadata": {},
   "outputs": [],
   "source": []
  },
  {
   "cell_type": "code",
   "execution_count": null,
   "id": "26712650",
   "metadata": {},
   "outputs": [],
   "source": []
  },
  {
   "cell_type": "code",
   "execution_count": null,
   "id": "55fd1225",
   "metadata": {},
   "outputs": [],
   "source": []
  }
 ],
 "metadata": {
  "kernelspec": {
   "display_name": "Python 3 (ipykernel)",
   "language": "python",
   "name": "python3"
  },
  "language_info": {
   "codemirror_mode": {
    "name": "ipython",
    "version": 3
   },
   "file_extension": ".py",
   "mimetype": "text/x-python",
   "name": "python",
   "nbconvert_exporter": "python",
   "pygments_lexer": "ipython3",
   "version": "3.9.10"
  }
 },
 "nbformat": 4,
 "nbformat_minor": 5
}

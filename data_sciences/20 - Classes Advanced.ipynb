{
 "cells": [
  {
   "cell_type": "markdown",
   "id": "a76f886a",
   "metadata": {},
   "source": [
    "# Classes Advanced (Cheat Sheet)\n",
    "\n",
    "\n",
    "### Using a class to make another class (Inheritance)\n",
    "I've created a class and it's really big, and I need to create another one, but not quite the same, but it has many if not all of the same properties of the first...\n",
    "\n",
    "We can re-use what we have created and inherit it to another class\n",
    "\n",
    "We can pass the first class in as a positional argument into the new class\n",
    "\n",
    "`\n",
    "#Car is an object of type objects\n",
    "class Car:\n",
    "    pass\n",
    "#Toyota is an object of type Car \n",
    "class Toyota(Car):\n",
    "    pass\n",
    "`\n",
    "\n",
    "### Initializing a class with inheritance\n",
    "When using inheritance, the parent class __init__ variables are still required unless we change that behavior\n",
    "\n",
    "Will require the parent class, *color*, *km_per_liter*, to be included on initialization\n",
    "\n",
    "`\n",
    "class Car:\n",
    "    def __init__(self, color, km_per_liter):\n",
    "        self.color = color\n",
    "        self.km_per_liter = km_per_liter\n",
    "class Toyota(Car):\n",
    "    pass\n",
    "`\n",
    "\n",
    "Will **NOT** require the parent class, *color*, *km_per_liter*, to be included on initialization\n",
    "\n",
    "This option allows for me to have my own options\n",
    "\n",
    "`\n",
    "class Car:\n",
    "    def __init__(self, color, km_per_liter):\n",
    "        self.color = color\n",
    "        self.km_per_liter = km_per_liter\n",
    "class Toyota(Car):\n",
    "    def __init__(self, sunroof, air_con):\n",
    "        self.sunroof = sunroof\n",
    "        self.air_con = air_con\n",
    "`\n",
    "\n",
    "What if we want to create another class that has the same properties as another but we want to add a few things?\n",
    "\n",
    "`\n",
    "class Car:\n",
    "    def __init__(self, color, km_per_liter):\n",
    "        self.color = color\n",
    "        self.km_per_liter = km_per_liter\n",
    "class Toyota(Car):\n",
    "    def __init__(self, color, km_per_liter, sunroof, air_con):\n",
    "        super().__init__(color, km_per_liter)\n",
    "        self.sunroof = sunroof\n",
    "        self.air_con = air_con\n",
    "`\n",
    "\n",
    "### MRO - Method Resolution Order\n",
    "Order of Inherited classes matters\n",
    "\n",
    "With class C, the methods from class A will take precedence over class B because A was listed first.\n",
    "\n",
    "Methods from B will still be available but the initialization method will come from A.\n",
    "\n",
    "If methods between A and B are the same, order of inheritance will take precedence\n",
    "\n",
    "`\n",
    "class A:\n",
    "    def __init__(self, string):\n",
    "        self.string = string\n",
    "        print('From A:', self.string)\n",
    "    def print_me(self):\n",
    "        print('From A')\n",
    "class B:\n",
    "    def __init__(self, string):\n",
    "        self.string = string\n",
    "        print('From B:', self.string)\n",
    "    def print_me(self):\n",
    "        print('From A')\n",
    "class C(A,B):\n",
    "    def __init__(self, string):\n",
    "        super().__init__(string)\n",
    "        print('From C:', self.string)\n",
    "`\n"
   ]
  },
  {
   "cell_type": "code",
   "execution_count": 138,
   "id": "c81b845a",
   "metadata": {},
   "outputs": [],
   "source": [
    "\n",
    "# Car is an object of type object\n",
    "class Car(object):\n",
    "    def __init__(self, color, km_per_liter):\n",
    "        self.color = color\n",
    "        self.km_per_liter = km_per_liter\n",
    "   \n",
    "\n",
    "# Toyota is an object of type Car\n",
    "\n",
    "# This will use the attributes from Car\n",
    "class Toyota(Car):\n",
    "    pass\n",
    "\n",
    "        "
   ]
  },
  {
   "cell_type": "code",
   "execution_count": 139,
   "id": "937dde12",
   "metadata": {},
   "outputs": [],
   "source": [
    "car = Car('Blue', 15)"
   ]
  },
  {
   "cell_type": "code",
   "execution_count": 140,
   "id": "7d47c522",
   "metadata": {},
   "outputs": [
    {
     "ename": "TypeError",
     "evalue": "__init__() missing 2 required positional arguments: 'color' and 'km_per_liter'",
     "output_type": "error",
     "traceback": [
      "\u001b[0;31m---------------------------------------------------------------------------\u001b[0m",
      "\u001b[0;31mTypeError\u001b[0m                                 Traceback (most recent call last)",
      "Input \u001b[0;32mIn [140]\u001b[0m, in \u001b[0;36m<cell line: 1>\u001b[0;34m()\u001b[0m\n\u001b[0;32m----> 1\u001b[0m toyota \u001b[38;5;241m=\u001b[39m \u001b[43mToyota\u001b[49m\u001b[43m(\u001b[49m\u001b[43m)\u001b[49m\n",
      "\u001b[0;31mTypeError\u001b[0m: __init__() missing 2 required positional arguments: 'color' and 'km_per_liter'"
     ]
    }
   ],
   "source": [
    "toyota = Toyota()"
   ]
  },
  {
   "cell_type": "code",
   "execution_count": 142,
   "id": "f0e13c80",
   "metadata": {},
   "outputs": [],
   "source": [
    "# Car is an object of type object\n",
    "class Car(object):\n",
    "    def __init__(self, color, km_per_liter):\n",
    "        self.color = color\n",
    "        self.km_per_liter = km_per_liter\n",
    "   \n",
    "    def car_method(self):\n",
    "        return print('This is the Car Class')\n",
    "\n",
    "# We want to use our own attributes and ignore the attributes from the Car class\n",
    "class Toyota(Car):\n",
    "    def __init__(self, sunroof, air_con):\n",
    "        self.sunroof = sunroof\n",
    "        self.air_con = air_con\n"
   ]
  },
  {
   "cell_type": "code",
   "execution_count": 143,
   "id": "e3bf2ed3",
   "metadata": {},
   "outputs": [],
   "source": [
    "car = Car('Blue', 15)"
   ]
  },
  {
   "cell_type": "code",
   "execution_count": 144,
   "id": "e33b7a06",
   "metadata": {},
   "outputs": [],
   "source": [
    "toyota = Toyota(True, True)"
   ]
  },
  {
   "cell_type": "code",
   "execution_count": 145,
   "id": "befd9d82",
   "metadata": {},
   "outputs": [
    {
     "name": "stdout",
     "output_type": "stream",
     "text": [
      "This is the Car Class\n"
     ]
    }
   ],
   "source": [
    "toyota.car_method()"
   ]
  },
  {
   "cell_type": "code",
   "execution_count": 146,
   "id": "79ad4ef4",
   "metadata": {},
   "outputs": [
    {
     "data": {
      "text/plain": [
       "['__class__',\n",
       " '__delattr__',\n",
       " '__dict__',\n",
       " '__dir__',\n",
       " '__doc__',\n",
       " '__eq__',\n",
       " '__format__',\n",
       " '__ge__',\n",
       " '__getattribute__',\n",
       " '__gt__',\n",
       " '__hash__',\n",
       " '__init__',\n",
       " '__init_subclass__',\n",
       " '__le__',\n",
       " '__lt__',\n",
       " '__module__',\n",
       " '__ne__',\n",
       " '__new__',\n",
       " '__reduce__',\n",
       " '__reduce_ex__',\n",
       " '__repr__',\n",
       " '__setattr__',\n",
       " '__sizeof__',\n",
       " '__str__',\n",
       " '__subclasshook__',\n",
       " '__weakref__',\n",
       " 'air_con',\n",
       " 'car_method',\n",
       " 'sunroof']"
      ]
     },
     "execution_count": 146,
     "metadata": {},
     "output_type": "execute_result"
    }
   ],
   "source": [
    "dir(toyota)"
   ]
  },
  {
   "cell_type": "code",
   "execution_count": 160,
   "id": "fc5d22f0",
   "metadata": {},
   "outputs": [],
   "source": [
    "class Car(object):\n",
    "    def __init__(self, color, km_per_liter):\n",
    "        self.color = color\n",
    "        self.km_per_liter = km_per_liter\n",
    "   \n",
    "\n",
    "# This will use the attributes from Car\n",
    "class Toyota(Car):\n",
    "    def __init__(self, color, km_per_liter, sunroof, air_con):\n",
    "        super().__init__(color, km_per_liter)\n",
    "        self.sunroof = sunroof\n",
    "        self.air_con = air_con\n",
    "        \n",
    "\n",
    "        "
   ]
  },
  {
   "cell_type": "code",
   "execution_count": 157,
   "id": "403c659e",
   "metadata": {},
   "outputs": [],
   "source": [
    "car = Car('Blue', 15)"
   ]
  },
  {
   "cell_type": "code",
   "execution_count": 158,
   "id": "fac9eb02",
   "metadata": {},
   "outputs": [],
   "source": [
    "toyota = Toyota('Blue', 15, True,True)"
   ]
  },
  {
   "cell_type": "code",
   "execution_count": 159,
   "id": "3641d22f",
   "metadata": {},
   "outputs": [
    {
     "data": {
      "text/plain": [
       "['__class__',\n",
       " '__delattr__',\n",
       " '__dict__',\n",
       " '__dir__',\n",
       " '__doc__',\n",
       " '__eq__',\n",
       " '__format__',\n",
       " '__ge__',\n",
       " '__getattribute__',\n",
       " '__gt__',\n",
       " '__hash__',\n",
       " '__init__',\n",
       " '__init_subclass__',\n",
       " '__le__',\n",
       " '__lt__',\n",
       " '__module__',\n",
       " '__ne__',\n",
       " '__new__',\n",
       " '__reduce__',\n",
       " '__reduce_ex__',\n",
       " '__repr__',\n",
       " '__setattr__',\n",
       " '__sizeof__',\n",
       " '__str__',\n",
       " '__subclasshook__',\n",
       " '__weakref__',\n",
       " 'air_con',\n",
       " 'color',\n",
       " 'km_per_liter',\n",
       " 'sunroof']"
      ]
     },
     "execution_count": 159,
     "metadata": {},
     "output_type": "execute_result"
    }
   ],
   "source": [
    "dir(toyota)"
   ]
  },
  {
   "cell_type": "code",
   "execution_count": 186,
   "id": "e1514113",
   "metadata": {},
   "outputs": [],
   "source": [
    "class Car:\n",
    "    def __init__(self, color, km_per_liter):\n",
    "        self.color = color\n",
    "        self.km_per_liter = km_per_liter\n",
    "   \n",
    "    def car_method(self):\n",
    "        return print('Car Method')\n",
    "# This will use the attributes from Car\n",
    "class Toyota(Car):\n",
    "    def __init__(self, color, km_per_liter, sunroof, air_con):\n",
    "        super().__init__(color, km_per_liter)\n",
    "        self.sunroof = sunroof\n",
    "        self.air_con = air_con\n",
    "\n",
    "    def toyota_method(self):\n",
    "        return print('Toyota Method')\n",
    "\n",
    "class Yaris(Toyota):\n",
    "    def __init__(self, color, km_per_liter, sunroof, air_con, doors, wheels):\n",
    "        super().__init__(color, km_per_liter, sunroof, air_con)\n",
    "        self.doors = doors\n",
    "        self.wheels = wheels\n",
    "    def yaris_method(self):\n",
    "        return print('Yaris Method')"
   ]
  },
  {
   "cell_type": "code",
   "execution_count": 180,
   "id": "32257ccc",
   "metadata": {},
   "outputs": [],
   "source": [
    "yaris = Yaris('Blue', 15, True, True, 2, 4)"
   ]
  },
  {
   "cell_type": "code",
   "execution_count": 169,
   "id": "4110a34e",
   "metadata": {},
   "outputs": [
    {
     "data": {
      "text/plain": [
       "['__class__',\n",
       " '__delattr__',\n",
       " '__dict__',\n",
       " '__dir__',\n",
       " '__doc__',\n",
       " '__eq__',\n",
       " '__format__',\n",
       " '__ge__',\n",
       " '__getattribute__',\n",
       " '__gt__',\n",
       " '__hash__',\n",
       " '__init__',\n",
       " '__init_subclass__',\n",
       " '__le__',\n",
       " '__lt__',\n",
       " '__module__',\n",
       " '__ne__',\n",
       " '__new__',\n",
       " '__reduce__',\n",
       " '__reduce_ex__',\n",
       " '__repr__',\n",
       " '__setattr__',\n",
       " '__sizeof__',\n",
       " '__str__',\n",
       " '__subclasshook__',\n",
       " '__weakref__',\n",
       " 'air_con',\n",
       " 'car_method',\n",
       " 'color',\n",
       " 'doors',\n",
       " 'km_per_liter',\n",
       " 'sunroof',\n",
       " 'toyota_method',\n",
       " 'wheels',\n",
       " 'yaris_method']"
      ]
     },
     "execution_count": 169,
     "metadata": {},
     "output_type": "execute_result"
    }
   ],
   "source": [
    "dir(yaris)"
   ]
  },
  {
   "cell_type": "code",
   "execution_count": 170,
   "id": "085212d6",
   "metadata": {},
   "outputs": [
    {
     "name": "stdout",
     "output_type": "stream",
     "text": [
      "Car Method\n"
     ]
    }
   ],
   "source": [
    "yaris.car_method()"
   ]
  },
  {
   "cell_type": "code",
   "execution_count": 171,
   "id": "f6675981",
   "metadata": {},
   "outputs": [
    {
     "name": "stdout",
     "output_type": "stream",
     "text": [
      "Toyota Method\n"
     ]
    }
   ],
   "source": [
    "yaris.toyota_method()"
   ]
  },
  {
   "cell_type": "code",
   "execution_count": 172,
   "id": "3c597e03",
   "metadata": {},
   "outputs": [
    {
     "name": "stdout",
     "output_type": "stream",
     "text": [
      "Yaris Method\n"
     ]
    }
   ],
   "source": [
    "yaris.yaris_method()"
   ]
  },
  {
   "cell_type": "code",
   "execution_count": 181,
   "id": "03a61ddb",
   "metadata": {},
   "outputs": [],
   "source": [
    "car = Car('Blue', 15)"
   ]
  },
  {
   "cell_type": "code",
   "execution_count": 182,
   "id": "936a7dfb",
   "metadata": {},
   "outputs": [
    {
     "data": {
      "text/plain": [
       "['__class__',\n",
       " '__delattr__',\n",
       " '__dict__',\n",
       " '__dir__',\n",
       " '__doc__',\n",
       " '__eq__',\n",
       " '__format__',\n",
       " '__ge__',\n",
       " '__getattribute__',\n",
       " '__gt__',\n",
       " '__hash__',\n",
       " '__init__',\n",
       " '__init_subclass__',\n",
       " '__le__',\n",
       " '__lt__',\n",
       " '__module__',\n",
       " '__ne__',\n",
       " '__new__',\n",
       " '__reduce__',\n",
       " '__reduce_ex__',\n",
       " '__repr__',\n",
       " '__setattr__',\n",
       " '__sizeof__',\n",
       " '__str__',\n",
       " '__subclasshook__',\n",
       " '__weakref__',\n",
       " 'car_method',\n",
       " 'color',\n",
       " 'km_per_liter',\n",
       " 'toyota_method',\n",
       " 'yaris_method']"
      ]
     },
     "execution_count": 182,
     "metadata": {},
     "output_type": "execute_result"
    }
   ],
   "source": [
    "dir(car)"
   ]
  },
  {
   "cell_type": "code",
   "execution_count": 183,
   "id": "dc8bf935",
   "metadata": {},
   "outputs": [
    {
     "name": "stdout",
     "output_type": "stream",
     "text": [
      "Car Method\n"
     ]
    }
   ],
   "source": [
    "car.car_method()"
   ]
  },
  {
   "cell_type": "code",
   "execution_count": 184,
   "id": "5a2b2e97",
   "metadata": {},
   "outputs": [
    {
     "name": "stdout",
     "output_type": "stream",
     "text": [
      "Toyota Method\n"
     ]
    }
   ],
   "source": [
    "car.toyota_method()"
   ]
  },
  {
   "cell_type": "code",
   "execution_count": 185,
   "id": "3352e75b",
   "metadata": {},
   "outputs": [
    {
     "name": "stdout",
     "output_type": "stream",
     "text": [
      "Yaris Method\n"
     ]
    }
   ],
   "source": [
    "car.yaris_method()"
   ]
  },
  {
   "cell_type": "code",
   "execution_count": 222,
   "id": "9986da72",
   "metadata": {},
   "outputs": [],
   "source": [
    "# Method Resolution Order\n",
    "\n",
    "class A:\n",
    "    def __init__(self,string):\n",
    "        self.string = string\n",
    "        print('From A:', self.string)\n",
    "\n",
    "    def print_me(self):\n",
    "        return print('From A')\n",
    "\n",
    "class B:\n",
    "    def __init__(self, string):\n",
    "        self.string = string\n",
    "        print('From B:', self.string)\n",
    "\n",
    "    def print_me2(self):\n",
    "        return print('From B')\n",
    "\n",
    "    \n",
    "class C:\n",
    "    def __init__(self,string):\n",
    "        self.string = string\n",
    "        print('From C:', self.string)\n",
    "\n",
    "    def print_me(self):\n",
    "        return print('From C')\n",
    "\n",
    "class D:\n",
    "    def __init__(self, string):\n",
    "        self.string = string\n",
    "        print('From D:', self.string)\n",
    "\n",
    "    def print_me2(self):\n",
    "        return print('From D')\n",
    "\n",
    "class E:\n",
    "    def __init__(self,string):\n",
    "        self.string = string\n",
    "        print('From E:', self.string)\n",
    "\n",
    "    def print_me(self):\n",
    "        return print('From E')\n",
    "\n",
    "class F:\n",
    "    def __init__(self, string):\n",
    "        self.string = string\n",
    "        print('From F:', self.string)\n",
    "\n",
    "    def print_me2(self):\n",
    "        return print('From F')\n",
    "\n",
    "# Initialization methods and methods with the same name, the first Class in order of appearance will take precedence\n",
    "\n",
    "# My rule of thumb, no more than 4 inherited classes before creating a new class\n",
    "class E(A, B, C, D):\n",
    "    pass\n",
    "\n",
    "class F(E):\n",
    "    pass\n",
    "\n",
    "\n"
   ]
  },
  {
   "cell_type": "code",
   "execution_count": 215,
   "id": "1db3f09b",
   "metadata": {},
   "outputs": [
    {
     "name": "stdout",
     "output_type": "stream",
     "text": [
      "From A: A\n"
     ]
    }
   ],
   "source": [
    "a = A('A')"
   ]
  },
  {
   "cell_type": "code",
   "execution_count": 216,
   "id": "a389a0f4",
   "metadata": {},
   "outputs": [
    {
     "name": "stdout",
     "output_type": "stream",
     "text": [
      "From B: B\n"
     ]
    }
   ],
   "source": [
    "b = B('B')"
   ]
  },
  {
   "cell_type": "code",
   "execution_count": 217,
   "id": "765c2447",
   "metadata": {},
   "outputs": [
    {
     "name": "stdout",
     "output_type": "stream",
     "text": [
      "From A: C\n",
      "From C: C\n"
     ]
    }
   ],
   "source": [
    "c = C('C')"
   ]
  },
  {
   "cell_type": "code",
   "execution_count": 220,
   "id": "bc6a968b",
   "metadata": {},
   "outputs": [
    {
     "name": "stdout",
     "output_type": "stream",
     "text": [
      "From A\n"
     ]
    }
   ],
   "source": [
    "c.print_me()"
   ]
  },
  {
   "cell_type": "code",
   "execution_count": 221,
   "id": "33fd52aa",
   "metadata": {},
   "outputs": [
    {
     "name": "stdout",
     "output_type": "stream",
     "text": [
      "From B\n"
     ]
    }
   ],
   "source": [
    "c.print_me2()"
   ]
  },
  {
   "cell_type": "code",
   "execution_count": null,
   "id": "7241c951",
   "metadata": {},
   "outputs": [],
   "source": []
  },
  {
   "cell_type": "code",
   "execution_count": null,
   "id": "bc232cc8",
   "metadata": {},
   "outputs": [],
   "source": []
  },
  {
   "cell_type": "code",
   "execution_count": null,
   "id": "63675e37",
   "metadata": {},
   "outputs": [],
   "source": []
  },
  {
   "cell_type": "code",
   "execution_count": null,
   "id": "3a143574",
   "metadata": {},
   "outputs": [],
   "source": []
  },
  {
   "cell_type": "code",
   "execution_count": null,
   "id": "2c87cdf8",
   "metadata": {},
   "outputs": [],
   "source": []
  },
  {
   "cell_type": "code",
   "execution_count": null,
   "id": "d43e5510",
   "metadata": {},
   "outputs": [],
   "source": []
  },
  {
   "cell_type": "code",
   "execution_count": null,
   "id": "5dbe56a8",
   "metadata": {},
   "outputs": [],
   "source": []
  },
  {
   "cell_type": "code",
   "execution_count": null,
   "id": "203db5b4",
   "metadata": {},
   "outputs": [],
   "source": []
  },
  {
   "cell_type": "code",
   "execution_count": null,
   "id": "6345a177",
   "metadata": {},
   "outputs": [],
   "source": []
  },
  {
   "cell_type": "code",
   "execution_count": null,
   "id": "0a691a2c",
   "metadata": {},
   "outputs": [],
   "source": []
  },
  {
   "cell_type": "code",
   "execution_count": null,
   "id": "7acfd795",
   "metadata": {},
   "outputs": [],
   "source": []
  },
  {
   "cell_type": "code",
   "execution_count": null,
   "id": "8e8ab7dc",
   "metadata": {},
   "outputs": [],
   "source": []
  },
  {
   "cell_type": "code",
   "execution_count": null,
   "id": "722e7af4",
   "metadata": {},
   "outputs": [],
   "source": []
  },
  {
   "cell_type": "code",
   "execution_count": null,
   "id": "0c451e26",
   "metadata": {},
   "outputs": [],
   "source": []
  },
  {
   "cell_type": "code",
   "execution_count": null,
   "id": "87f31215",
   "metadata": {},
   "outputs": [],
   "source": []
  },
  {
   "cell_type": "code",
   "execution_count": null,
   "id": "ce887dd8",
   "metadata": {},
   "outputs": [],
   "source": []
  },
  {
   "cell_type": "code",
   "execution_count": null,
   "id": "0461daab",
   "metadata": {},
   "outputs": [],
   "source": []
  },
  {
   "cell_type": "code",
   "execution_count": null,
   "id": "bcc932db",
   "metadata": {},
   "outputs": [],
   "source": []
  },
  {
   "cell_type": "code",
   "execution_count": null,
   "id": "243f6686",
   "metadata": {},
   "outputs": [],
   "source": []
  },
  {
   "cell_type": "code",
   "execution_count": null,
   "id": "e42c635b",
   "metadata": {},
   "outputs": [],
   "source": []
  },
  {
   "cell_type": "code",
   "execution_count": null,
   "id": "39c80c14",
   "metadata": {},
   "outputs": [],
   "source": []
  },
  {
   "cell_type": "code",
   "execution_count": null,
   "id": "22f5aabb",
   "metadata": {},
   "outputs": [],
   "source": []
  }
 ],
 "metadata": {
  "kernelspec": {
   "display_name": "Python 3 (ipykernel)",
   "language": "python",
   "name": "python3"
  },
  "language_info": {
   "codemirror_mode": {
    "name": "ipython",
    "version": 3
   },
   "file_extension": ".py",
   "mimetype": "text/x-python",
   "name": "python",
   "nbconvert_exporter": "python",
   "pygments_lexer": "ipython3",
   "version": "3.9.10"
  }
 },
 "nbformat": 4,
 "nbformat_minor": 5
}

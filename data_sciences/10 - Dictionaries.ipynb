{
 "cells": [
  {
   "cell_type": "markdown",
   "id": "b9f8e3b8",
   "metadata": {},
   "source": [
    "# Dictionaries\n",
    "\n",
    "### What are Dictionaries?\n",
    "A Key Value Pair data storage method, like a real dictionary or a database\n",
    "\n",
    "Data doesn't follow any order or any particular rules outside of format\n",
    "\n",
    "Dictionaries are Mutable meaning that we can change the contents without re-assigning the entire list\n",
    "\n",
    "### Why do we use Dictionaries?\n",
    "Dictionaries allow for per item processing similar to lists\n",
    "\n",
    "Can store all data types including lists, dictionaries and other data types\n",
    "\n",
    "Unordered so it saves on Memory\n",
    "\n",
    "Dictionaries are a really quick and easy way to store data for use within a program\n",
    "\n",
    "Most common use case in applications is to store database entries into dictionaries  \n",
    "ie faster interaction with the user\n",
    "\n",
    "Be careful to not name your variable 'dict' because *dict* is an actual function in python\n",
    "\n",
    "### Creating a Dictionary\n",
    "Use Curly brackets on each end\n",
    "\n",
    "Each key must be a string followed by a closing/separating colon ':'\n",
    "\n",
    "Most Common `dict1 = {'key1':'Value1', 'key2':'Value2'}`\n",
    "\n",
    "Another way `dict(key1='value1', key2='value2')`\n",
    "\n",
    "### Dictionary Accessing and Assigning\n",
    "\n",
    "###### Accessing\n",
    "`dict1['key']`\n",
    "\n",
    "There is no index with dictionaries so indexing/slicing is not applicable\n",
    "\n",
    "###### Assigning / Re-assigning\n",
    "`dict1['key'] = 'New Value'`\n",
    "\n",
    "###### Deleting values\n",
    "`del dict1['key']`\n",
    "\n",
    "### Dictionary Copying (be careful)\n",
    "Dictionary copying does not work the way one thinks that copying works\n",
    "\n",
    "`dict2 = dict1.copy()`\n",
    "\n",
    "### Common Methods\n",
    "\n",
    "###### keys, values, items and get\n",
    "Returns the keys of the dictionary `dict1.keys()`\n",
    "\n",
    "Returns the values of the dictionary `dict1.values()`\n",
    "\n",
    "Returns both the keys and values of the dictionary `dict1.items()`\n",
    "\n",
    "Returns a default value if the key does not exist `dict1.get('key', False/None/Default Value)`\n"
   ]
  },
  {
   "cell_type": "code",
   "execution_count": 74,
   "id": "34a8ba11",
   "metadata": {},
   "outputs": [],
   "source": [
    "my_dictionary = {'key1':'Value1', 'key2':'Value2'}"
   ]
  },
  {
   "cell_type": "code",
   "execution_count": 75,
   "id": "38455d65",
   "metadata": {},
   "outputs": [
    {
     "data": {
      "text/plain": [
       "{'key1': 'Value1', 'key2': 'Value2'}"
      ]
     },
     "execution_count": 75,
     "metadata": {},
     "output_type": "execute_result"
    }
   ],
   "source": [
    "my_dictionary"
   ]
  },
  {
   "cell_type": "code",
   "execution_count": 76,
   "id": "0b102217",
   "metadata": {},
   "outputs": [
    {
     "data": {
      "text/plain": [
       "'Value1'"
      ]
     },
     "execution_count": 76,
     "metadata": {},
     "output_type": "execute_result"
    }
   ],
   "source": [
    "my_dictionary['key1']"
   ]
  },
  {
   "cell_type": "code",
   "execution_count": 77,
   "id": "02f64394",
   "metadata": {},
   "outputs": [
    {
     "ename": "KeyError",
     "evalue": "'key3'",
     "output_type": "error",
     "traceback": [
      "\u001b[0;31m---------------------------------------------------------------------------\u001b[0m",
      "\u001b[0;31mKeyError\u001b[0m                                  Traceback (most recent call last)",
      "Input \u001b[0;32mIn [77]\u001b[0m, in \u001b[0;36m<cell line: 1>\u001b[0;34m()\u001b[0m\n\u001b[0;32m----> 1\u001b[0m \u001b[43mmy_dictionary\u001b[49m\u001b[43m[\u001b[49m\u001b[38;5;124;43m'\u001b[39;49m\u001b[38;5;124;43mkey3\u001b[39;49m\u001b[38;5;124;43m'\u001b[39;49m\u001b[43m]\u001b[49m\n",
      "\u001b[0;31mKeyError\u001b[0m: 'key3'"
     ]
    }
   ],
   "source": [
    "my_dictionary['key3']"
   ]
  },
  {
   "cell_type": "code",
   "execution_count": 78,
   "id": "c5faa51f",
   "metadata": {},
   "outputs": [],
   "source": [
    "my_dictionary['key3'] = 'Value3'"
   ]
  },
  {
   "cell_type": "code",
   "execution_count": 79,
   "id": "6c6d1103",
   "metadata": {},
   "outputs": [
    {
     "data": {
      "text/plain": [
       "{'key1': 'Value1', 'key2': 'Value2', 'key3': 'Value3'}"
      ]
     },
     "execution_count": 79,
     "metadata": {},
     "output_type": "execute_result"
    }
   ],
   "source": [
    "my_dictionary"
   ]
  },
  {
   "cell_type": "code",
   "execution_count": 80,
   "id": "e7a50353",
   "metadata": {},
   "outputs": [
    {
     "data": {
      "text/plain": [
       "'Value3'"
      ]
     },
     "execution_count": 80,
     "metadata": {},
     "output_type": "execute_result"
    }
   ],
   "source": [
    "my_dictionary['key3']"
   ]
  },
  {
   "cell_type": "code",
   "execution_count": 98,
   "id": "92024d5a",
   "metadata": {},
   "outputs": [],
   "source": [
    "my_dictionary[0] = 'We can use Numbers as keys as well'"
   ]
  },
  {
   "cell_type": "code",
   "execution_count": 99,
   "id": "d3aaa1bb",
   "metadata": {},
   "outputs": [
    {
     "data": {
      "text/plain": [
       "{'key1': 'Value1',\n",
       " 'key2': 'Value2',\n",
       " 'key3': 'Value3',\n",
       " 0: 'We can use Numbers as keys as well'}"
      ]
     },
     "execution_count": 99,
     "metadata": {},
     "output_type": "execute_result"
    }
   ],
   "source": [
    "my_dictionary"
   ]
  },
  {
   "cell_type": "code",
   "execution_count": 84,
   "id": "da83474c",
   "metadata": {},
   "outputs": [
    {
     "data": {
      "text/plain": [
       "'We can use Numbers as keys as well'"
      ]
     },
     "execution_count": 84,
     "metadata": {},
     "output_type": "execute_result"
    }
   ],
   "source": [
    "# It is recommended to use Strings for keys but we can use numbers if we want to\n",
    "\n",
    "my_dictionary[0]"
   ]
  },
  {
   "cell_type": "code",
   "execution_count": 100,
   "id": "aa4b65f9",
   "metadata": {},
   "outputs": [],
   "source": [
    "# If we don't use the copy function we get a shallow copy which will only create pointers and not an actual copy\n",
    "\n",
    "copy_dictionary = my_dictionary.copy()"
   ]
  },
  {
   "cell_type": "code",
   "execution_count": 101,
   "id": "0680e255",
   "metadata": {},
   "outputs": [
    {
     "data": {
      "text/plain": [
       "{'key1': 'Value1',\n",
       " 'key2': 'Value2',\n",
       " 'key3': 'Value3',\n",
       " 0: 'We can use Numbers as keys as well'}"
      ]
     },
     "execution_count": 101,
     "metadata": {},
     "output_type": "execute_result"
    }
   ],
   "source": [
    "copy_dictionary"
   ]
  },
  {
   "cell_type": "code",
   "execution_count": 102,
   "id": "0e02941a",
   "metadata": {},
   "outputs": [],
   "source": [
    "# Removing values from the dictionary\n",
    "\n",
    "del copy_dictionary[0]"
   ]
  },
  {
   "cell_type": "code",
   "execution_count": 103,
   "id": "09590154",
   "metadata": {},
   "outputs": [
    {
     "data": {
      "text/plain": [
       "{'key1': 'Value1', 'key2': 'Value2', 'key3': 'Value3'}"
      ]
     },
     "execution_count": 103,
     "metadata": {},
     "output_type": "execute_result"
    }
   ],
   "source": [
    "copy_dictionary"
   ]
  },
  {
   "cell_type": "code",
   "execution_count": 104,
   "id": "9ad98afd",
   "metadata": {},
   "outputs": [
    {
     "data": {
      "text/plain": [
       "{'key1': 'Value1',\n",
       " 'key2': 'Value2',\n",
       " 'key3': 'Value3',\n",
       " 0: 'We can use Numbers as keys as well'}"
      ]
     },
     "execution_count": 104,
     "metadata": {},
     "output_type": "execute_result"
    }
   ],
   "source": [
    "my_dictionary"
   ]
  },
  {
   "cell_type": "code",
   "execution_count": 109,
   "id": "f07baece",
   "metadata": {},
   "outputs": [
    {
     "name": "stdout",
     "output_type": "stream",
     "text": [
      "key1\n",
      "Value1\n",
      "key2\n",
      "Value2\n",
      "key3\n",
      "Value3\n",
      "0\n",
      "We can use Numbers as keys as well\n"
     ]
    }
   ],
   "source": [
    "# How do we iterate through a dictionary\n",
    "\n",
    "\n",
    "# By default the for loop will give us the keys of the dictionary\n",
    "\n",
    "for key in my_dictionary:\n",
    "    print(key)\n",
    "    print(my_dictionary[key])"
   ]
  },
  {
   "cell_type": "code",
   "execution_count": 110,
   "id": "f90a6c7e",
   "metadata": {},
   "outputs": [
    {
     "name": "stdout",
     "output_type": "stream",
     "text": [
      "key1\n",
      "key2\n",
      "key3\n",
      "0\n"
     ]
    }
   ],
   "source": [
    "for key in my_dictionary.keys():\n",
    "    print(key)"
   ]
  },
  {
   "cell_type": "code",
   "execution_count": 111,
   "id": "cedeb7ae",
   "metadata": {},
   "outputs": [
    {
     "name": "stdout",
     "output_type": "stream",
     "text": [
      "Value1\n",
      "Value2\n",
      "Value3\n",
      "We can use Numbers as keys as well\n"
     ]
    }
   ],
   "source": [
    "for values in my_dictionary.values():\n",
    "    print(values)"
   ]
  },
  {
   "cell_type": "code",
   "execution_count": 116,
   "id": "305be59b",
   "metadata": {},
   "outputs": [
    {
     "name": "stdout",
     "output_type": "stream",
     "text": [
      "Key1 - VALUE1\n",
      "Key2 - VALUE2\n",
      "Key3 - VALUE3\n"
     ]
    },
    {
     "ename": "AttributeError",
     "evalue": "'int' object has no attribute 'title'",
     "output_type": "error",
     "traceback": [
      "\u001b[0;31m---------------------------------------------------------------------------\u001b[0m",
      "\u001b[0;31mAttributeError\u001b[0m                            Traceback (most recent call last)",
      "Input \u001b[0;32mIn [116]\u001b[0m, in \u001b[0;36m<cell line: 1>\u001b[0;34m()\u001b[0m\n\u001b[1;32m      1\u001b[0m \u001b[38;5;28;01mfor\u001b[39;00m key, value \u001b[38;5;129;01min\u001b[39;00m my_dictionary\u001b[38;5;241m.\u001b[39mitems():\n\u001b[0;32m----> 2\u001b[0m     \u001b[38;5;28mprint\u001b[39m(\u001b[38;5;124mf\u001b[39m\u001b[38;5;124m'\u001b[39m\u001b[38;5;132;01m{\u001b[39;00mkey\u001b[38;5;241m.\u001b[39mtitle()\u001b[38;5;132;01m}\u001b[39;00m\u001b[38;5;124m - \u001b[39m\u001b[38;5;132;01m{\u001b[39;00mvalue\u001b[38;5;241m.\u001b[39mupper()\u001b[38;5;132;01m}\u001b[39;00m\u001b[38;5;124m'\u001b[39m)\n",
      "\u001b[0;31mAttributeError\u001b[0m: 'int' object has no attribute 'title'"
     ]
    }
   ],
   "source": [
    "for key, value in my_dictionary.items():\n",
    "    print(f'{key.title()} - {value.upper()}')"
   ]
  },
  {
   "cell_type": "code",
   "execution_count": 119,
   "id": "7e51b762",
   "metadata": {},
   "outputs": [
    {
     "ename": "KeyError",
     "evalue": "'key4'",
     "output_type": "error",
     "traceback": [
      "\u001b[0;31m---------------------------------------------------------------------------\u001b[0m",
      "\u001b[0;31mKeyError\u001b[0m                                  Traceback (most recent call last)",
      "Input \u001b[0;32mIn [119]\u001b[0m, in \u001b[0;36m<cell line: 1>\u001b[0;34m()\u001b[0m\n\u001b[0;32m----> 1\u001b[0m \u001b[43mmy_dictionary\u001b[49m\u001b[43m[\u001b[49m\u001b[38;5;124;43m'\u001b[39;49m\u001b[38;5;124;43mkey4\u001b[39;49m\u001b[38;5;124;43m'\u001b[39;49m\u001b[43m]\u001b[49m\n",
      "\u001b[0;31mKeyError\u001b[0m: 'key4'"
     ]
    }
   ],
   "source": [
    "my_dictionary['key4']"
   ]
  },
  {
   "cell_type": "code",
   "execution_count": 131,
   "id": "c644b833",
   "metadata": {},
   "outputs": [],
   "source": [
    "# The get method prevents our program from crashing and returns None by default or a value of our choice\n",
    "\n",
    "key4 = my_dictionary.get('key4', 555)"
   ]
  },
  {
   "cell_type": "code",
   "execution_count": 132,
   "id": "fd460a9a",
   "metadata": {},
   "outputs": [
    {
     "data": {
      "text/plain": [
       "555"
      ]
     },
     "execution_count": 132,
     "metadata": {},
     "output_type": "execute_result"
    }
   ],
   "source": [
    "key4"
   ]
  },
  {
   "cell_type": "code",
   "execution_count": null,
   "id": "98b737c5",
   "metadata": {},
   "outputs": [],
   "source": []
  },
  {
   "cell_type": "code",
   "execution_count": null,
   "id": "897027b3",
   "metadata": {},
   "outputs": [],
   "source": []
  },
  {
   "cell_type": "code",
   "execution_count": null,
   "id": "99673b2b",
   "metadata": {},
   "outputs": [],
   "source": []
  },
  {
   "cell_type": "code",
   "execution_count": null,
   "id": "e0fd7152",
   "metadata": {},
   "outputs": [],
   "source": []
  }
 ],
 "metadata": {
  "kernelspec": {
   "display_name": "Python 3 (ipykernel)",
   "language": "python",
   "name": "python3"
  },
  "language_info": {
   "codemirror_mode": {
    "name": "ipython",
    "version": 3
   },
   "file_extension": ".py",
   "mimetype": "text/x-python",
   "name": "python",
   "nbconvert_exporter": "python",
   "pygments_lexer": "ipython3",
   "version": "3.9.10"
  }
 },
 "nbformat": 4,
 "nbformat_minor": 5
}
